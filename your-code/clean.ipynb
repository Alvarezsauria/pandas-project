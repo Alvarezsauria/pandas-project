{
 "cells": [
  {
   "cell_type": "markdown",
   "id": "cheap-amount",
   "metadata": {},
   "source": [
    "**Importing libraries**"
   ]
  },
  {
   "cell_type": "code",
   "execution_count": 1,
   "id": "convertible-redhead",
   "metadata": {},
   "outputs": [],
   "source": [
    "import numpy as np\n",
    "import seaborn as sns\n",
    "import pandas as pd\n",
    "import matplotlib.pyplot as plt"
   ]
  },
  {
   "cell_type": "markdown",
   "id": "gothic-lying",
   "metadata": {},
   "source": [
    "**DataFrame**"
   ]
  },
  {
   "cell_type": "code",
   "execution_count": 2,
   "id": "alleged-empire",
   "metadata": {},
   "outputs": [],
   "source": [
    "# Reading and encoding dataframe\n",
    "attacks = pd.read_csv('/Users/victor/maria/ironhack_labs/attacks.csv', encoding='cp1252')\n",
    "# Making a copy with which we can work\n",
    "attacks_df = attacks.copy()"
   ]
  },
  {
   "cell_type": "code",
   "execution_count": 3,
   "id": "baking-cause",
   "metadata": {},
   "outputs": [
    {
     "name": "stdout",
     "output_type": "stream",
     "text": [
      "<class 'pandas.core.frame.DataFrame'>\n",
      "RangeIndex: 25723 entries, 0 to 25722\n",
      "Data columns (total 24 columns):\n",
      " #   Column                  Non-Null Count  Dtype  \n",
      "---  ------                  --------------  -----  \n",
      " 0   Case Number             8702 non-null   object \n",
      " 1   Date                    6302 non-null   object \n",
      " 2   Year                    6300 non-null   float64\n",
      " 3   Type                    6298 non-null   object \n",
      " 4   Country                 6252 non-null   object \n",
      " 5   Area                    5847 non-null   object \n",
      " 6   Location                5762 non-null   object \n",
      " 7   Activity                5758 non-null   object \n",
      " 8   Name                    6092 non-null   object \n",
      " 9   Sex                     5737 non-null   object \n",
      " 10  Age                     3471 non-null   object \n",
      " 11  Injury                  6274 non-null   object \n",
      " 12  Fatal (Y/N)             5763 non-null   object \n",
      " 13  Time                    2948 non-null   object \n",
      " 14  Species                 3464 non-null   object \n",
      " 15  Investigator or Source  6285 non-null   object \n",
      " 16  pdf                     6302 non-null   object \n",
      " 17  href formula            6301 non-null   object \n",
      " 18  href                    6302 non-null   object \n",
      " 19  Case Number.1           6302 non-null   object \n",
      " 20  Case Number.2           6302 non-null   object \n",
      " 21  original order          6309 non-null   float64\n",
      " 22  Unnamed: 22             1 non-null      object \n",
      " 23  Unnamed: 23             2 non-null      object \n",
      "dtypes: float64(2), object(22)\n",
      "memory usage: 4.7+ MB\n"
     ]
    }
   ],
   "source": [
    "# Getting some basic info\n",
    "attacks_df.info()"
   ]
  },
  {
   "cell_type": "code",
   "execution_count": 4,
   "id": "hearing-garage",
   "metadata": {},
   "outputs": [],
   "source": [
    "# Deleting complet empty rows\n",
    "attacks_df.dropna(axis = 0, how = 'all', inplace = True)\n",
    "# Reassigning the columns titles\n",
    "attacks_df.columns = attacks_df.columns.str.capitalize().str.strip()\n",
    "# Changing specific column name\n",
    "attacks_df = attacks_df.rename(columns = {'Fatal (y/n)': 'Fatal'})\n",
    "# Deleting further non-valuable columns\n",
    "attacks_df = attacks_df.drop(attacks_df[attacks_df['Case number'] == '0'].index)\n",
    "attacks_df = attacks_df.drop(attacks_df[attacks_df['Case number'] == 'xx'].index)\n",
    "# Showing all data in rows and columns\n",
    "pd.set_option('display.max_rows', 30)\n",
    "pd.set_option('display.max_columns', 24)"
   ]
  },
  {
   "cell_type": "code",
   "execution_count": 5,
   "id": "compressed-think",
   "metadata": {},
   "outputs": [
    {
     "name": "stdout",
     "output_type": "stream",
     "text": [
      "False\n",
      "False\n",
      "False\n",
      "False\n"
     ]
    }
   ],
   "source": [
    "# Checking if there is any valid ID\n",
    "print(attacks_df['Case number.1'].is_unique)\n",
    "print(attacks_df['Original order'].is_unique)\n",
    "print(attacks_df['Href'].is_unique)\n",
    "print(attacks_df['Pdf'].is_unique)"
   ]
  },
  {
   "cell_type": "code",
   "execution_count": 6,
   "id": "agricultural-mexico",
   "metadata": {},
   "outputs": [
    {
     "name": "stdout",
     "output_type": "stream",
     "text": [
      "Empty DataFrame\n",
      "Columns: [Case number, Date, Year, Type, Country, Area, Location, Activity, Name, Sex, Age, Injury, Fatal, Time, Species, Investigator or source, Pdf, Href formula, Href, Case number.1, Case number.2, Original order, Unnamed: 22, Unnamed: 23]\n",
      "Index: []\n"
     ]
    }
   ],
   "source": [
    "# Checking there are not duplicated rows, before setting a new ID\n",
    "duplicateRows = attacks_df[attacks_df.duplicated()]\n",
    "print(duplicateRows)"
   ]
  },
  {
   "cell_type": "code",
   "execution_count": 7,
   "id": "ceramic-think",
   "metadata": {},
   "outputs": [],
   "source": [
    "# Deleting non-valuable columns for the analysis\n",
    "attacks_df = attacks_df.drop(columns = ['Case number', 'Area', 'Name', 'Time', 'Investigator or source','Pdf','Href formula', 'Href', 'Case number.2', 'Original order', 'Unnamed: 22', 'Unnamed: 23'])\n",
    "# Case number: is not unique, and doesn't give us relevant information\n",
    "# Area: is a categorical variable with many different options, we will use Country instead\n",
    "# Name: doesn't give us relevant info about the attack\n",
    "# Time: is an incomplete variable\n",
    "# Invesigation or source: doesn't give us relevant information about the attack\n",
    "# Pdf: doesn't give us relevant info\n",
    "# Href formula: doesn't give us relevant info\n",
    "# Href: doesn't give us relevant info\n",
    "# Case number.2: repeated column\n",
    "# Original order: could be used to get the date easier, as well as Case Number, but we will use Date and Year instead\n",
    "# Unnamed: 22: empty column\n",
    "# Unnamed: 23: empty column"
   ]
  },
  {
   "cell_type": "code",
   "execution_count": 8,
   "id": "direct-estate",
   "metadata": {},
   "outputs": [],
   "source": [
    "# Setting a new ID\n",
    "attacks_df.index = [x for x in range(1, len(attacks_df.values)+1)]\n",
    "# Giving a new name to the column ID\n",
    "attacks_df.index.name = 'Attacks_ID'"
   ]
  },
  {
   "cell_type": "code",
   "execution_count": 9,
   "id": "super-stack",
   "metadata": {},
   "outputs": [
    {
     "name": "stdout",
     "output_type": "stream",
     "text": [
      "<class 'pandas.core.frame.DataFrame'>\n",
      "Int64Index: 6302 entries, 1 to 6302\n",
      "Data columns (total 12 columns):\n",
      " #   Column         Non-Null Count  Dtype  \n",
      "---  ------         --------------  -----  \n",
      " 0   Date           6302 non-null   object \n",
      " 1   Year           6300 non-null   float64\n",
      " 2   Type           6298 non-null   object \n",
      " 3   Country        6252 non-null   object \n",
      " 4   Location       5762 non-null   object \n",
      " 5   Activity       5758 non-null   object \n",
      " 6   Sex            5737 non-null   object \n",
      " 7   Age            3471 non-null   object \n",
      " 8   Injury         6274 non-null   object \n",
      " 9   Fatal          5763 non-null   object \n",
      " 10  Species        3464 non-null   object \n",
      " 11  Case number.1  6302 non-null   object \n",
      "dtypes: float64(1), object(11)\n",
      "memory usage: 640.0+ KB\n"
     ]
    }
   ],
   "source": [
    "attacks_df.info()"
   ]
  },
  {
   "cell_type": "markdown",
   "id": "centered-platinum",
   "metadata": {},
   "source": [
    "# Demographics"
   ]
  },
  {
   "cell_type": "code",
   "execution_count": 10,
   "id": "complicated-current",
   "metadata": {},
   "outputs": [
    {
     "data": {
      "text/html": [
       "<div>\n",
       "<style scoped>\n",
       "    .dataframe tbody tr th:only-of-type {\n",
       "        vertical-align: middle;\n",
       "    }\n",
       "\n",
       "    .dataframe tbody tr th {\n",
       "        vertical-align: top;\n",
       "    }\n",
       "\n",
       "    .dataframe thead th {\n",
       "        text-align: right;\n",
       "    }\n",
       "</style>\n",
       "<table border=\"1\" class=\"dataframe\">\n",
       "  <thead>\n",
       "    <tr style=\"text-align: right;\">\n",
       "      <th></th>\n",
       "      <th>Sex</th>\n",
       "      <th>Age</th>\n",
       "    </tr>\n",
       "    <tr>\n",
       "      <th>Attacks_ID</th>\n",
       "      <th></th>\n",
       "      <th></th>\n",
       "    </tr>\n",
       "  </thead>\n",
       "  <tbody>\n",
       "    <tr>\n",
       "      <th>1</th>\n",
       "      <td>F</td>\n",
       "      <td>57</td>\n",
       "    </tr>\n",
       "    <tr>\n",
       "      <th>2</th>\n",
       "      <td>F</td>\n",
       "      <td>11</td>\n",
       "    </tr>\n",
       "    <tr>\n",
       "      <th>3</th>\n",
       "      <td>M</td>\n",
       "      <td>48</td>\n",
       "    </tr>\n",
       "    <tr>\n",
       "      <th>4</th>\n",
       "      <td>M</td>\n",
       "      <td>NaN</td>\n",
       "    </tr>\n",
       "    <tr>\n",
       "      <th>5</th>\n",
       "      <td>M</td>\n",
       "      <td>NaN</td>\n",
       "    </tr>\n",
       "    <tr>\n",
       "      <th>...</th>\n",
       "      <td>...</td>\n",
       "      <td>...</td>\n",
       "    </tr>\n",
       "    <tr>\n",
       "      <th>6298</th>\n",
       "      <td>M</td>\n",
       "      <td>NaN</td>\n",
       "    </tr>\n",
       "    <tr>\n",
       "      <th>6299</th>\n",
       "      <td>M</td>\n",
       "      <td>NaN</td>\n",
       "    </tr>\n",
       "    <tr>\n",
       "      <th>6300</th>\n",
       "      <td>M</td>\n",
       "      <td>NaN</td>\n",
       "    </tr>\n",
       "    <tr>\n",
       "      <th>6301</th>\n",
       "      <td>M</td>\n",
       "      <td>NaN</td>\n",
       "    </tr>\n",
       "    <tr>\n",
       "      <th>6302</th>\n",
       "      <td>M</td>\n",
       "      <td>15</td>\n",
       "    </tr>\n",
       "  </tbody>\n",
       "</table>\n",
       "<p>6302 rows × 2 columns</p>\n",
       "</div>"
      ],
      "text/plain": [
       "           Sex  Age\n",
       "Attacks_ID         \n",
       "1            F   57\n",
       "2            F   11\n",
       "3            M   48\n",
       "4            M  NaN\n",
       "5            M  NaN\n",
       "...         ..  ...\n",
       "6298         M  NaN\n",
       "6299         M  NaN\n",
       "6300         M  NaN\n",
       "6301         M  NaN\n",
       "6302         M   15\n",
       "\n",
       "[6302 rows x 2 columns]"
      ]
     },
     "execution_count": 10,
     "metadata": {},
     "output_type": "execute_result"
    }
   ],
   "source": [
    "# Checking the status of the demographic columns\n",
    "attacks_df[['Sex','Age']]"
   ]
  },
  {
   "cell_type": "markdown",
   "id": "floppy-logging",
   "metadata": {},
   "source": [
    "## Age"
   ]
  },
  {
   "cell_type": "code",
   "execution_count": 11,
   "id": "timely-custody",
   "metadata": {},
   "outputs": [
    {
     "data": {
      "text/plain": [
       "count     3471\n",
       "unique     157\n",
       "top         17\n",
       "freq       154\n",
       "Name: Age, dtype: object"
      ]
     },
     "execution_count": 11,
     "metadata": {},
     "output_type": "execute_result"
    }
   ],
   "source": [
    "attacks_df.Age.describe()"
   ]
  },
  {
   "cell_type": "code",
   "execution_count": 12,
   "id": "helpful-welsh",
   "metadata": {},
   "outputs": [
    {
     "data": {
      "text/plain": [
       "NaN         2831\n",
       "17           154\n",
       "18           150\n",
       "19           142\n",
       "20           141\n",
       "            ... \n",
       "               1\n",
       "86             1\n",
       "33 & 26        1\n",
       "16 to 18       1\n",
       "9 months       1\n",
       "Name: Age, Length: 158, dtype: int64"
      ]
     },
     "execution_count": 12,
     "metadata": {},
     "output_type": "execute_result"
    }
   ],
   "source": [
    "attacks_df.Age.value_counts(dropna=False)"
   ]
  },
  {
   "cell_type": "markdown",
   "id": "lined-medicine",
   "metadata": {},
   "source": [
    "We have 640 valid data in Age, let's try to rise it a little bit"
   ]
  },
  {
   "cell_type": "code",
   "execution_count": 13,
   "id": "forty-outside",
   "metadata": {},
   "outputs": [
    {
     "data": {
      "text/plain": [
       "array(['57', '11', '48', nan, '18', '52', '15', '12', '32', '10', '21',\n",
       "       '34', '30', '60', '33', '29', '54', '41', '37', '56', '19', '25',\n",
       "       '69', '38', '55', '35', '46', '45', '14', '40s', '28', '20', '24',\n",
       "       '26', '49', '22', '7', '31', '17', '40', '13', '42', '3', '8',\n",
       "       '50', '16', '82', '73', '20s', '68', '51', '39', '58', 'Teen',\n",
       "       '47', '61', '65', '36', '66', '43', '60s', '9', '72', '59', '6',\n",
       "       '27', '64', '23', '71', '44', '62', '63', '70', '18 months', '53',\n",
       "       '30s', '50s', 'teen', '77', '74', '28 & 26', '5', '86', '18 or 20',\n",
       "       '12 or 13', '46 & 34', '28, 23 & 30', 'Teens', '36 & 26',\n",
       "       '8 or 10', '84', '\\xa0 ', ' ', '30 or 36', '6½', '21 & ?', '75',\n",
       "       '33 or 37', 'mid-30s', '23 & 20', ' 30', '7      &    31', ' 28',\n",
       "       '20?', \"60's\", '32 & 30', '16 to 18', '87', '67', 'Elderly',\n",
       "       'mid-20s', 'Ca. 33', '74 ', '45 ', '21 or 26', '20 ', '>50',\n",
       "       '18 to 22', 'adult', '9 & 12', '? & 19', '9 months', '25 to 35',\n",
       "       '23 & 26', '1', '(adult)', '33 & 37', '25 or 28',\n",
       "       '37, 67, 35, 27,  ? & 27', '21, 34,24 & 35', '30 & 32', '50 & 30',\n",
       "       '17 & 35', 'X', '\"middle-age\"', '13 or 18', '34 & 19', '33 & 26',\n",
       "       '2 to 3 months', 'MAKE LINE GREEN', ' 43', '81', '\"young\"',\n",
       "       '7 or 8', '78', '17 & 16', 'F', 'Both 11', '9 or 10', 'young',\n",
       "       '36 & 23', '  ', 'A.M.', '?    &   14', '10 or 12', '31 or 33',\n",
       "       '2½', '13 or 14'], dtype=object)"
      ]
     },
     "execution_count": 13,
     "metadata": {},
     "output_type": "execute_result"
    }
   ],
   "source": [
    "attacks_df.Age.unique()"
   ]
  },
  {
   "cell_type": "markdown",
   "id": "exact-transaction",
   "metadata": {},
   "source": [
    "**If we assume:**\n",
    "- Teenagers are between 13 and 19; so the mean will be *16*\n",
    "- Youngs are from 20 to 30; so the mean will be *25*\n",
    "- Adults are from 31 to 65; so the mean is *48*\n",
    "- Elderly are from 66 to 100+; the mean is around *88*"
   ]
  },
  {
   "cell_type": "code",
   "execution_count": 14,
   "id": "inner-aruba",
   "metadata": {},
   "outputs": [
    {
     "name": "stderr",
     "output_type": "stream",
     "text": [
      "<ipython-input-14-ecd24f3a5006>:3: FutureWarning: The default value of regex will change from True to False in a future version.\n",
      "  attacks_df['Age'] = attacks_df.Age.str.replace(r'(^.*een.*$)', '16')\n",
      "<ipython-input-14-ecd24f3a5006>:4: FutureWarning: The default value of regex will change from True to False in a future version.\n",
      "  attacks_df['Age'] = attacks_df.Age.str.replace(r'(^.*oun.*$)', '25')\n",
      "<ipython-input-14-ecd24f3a5006>:5: FutureWarning: The default value of regex will change from True to False in a future version.\n",
      "  attacks_df['Age'] = attacks_df.Age.str.replace(r'(^.*dul.*$)', '48')\n",
      "<ipython-input-14-ecd24f3a5006>:6: FutureWarning: The default value of regex will change from True to False in a future version.\n",
      "  attacks_df['Age'] = attacks_df.Age.str.replace(r'(^.*lderl.*$)', '88')\n",
      "<ipython-input-14-ecd24f3a5006>:7: FutureWarning: The default value of regex will change from True to False in a future version.\n",
      "  attacks_df['Age'] = attacks_df.Age.str.replace(r'(^.*middle-a.*$)', '37')\n",
      "<ipython-input-14-ecd24f3a5006>:8: FutureWarning: The default value of regex will change from True to False in a future version.\n",
      "  attacks_df['Age'] = attacks_df.Age.str.replace(r'(^.*onth.*$)', '1')\n",
      "<ipython-input-14-ecd24f3a5006>:9: FutureWarning: The default value of regex will change from True to False in a future version.\n",
      "  attacks_df['Age'] = attacks_df.Age.str.replace(r'(.*)s.*', r'\\1')\n",
      "<ipython-input-14-ecd24f3a5006>:10: FutureWarning: The default value of regex will change from True to False in a future version.\n",
      "  attacks_df['Age'] = attacks_df.Age.str.replace(r'^\\s$', 'NaN')\n",
      "<ipython-input-14-ecd24f3a5006>:12: FutureWarning: The default value of regex will change from True to False in a future version.\n",
      "  attacks_df['Age'] = attacks_df.Age.str.replace(r'(.*)\\s&.*', r'\\1')\n",
      "<ipython-input-14-ecd24f3a5006>:13: FutureWarning: The default value of regex will change from True to False in a future version.\n",
      "  attacks_df['Age'] = attacks_df.Age.str.replace(r'(.*)\\sor.*', r'\\1')\n",
      "<ipython-input-14-ecd24f3a5006>:14: FutureWarning: The default value of regex will change from True to False in a future version.\n",
      "  attacks_df['Age'] = attacks_df.Age.str.replace(r'(.*)\\sto.*', r'\\1')\n",
      "<ipython-input-14-ecd24f3a5006>:15: FutureWarning: The default value of regex will change from True to False in a future version.\n",
      "  attacks_df['Age'] = attacks_df.Age.str.replace(r'(.*)\\sto.*', r'\\1')\n",
      "<ipython-input-14-ecd24f3a5006>:16: FutureWarning: The default value of regex will change from True to False in a future version.\n",
      "  attacks_df['Age'] = attacks_df.Age.str.replace(r'^\\s(\\d\\d)', r'\\1')\n",
      "<ipython-input-14-ecd24f3a5006>:17: FutureWarning: The default value of regex will change from True to False in a future version.\n",
      "  attacks_df['Age'] = attacks_df.Age.str.replace(r'^(\\d\\d).*', r'\\1')\n",
      "<ipython-input-14-ecd24f3a5006>:18: FutureWarning: The default value of regex will change from True to False in a future version.\n",
      "  attacks_df['Age'] = attacks_df.Age.str.replace(r'^\\D*(\\d\\d)', r'\\1')\n",
      "<ipython-input-14-ecd24f3a5006>:20: FutureWarning: The default value of regex will change from True to False in a future version.\n",
      "  attacks_df['Age'] = attacks_df.Age.str.replace(r'(\\d)\\s\\s\\s.*', r'\\1')\n",
      "<ipython-input-14-ecd24f3a5006>:21: FutureWarning: The default value of regex will change from True to False in a future version.\n",
      "  attacks_df['Age'] = attacks_df.Age.str.replace(r'^\\s\\s.*', r'NaN')\n",
      "<ipython-input-14-ecd24f3a5006>:22: FutureWarning: The default value of regex will change from True to False in a future version.\n",
      "  attacks_df['Age'] = attacks_df.Age.str.replace(r'^\\D{1,}$', r'NaN')\n"
     ]
    },
    {
     "data": {
      "text/plain": [
       "Attacks_ID\n",
       "1       57\n",
       "2       11\n",
       "3       48\n",
       "4       48\n",
       "5       48\n",
       "        ..\n",
       "6298    16\n",
       "6299    16\n",
       "6300    16\n",
       "6301    16\n",
       "6302    15\n",
       "Name: Age, Length: 6302, dtype: object"
      ]
     },
     "execution_count": 14,
     "metadata": {},
     "output_type": "execute_result"
    }
   ],
   "source": [
    "# Cleaning Age column in order to get valuable data\n",
    "attacks_df['Age'] = attacks_df['Age'].astype(str)\n",
    "attacks_df['Age'] = attacks_df.Age.str.replace(r'(^.*een.*$)', '16')\n",
    "attacks_df['Age'] = attacks_df.Age.str.replace(r'(^.*oun.*$)', '25')\n",
    "attacks_df['Age'] = attacks_df.Age.str.replace(r'(^.*dul.*$)', '48')\n",
    "attacks_df['Age'] = attacks_df.Age.str.replace(r'(^.*lderl.*$)', '88')\n",
    "attacks_df['Age'] = attacks_df.Age.str.replace(r'(^.*middle-a.*$)', '37')\n",
    "attacks_df['Age'] = attacks_df.Age.str.replace(r'(^.*onth.*$)', '1')\n",
    "attacks_df['Age'] = attacks_df.Age.str.replace(r'(.*)s.*', r'\\1')\n",
    "attacks_df['Age'] = attacks_df.Age.str.replace(r'^\\s$', 'NaN')\n",
    "attacks_df['Age'] = attacks_df.Age.str.replace('nan', 'NaN')\n",
    "attacks_df['Age'] = attacks_df.Age.str.replace(r'(.*)\\s&.*', r'\\1')\n",
    "attacks_df['Age'] = attacks_df.Age.str.replace(r'(.*)\\sor.*', r'\\1')\n",
    "attacks_df['Age'] = attacks_df.Age.str.replace(r'(.*)\\sto.*', r'\\1')\n",
    "attacks_df['Age'] = attacks_df.Age.str.replace(r'(.*)\\sto.*', r'\\1')\n",
    "attacks_df['Age'] = attacks_df.Age.str.replace(r'^\\s(\\d\\d)', r'\\1')\n",
    "attacks_df['Age'] = attacks_df.Age.str.replace(r'^(\\d\\d).*', r'\\1')\n",
    "attacks_df['Age'] = attacks_df.Age.str.replace(r'^\\D*(\\d\\d)', r'\\1')\n",
    "attacks_df['Age'].replace(('\\xa0', 'NaN'), inplace = True)\n",
    "attacks_df['Age'] = attacks_df.Age.str.replace(r'(\\d)\\s\\s\\s.*', r'\\1')\n",
    "attacks_df['Age'] = attacks_df.Age.str.replace(r'^\\s\\s.*', r'NaN')\n",
    "attacks_df['Age'] = attacks_df.Age.str.replace(r'^\\D{1,}$', r'NaN')\n",
    "attacks_df['Age'].replace(('2½', '25'), inplace = True)\n",
    "attacks_df['Age'].replace(('6½', '65'), inplace = True)\n",
    "attacks_df['Age'].fillna('NaN') "
   ]
  },
  {
   "cell_type": "code",
   "execution_count": 15,
   "id": "dedicated-commitment",
   "metadata": {},
   "outputs": [
    {
     "data": {
      "text/plain": [
       "array(['57', '11', '48', '18', '52', '15', '12', '32', '10', '21', '34',\n",
       "       '30', '60', '33', '29', '54', '41', '37', '56', '19', '69', '38',\n",
       "       '55', '35', '46', '45', '14', '40', '28', '20', '24', '26', '49',\n",
       "       '22', '7', '31', '17', '13', '42', '3', '8', '50', '16', '82',\n",
       "       '73', '68', '51', '39', '58', '47', '61', '36', '66', '43', '9',\n",
       "       '72', '59', '6', '27', '64', '23', '71', '44', '62', '63', '70',\n",
       "       '1', '53', '77', '74', '5', '86', '84', 'NaN', '75', '87', '67',\n",
       "       '88', '81', '78'], dtype=object)"
      ]
     },
     "execution_count": 15,
     "metadata": {},
     "output_type": "execute_result"
    }
   ],
   "source": [
    "# Checking we have the expected output\n",
    "attacks_df.Age.unique()"
   ]
  },
  {
   "cell_type": "code",
   "execution_count": 16,
   "id": "chemical-research",
   "metadata": {},
   "outputs": [
    {
     "data": {
      "text/plain": [
       "count     6302\n",
       "unique      80\n",
       "top         17\n",
       "freq       360\n",
       "Name: Age, dtype: object"
      ]
     },
     "execution_count": 16,
     "metadata": {},
     "output_type": "execute_result"
    }
   ],
   "source": [
    "attacks_df['Age'].describe()"
   ]
  },
  {
   "cell_type": "code",
   "execution_count": 17,
   "id": "average-drama",
   "metadata": {},
   "outputs": [
    {
     "data": {
      "text/plain": [
       "17    360\n",
       "16    330\n",
       "18    329\n",
       "19    309\n",
       "15    276\n",
       "     ... \n",
       "88      1\n",
       "87      1\n",
       "81      1\n",
       "84      1\n",
       "67      1\n",
       "Name: Age, Length: 80, dtype: int64"
      ]
     },
     "execution_count": 17,
     "metadata": {},
     "output_type": "execute_result"
    }
   ],
   "source": [
    "attacks_df.Age.value_counts(dropna=False)"
   ]
  },
  {
   "cell_type": "code",
   "execution_count": 18,
   "id": "velvet-doctor",
   "metadata": {},
   "outputs": [
    {
     "data": {
      "text/plain": [
       "17    0.057125\n",
       "16    0.052364\n",
       "18    0.052206\n",
       "19    0.049032\n",
       "15    0.043796\n",
       "20    0.043637\n",
       "22    0.039194\n",
       "21    0.037607\n",
       "13    0.033481\n",
       "24    0.028880\n",
       "14    0.028404\n",
       "30    0.026817\n",
       "26    0.025389\n",
       "23    0.024595\n",
       "27    0.024595\n",
       "Name: Age, dtype: float64"
      ]
     },
     "execution_count": 18,
     "metadata": {},
     "output_type": "execute_result"
    }
   ],
   "source": [
    "attacks_df.Age.value_counts(normalize=True).head(15)"
   ]
  },
  {
   "cell_type": "code",
   "execution_count": 19,
   "id": "sonic-green",
   "metadata": {},
   "outputs": [
    {
     "name": "stdout",
     "output_type": "stream",
     "text": [
      "Age mean is:  26.16199426568971\n",
      "Age median is:  22.0\n",
      "Age mode is:  0    17.0\n",
      "dtype: float64\n"
     ]
    }
   ],
   "source": [
    "# Getting basic statistics\n",
    "attacks_df['Age'] = pd.to_numeric(attacks_df['Age'], errors = 'coerce')\n",
    "print('Age mean is: ', attacks_df.Age.mean())\n",
    "print('Age median is: ', attacks_df.Age.median())\n",
    "print('Age mode is: ', attacks_df.Age.mode())"
   ]
  },
  {
   "cell_type": "markdown",
   "id": "dominant-gasoline",
   "metadata": {},
   "source": [
    "## Sex"
   ]
  },
  {
   "cell_type": "code",
   "execution_count": 20,
   "id": "handed-friend",
   "metadata": {},
   "outputs": [
    {
     "data": {
      "text/plain": [
       "count     5737\n",
       "unique       6\n",
       "top          M\n",
       "freq      5094\n",
       "Name: Sex, dtype: object"
      ]
     },
     "execution_count": 20,
     "metadata": {},
     "output_type": "execute_result"
    }
   ],
   "source": [
    "attacks_df.Sex.describe()"
   ]
  },
  {
   "cell_type": "code",
   "execution_count": 21,
   "id": "corresponding-columbia",
   "metadata": {},
   "outputs": [
    {
     "data": {
      "text/plain": [
       "M      5094\n",
       "F       637\n",
       "NaN     565\n",
       "N         2\n",
       "M         2\n",
       ".         1\n",
       "lli       1\n",
       "Name: Sex, dtype: int64"
      ]
     },
     "execution_count": 21,
     "metadata": {},
     "output_type": "execute_result"
    }
   ],
   "source": [
    "attacks_df.Sex.value_counts(dropna=False)"
   ]
  },
  {
   "cell_type": "code",
   "execution_count": 22,
   "id": "timely-graphics",
   "metadata": {},
   "outputs": [
    {
     "data": {
      "text/plain": [
       "array(['F', 'M', nan, 'M ', 'lli', 'N', '.'], dtype=object)"
      ]
     },
     "execution_count": 22,
     "metadata": {},
     "output_type": "execute_result"
    }
   ],
   "source": [
    "# Checking the current column status\n",
    "attacks_df.Sex.unique()"
   ]
  },
  {
   "cell_type": "code",
   "execution_count": 23,
   "id": "hearing-cocktail",
   "metadata": {},
   "outputs": [
    {
     "name": "stderr",
     "output_type": "stream",
     "text": [
      "<ipython-input-23-3db0726362a1>:5: FutureWarning: The default value of regex will change from True to False in a future version.\n",
      "  attacks_df['Sex'] = attacks_df.Sex.str.replace(r'^(M)\\s$', r'\\1')\n"
     ]
    },
    {
     "data": {
      "text/plain": [
       "Attacks_ID\n",
       "1       F\n",
       "2       F\n",
       "3       M\n",
       "4       M\n",
       "5       M\n",
       "       ..\n",
       "6298    M\n",
       "6299    M\n",
       "6300    M\n",
       "6301    M\n",
       "6302    M\n",
       "Name: Sex, Length: 6302, dtype: object"
      ]
     },
     "execution_count": 23,
     "metadata": {},
     "output_type": "execute_result"
    }
   ],
   "source": [
    "# Cleaning Sex column in order to get valuable data\n",
    "attacks_df['Sex'].replace(('lli', 'NaN'), inplace = True)\n",
    "attacks_df['Sex'].replace(('N', 'NaN'), inplace = True)\n",
    "attacks_df['Sex'].replace(('.', 'NaN'), inplace = True)\n",
    "attacks_df['Sex'] = attacks_df.Sex.str.replace(r'^(M)\\s$', r'\\1')\n",
    "attacks_df['Sex'].fillna('NaN') "
   ]
  },
  {
   "cell_type": "code",
   "execution_count": 24,
   "id": "worth-enforcement",
   "metadata": {},
   "outputs": [
    {
     "data": {
      "text/plain": [
       "array(['F', 'M', nan], dtype=object)"
      ]
     },
     "execution_count": 24,
     "metadata": {},
     "output_type": "execute_result"
    }
   ],
   "source": [
    "# Checking we have the expected output\n",
    "attacks_df.Sex.unique()"
   ]
  },
  {
   "cell_type": "code",
   "execution_count": 25,
   "id": "saving-lodging",
   "metadata": {},
   "outputs": [
    {
     "data": {
      "text/plain": [
       "M    0.888773\n",
       "F    0.111227\n",
       "Name: Sex, dtype: float64"
      ]
     },
     "execution_count": 25,
     "metadata": {},
     "output_type": "execute_result"
    }
   ],
   "source": [
    "attacks_df.Sex.value_counts(normalize=True)"
   ]
  },
  {
   "cell_type": "code",
   "execution_count": 27,
   "id": "superb-astronomy",
   "metadata": {
    "scrolled": false
   },
   "outputs": [
    {
     "data": {
      "image/png": "[encoded data removed]",
      "text/plain": [
       "<Figure size 432x288 with 1 Axes>"
      ]
     },
     "metadata": {
      "needs_background": "light"
     },
     "output_type": "display_data"
    }
   ],
   "source": [
    "ages = attacks_df.Age.sort_values()\n",
    "plot_ages = sns.histplot(x = ages, \n",
    "            hue = attacks_df.Sex,\n",
    "           bins = 30);\n",
    "plot_ages.set_title('Shark attacks distribution by age and distinguished by sex')\n",
    "plot_ages.set(xlabel = 'Age of the victims', \n",
    "                ylabel='Sex of the victims');"
   ]
  },
  {
   "cell_type": "markdown",
   "id": "rotary-poison",
   "metadata": {},
   "source": [
    "> <span style=\"color:green\"> Top model 1: __Demographics__ </span>\n",
    "\n",
    ">_Procedure_\n",
    ">- General dataframe cleaning (empty rows, non-valuable columns, rename columns, setting an autoincremental ID)\n",
    ">    - Finally we have 6302 informative cases to work with\n",
    ">- Cleaning Age series (from 3471 filled rows distribution in 157 unique values, to non-empty cells, normalizing the values to 80 unique values)\n",
    ">- Cleaning Sex series (from 5737 filled rows distributed in 6 unique values, to non-empty cells in two unique values)\n",
    " \n",
    ">_Conclusions_\n",
    ">- Most victicms of shark attacks were predominantly teenagers or youngs, around to 22 y.o. in both sexs.\n",
    ">- Even if it seems that men are most likely to be attacked by sharks (88%), it's important to keep in mind that with this data it is not possible to know if, for example, women come less close to the beach or if they are more cautious\n"
   ]
  },
  {
   "cell_type": "markdown",
   "id": "common-tissue",
   "metadata": {},
   "source": [
    "# Space-time Statistics"
   ]
  },
  {
   "cell_type": "code",
   "execution_count": 28,
   "id": "golden-blake",
   "metadata": {},
   "outputs": [
    {
     "data": {
      "text/html": [
       "<div>\n",
       "<style scoped>\n",
       "    .dataframe tbody tr th:only-of-type {\n",
       "        vertical-align: middle;\n",
       "    }\n",
       "\n",
       "    .dataframe tbody tr th {\n",
       "        vertical-align: top;\n",
       "    }\n",
       "\n",
       "    .dataframe thead th {\n",
       "        text-align: right;\n",
       "    }\n",
       "</style>\n",
       "<table border=\"1\" class=\"dataframe\">\n",
       "  <thead>\n",
       "    <tr style=\"text-align: right;\">\n",
       "      <th></th>\n",
       "      <th>Date</th>\n",
       "      <th>Location</th>\n",
       "      <th>Country</th>\n",
       "    </tr>\n",
       "    <tr>\n",
       "      <th>Attacks_ID</th>\n",
       "      <th></th>\n",
       "      <th></th>\n",
       "      <th></th>\n",
       "    </tr>\n",
       "  </thead>\n",
       "  <tbody>\n",
       "    <tr>\n",
       "      <th>1</th>\n",
       "      <td>25-Jun-2018</td>\n",
       "      <td>Oceanside, San Diego County</td>\n",
       "      <td>USA</td>\n",
       "    </tr>\n",
       "    <tr>\n",
       "      <th>2</th>\n",
       "      <td>18-Jun-2018</td>\n",
       "      <td>St. Simon Island, Glynn County</td>\n",
       "      <td>USA</td>\n",
       "    </tr>\n",
       "    <tr>\n",
       "      <th>3</th>\n",
       "      <td>09-Jun-2018</td>\n",
       "      <td>Habush, Oahu</td>\n",
       "      <td>USA</td>\n",
       "    </tr>\n",
       "    <tr>\n",
       "      <th>4</th>\n",
       "      <td>08-Jun-2018</td>\n",
       "      <td>Arrawarra Headland</td>\n",
       "      <td>AUSTRALIA</td>\n",
       "    </tr>\n",
       "    <tr>\n",
       "      <th>5</th>\n",
       "      <td>04-Jun-2018</td>\n",
       "      <td>La Ticla</td>\n",
       "      <td>MEXICO</td>\n",
       "    </tr>\n",
       "    <tr>\n",
       "      <th>...</th>\n",
       "      <td>...</td>\n",
       "      <td>...</td>\n",
       "      <td>...</td>\n",
       "    </tr>\n",
       "    <tr>\n",
       "      <th>6298</th>\n",
       "      <td>Before 1903</td>\n",
       "      <td>Roebuck Bay</td>\n",
       "      <td>AUSTRALIA</td>\n",
       "    </tr>\n",
       "    <tr>\n",
       "      <th>6299</th>\n",
       "      <td>Before 1903</td>\n",
       "      <td>NaN</td>\n",
       "      <td>AUSTRALIA</td>\n",
       "    </tr>\n",
       "    <tr>\n",
       "      <th>6300</th>\n",
       "      <td>1900-1905</td>\n",
       "      <td>Ocracoke Inlet</td>\n",
       "      <td>USA</td>\n",
       "    </tr>\n",
       "    <tr>\n",
       "      <th>6301</th>\n",
       "      <td>1883-1889</td>\n",
       "      <td>Panama Bay 8ºN, 79ºW</td>\n",
       "      <td>PANAMA</td>\n",
       "    </tr>\n",
       "    <tr>\n",
       "      <th>6302</th>\n",
       "      <td>1845-1853</td>\n",
       "      <td>Below the English fort, Trincomalee</td>\n",
       "      <td>CEYLON (SRI LANKA)</td>\n",
       "    </tr>\n",
       "  </tbody>\n",
       "</table>\n",
       "<p>6302 rows × 3 columns</p>\n",
       "</div>"
      ],
      "text/plain": [
       "                   Date                             Location  \\\n",
       "Attacks_ID                                                     \n",
       "1           25-Jun-2018          Oceanside, San Diego County   \n",
       "2           18-Jun-2018       St. Simon Island, Glynn County   \n",
       "3           09-Jun-2018                         Habush, Oahu   \n",
       "4           08-Jun-2018                   Arrawarra Headland   \n",
       "5           04-Jun-2018                             La Ticla   \n",
       "...                 ...                                  ...   \n",
       "6298        Before 1903                          Roebuck Bay   \n",
       "6299        Before 1903                                  NaN   \n",
       "6300          1900-1905                       Ocracoke Inlet   \n",
       "6301          1883-1889                 Panama Bay 8ºN, 79ºW   \n",
       "6302          1845-1853  Below the English fort, Trincomalee   \n",
       "\n",
       "                       Country  \n",
       "Attacks_ID                      \n",
       "1                          USA  \n",
       "2                          USA  \n",
       "3                          USA  \n",
       "4                    AUSTRALIA  \n",
       "5                       MEXICO  \n",
       "...                        ...  \n",
       "6298                 AUSTRALIA  \n",
       "6299                 AUSTRALIA  \n",
       "6300                       USA  \n",
       "6301                    PANAMA  \n",
       "6302        CEYLON (SRI LANKA)  \n",
       "\n",
       "[6302 rows x 3 columns]"
      ]
     },
     "execution_count": 28,
     "metadata": {},
     "output_type": "execute_result"
    }
   ],
   "source": [
    "attacks_df[['Date','Location', 'Country']]"
   ]
  },
  {
   "cell_type": "markdown",
   "id": "removable-desert",
   "metadata": {},
   "source": [
    "## Date"
   ]
  },
  {
   "cell_type": "code",
   "execution_count": 29,
   "id": "serious-resistance",
   "metadata": {},
   "outputs": [
    {
     "data": {
      "text/plain": [
       "count     6302\n",
       "unique    5433\n",
       "top       1957\n",
       "freq        11\n",
       "Name: Date, dtype: object"
      ]
     },
     "execution_count": 29,
     "metadata": {},
     "output_type": "execute_result"
    }
   ],
   "source": [
    "# Checking the current column status\n",
    "attacks_df.Date.describe()"
   ]
  },
  {
   "cell_type": "code",
   "execution_count": 30,
   "id": "coordinate-train",
   "metadata": {},
   "outputs": [
    {
     "data": {
      "text/plain": [
       "1957           11\n",
       "1942            9\n",
       "1956            8\n",
       "1958            7\n",
       "1941            7\n",
       "               ..\n",
       "11-Nov-1937     1\n",
       "06-Aug-2009     1\n",
       "16-Mar-1859     1\n",
       "24-May-1960     1\n",
       "19-Aug-1945     1\n",
       "Name: Date, Length: 5433, dtype: int64"
      ]
     },
     "execution_count": 30,
     "metadata": {},
     "output_type": "execute_result"
    }
   ],
   "source": [
    "attacks_df.Date.value_counts(dropna=False)"
   ]
  },
  {
   "cell_type": "code",
   "execution_count": 31,
   "id": "individual-father",
   "metadata": {},
   "outputs": [
    {
     "data": {
      "text/plain": [
       "Attacks_ID\n",
       "6272       World War II\n",
       "6273       World War II\n",
       "4803      Woirld War II\n",
       "3445        Winter 1969\n",
       "4722        Winter 1942\n",
       "             ...       \n",
       "652         22-Jul-2013\n",
       "3405        16-Jan-1970\n",
       "4850        15-Jun-1937\n",
       "1175        10-Jan-2009\n",
       "4426     \\n1951.12.15.R\n",
       "Name: Date, Length: 6302, dtype: object"
      ]
     },
     "execution_count": 31,
     "metadata": {},
     "output_type": "execute_result"
    }
   ],
   "source": [
    "attacks_df.Date.sort_values(ascending=False)"
   ]
  },
  {
   "cell_type": "code",
   "execution_count": 32,
   "id": "reliable-cassette",
   "metadata": {},
   "outputs": [
    {
     "name": "stderr",
     "output_type": "stream",
     "text": [
      "<ipython-input-32-cc53f5a0cfa9>:2: FutureWarning: The default value of regex will change from True to False in a future version.\n",
      "  attacks_df['Date'] = attacks_df.Date.str.replace(r'(-)\\1+', r'\\1')\n"
     ]
    }
   ],
   "source": [
    "# Remove duplicated hyphen (-)\n",
    "attacks_df['Date'] = attacks_df.Date.str.replace(r'(-)\\1+', r'\\1')\n",
    "# Remove starting word \"Reported \"\n",
    "attacks_df['Date'] = attacks_df.Date.str.lstrip('Reported ')\n",
    "# Parse date colum to datetime format (and replace string entries with NaT)\n",
    "attacks_df['Date'] = pd.to_datetime(attacks_df['Date'], errors = 'coerce')"
   ]
  },
  {
   "cell_type": "code",
   "execution_count": 33,
   "id": "oriental-exception",
   "metadata": {},
   "outputs": [
    {
     "data": {
      "text/plain": [
       "Attacks_ID\n",
       "1       6.0\n",
       "2       6.0\n",
       "3       6.0\n",
       "4       6.0\n",
       "5       6.0\n",
       "       ... \n",
       "6298    NaN\n",
       "6299    NaN\n",
       "6300    NaN\n",
       "6301    NaN\n",
       "6302    NaN\n",
       "Name: Date, Length: 6302, dtype: float64"
      ]
     },
     "execution_count": 33,
     "metadata": {},
     "output_type": "execute_result"
    }
   ],
   "source": [
    "# Checking we have the expected output\n",
    "attacks_df['Date'].dt.month"
   ]
  },
  {
   "cell_type": "code",
   "execution_count": 34,
   "id": "former-savannah",
   "metadata": {},
   "outputs": [
    {
     "data": {
      "text/plain": [
       "303"
      ]
     },
     "execution_count": 34,
     "metadata": {},
     "output_type": "execute_result"
    }
   ],
   "source": [
    "# Checking how many \"NaT\" we have after cleaning\n",
    "attacks_df['Date'].isna().sum()"
   ]
  },
  {
   "cell_type": "code",
   "execution_count": 35,
   "id": "swiss-buffer",
   "metadata": {},
   "outputs": [],
   "source": [
    "# Creating new columns with the clean data extracted\n",
    "attacks_df['Months'] = attacks_df.Date.dt.month\n",
    "attacks_df['Years'] = attacks_df.Date.dt.year"
   ]
  },
  {
   "cell_type": "markdown",
   "id": "indoor-broad",
   "metadata": {},
   "source": [
    "## Location"
   ]
  },
  {
   "cell_type": "code",
   "execution_count": 41,
   "id": "voluntary-withdrawal",
   "metadata": {},
   "outputs": [
    {
     "data": {
      "text/plain": [
       "count                                 5762\n",
       "unique                                4108\n",
       "top       New Smyrna Beach, Volusia County\n",
       "freq                                   163\n",
       "Name: Location, dtype: object"
      ]
     },
     "execution_count": 41,
     "metadata": {},
     "output_type": "execute_result"
    }
   ],
   "source": [
    "attacks_df.Location.describe()"
   ]
  },
  {
   "cell_type": "code",
   "execution_count": 42,
   "id": "duplicate-pitch",
   "metadata": {},
   "outputs": [
    {
     "data": {
      "text/plain": [
       "NaN                                                 540\n",
       "New Smyrna Beach, Volusia County                    163\n",
       "Daytona Beach, Volusia County                        30\n",
       "Ponce Inlet, Volusia County                          20\n",
       "Melbourne Beach, Brevard County                      18\n",
       "                                                   ... \n",
       "Ritidian Point                                        1\n",
       "Edisto Beach, Colleton County                         1\n",
       "North of Walkers Cay                                  1\n",
       "Breezy Point, Ntlonyana                               1\n",
       "Ocean Beach, San Francisco, San Francisco County      1\n",
       "Name: Location, Length: 4109, dtype: int64"
      ]
     },
     "execution_count": 42,
     "metadata": {},
     "output_type": "execute_result"
    }
   ],
   "source": [
    "attacks_df.Location.value_counts(dropna=False)"
   ]
  },
  {
   "cell_type": "code",
   "execution_count": 43,
   "id": "elect-ceramic",
   "metadata": {},
   "outputs": [],
   "source": [
    "# There are so many unique values, it's necessary to group them, or use the Country instead the Location\n",
    "new_Location = attacks_df.Location.str.extract(r'(?P<Beach>.+),(?P<County>.+)')[['County', 'Beach']]\n",
    "attacks_df.Location = new_Location.County"
   ]
  },
  {
   "cell_type": "code",
   "execution_count": 44,
   "id": "characteristic-donor",
   "metadata": {},
   "outputs": [
    {
     "data": {
      "text/plain": [
       "count                2795\n",
       "unique                838\n",
       "top        Volusia County\n",
       "freq                  295\n",
       "Name: Location, dtype: object"
      ]
     },
     "execution_count": 44,
     "metadata": {},
     "output_type": "execute_result"
    }
   ],
   "source": [
    "# Location column is not useful at the visual inspection level\n",
    "# With 807 categories no graphic conclusion can be drawn instead you use a world heatmap\n",
    "attacks_df.Location.describe()"
   ]
  },
  {
   "cell_type": "code",
   "execution_count": 45,
   "id": "awful-accessory",
   "metadata": {},
   "outputs": [
    {
     "data": {
      "text/plain": [
       "NaN                    3507\n",
       " Volusia County         295\n",
       " Palm Beach County      101\n",
       " Brevard County          85\n",
       " Maui                    74\n",
       " O'ahu                   54\n",
       " Durban                  45\n",
       " Monroe County           43\n",
       " Sydney                  41\n",
       " Los Angeles County      39\n",
       " Duval County            37\n",
       "Name: Location, dtype: int64"
      ]
     },
     "execution_count": 45,
     "metadata": {},
     "output_type": "execute_result"
    }
   ],
   "source": [
    "# The locations with a higher shark attacks register are: \n",
    "attacks_df.Location.value_counts(dropna=False).head(11)"
   ]
  },
  {
   "cell_type": "markdown",
   "id": "adopted-thread",
   "metadata": {},
   "source": [
    "> <span style=\"color:green\"> Top model 2: __Space-time statistics__ </span>\n",
    "\n",
    ">_Procedure_\n",
    ">- Parse date colum to datetime format, allowing us to study year and month information independently\n",
    ">- Cleaning Location series in order to get a clustered sample\n",
    " \n",
    ">_Conclusions_\n",
    ">- Attacks are mostly registered in Florida, Hawaii, South Africa and Australia\n",
    ">- Most shark attacks happened during January and Jul-August, probably it could be driven by the summertime in different hemisphere\n",
    ">- Shark attack records have been gradually increasing until our days, highlighting a peak in the 1960s\n",
    "\n",
    ">_(These data is not normalized, so should be taked carefully as probably records have been increased  during last years by technology facilities)_"
   ]
  },
  {
   "cell_type": "code",
   "execution_count": 46,
   "id": "reflected-secretary",
   "metadata": {
    "scrolled": true
   },
   "outputs": [
    {
     "data": {
      "image/png": "[encoded data removed]",
      "text/plain": [
       "<Figure size 432x288 with 1 Axes>"
      ]
     },
     "metadata": {
      "needs_background": "light"
     },
     "output_type": "display_data"
    }
   ],
   "source": [
    "plot_months = sns.countplot(x = attacks_df['Months'],\n",
    "                 palette = ['#432371',\"#FAAE7B\"])\n",
    "plot_months.set_title('Shark attacks distribution by months')\n",
    "plot_months.set(xlabel = 'Months', \n",
    "       ylabel='Attacks');"
   ]
  },
  {
   "cell_type": "code",
   "execution_count": 50,
   "id": "wicked-nashville",
   "metadata": {},
   "outputs": [
    {
     "data": {
      "image/png": "[encoded data removed]",
      "text/plain": [
       "<Figure size 432x288 with 1 Axes>"
      ]
     },
     "metadata": {
      "needs_background": "light"
     },
     "output_type": "display_data"
    }
   ],
   "source": [
    "plot_years = sns.countplot(x = attacks_df.Years,\n",
    "                           palette = 'Blues');\n",
    "plot_years.set_title('Shark attacks distribution by years')\n",
    "plot_years.set(xlabel = 'Years', \n",
    "       ylabel='Attacks registered');"
   ]
  },
  {
   "cell_type": "markdown",
   "id": "quality-measure",
   "metadata": {},
   "source": [
    "# Free project"
   ]
  },
  {
   "cell_type": "markdown",
   "id": "worse-graph",
   "metadata": {},
   "source": [
    "## Country"
   ]
  },
  {
   "cell_type": "code",
   "execution_count": 51,
   "id": "gross-breast",
   "metadata": {
    "scrolled": true
   },
   "outputs": [
    {
     "data": {
      "text/plain": [
       "count     6252\n",
       "unique     212\n",
       "top        USA\n",
       "freq      2229\n",
       "Name: Country, dtype: object"
      ]
     },
     "execution_count": 51,
     "metadata": {},
     "output_type": "execute_result"
    }
   ],
   "source": [
    "# Checking current data status\n",
    "attacks_df.Country.describe()"
   ]
  },
  {
   "cell_type": "code",
   "execution_count": 52,
   "id": "latest-audit",
   "metadata": {},
   "outputs": [
    {
     "data": {
      "text/plain": [
       "array(['USA', 'AUSTRALIA', 'MEXICO', 'BRAZIL', 'ENGLAND', 'SOUTH AFRICA',\n",
       "       'THAILAND', 'COSTA RICA', 'MALDIVES', 'BAHAMAS', 'NEW CALEDONIA',\n",
       "       'ECUADOR', 'MALAYSIA', 'LIBYA', nan, 'CUBA', 'MAURITIUS',\n",
       "       'NEW ZEALAND', 'SPAIN', 'SAMOA', 'SOLOMON ISLANDS', 'JAPAN',\n",
       "       'EGYPT', 'ST HELENA, British overseas territory', 'COMOROS',\n",
       "       'REUNION', 'FRENCH POLYNESIA', 'UNITED KINGDOM',\n",
       "       'UNITED ARAB EMIRATES', 'PHILIPPINES', 'INDONESIA', 'CHINA',\n",
       "       'COLUMBIA', 'CAPE VERDE', 'Fiji', 'DOMINICAN REPUBLIC',\n",
       "       'CAYMAN ISLANDS', 'ARUBA', 'MOZAMBIQUE', 'FIJI', 'PUERTO RICO',\n",
       "       'ITALY', 'ATLANTIC OCEAN', 'GREECE', 'ST. MARTIN', 'FRANCE',\n",
       "       'PAPUA NEW GUINEA', 'TRINIDAD & TOBAGO', 'KIRIBATI', 'ISRAEL',\n",
       "       'DIEGO GARCIA', 'TAIWAN', 'JAMAICA', 'PALESTINIAN TERRITORIES',\n",
       "       'GUAM', 'SEYCHELLES', 'BELIZE', 'NIGERIA', 'TONGA', 'SCOTLAND',\n",
       "       'CANADA', 'CROATIA', 'SAUDI ARABIA', 'CHILE', 'ANTIGUA', 'KENYA',\n",
       "       'RUSSIA', 'TURKS & CAICOS', 'UNITED ARAB EMIRATES (UAE)', 'AZORES',\n",
       "       'SOUTH KOREA', 'MALTA', 'VIETNAM', 'MADAGASCAR', 'PANAMA',\n",
       "       'SOMALIA', 'NEVIS', 'BRITISH VIRGIN ISLANDS', 'NORWAY', 'SENEGAL',\n",
       "       'YEMEN', 'GULF OF ADEN', 'Sierra Leone', 'ST. MAARTIN',\n",
       "       'GRAND CAYMAN', 'Seychelles', 'LIBERIA', 'VANUATU', 'MEXICO ',\n",
       "       'HONDURAS', 'VENEZUELA', 'SRI LANKA', ' TONGA', 'URUGUAY', 'INDIA',\n",
       "       'MICRONESIA', 'CARIBBEAN SEA', 'OKINAWA', 'TANZANIA',\n",
       "       'MARSHALL ISLANDS', 'EGYPT / ISRAEL', 'NORTHERN ARABIAN SEA',\n",
       "       'HONG KONG', 'EL SALVADOR', 'ANGOLA', 'BERMUDA', 'MONTENEGRO',\n",
       "       'IRAN', 'TUNISIA', 'NAMIBIA', 'NORTH ATLANTIC OCEAN', 'PORTUGAL',\n",
       "       'SOUTH CHINA SEA', 'BANGLADESH', 'PALAU', 'WESTERN SAMOA',\n",
       "       'PACIFIC OCEAN ', 'BRITISH ISLES', 'GRENADA', 'IRAQ', 'TURKEY',\n",
       "       'SINGAPORE', 'NEW BRITAIN', 'SUDAN', 'JOHNSTON ISLAND',\n",
       "       'SOUTH PACIFIC OCEAN', 'NEW GUINEA', 'RED SEA',\n",
       "       'NORTH PACIFIC OCEAN', 'FEDERATED STATES OF MICRONESIA',\n",
       "       'MID ATLANTIC OCEAN', 'ADMIRALTY ISLANDS', 'BRITISH WEST INDIES',\n",
       "       'SOUTH ATLANTIC OCEAN', 'PERSIAN GULF', 'RED SEA / INDIAN OCEAN',\n",
       "       'PACIFIC OCEAN', 'NORTH SEA', 'NICARAGUA ', 'MALDIVE ISLANDS',\n",
       "       'AMERICAN SAMOA', 'ANDAMAN / NICOBAR ISLANDAS', 'GABON', 'MAYOTTE',\n",
       "       'NORTH ATLANTIC OCEAN ', 'THE BALKANS', 'SUDAN?', 'ARGENTINA',\n",
       "       'MARTINIQUE', 'INDIAN OCEAN', 'GUATEMALA', 'NETHERLANDS ANTILLES',\n",
       "       'NORTHERN MARIANA ISLANDS', 'IRAN / IRAQ', 'JAVA', 'SIERRA LEONE',\n",
       "       ' PHILIPPINES', 'NICARAGUA', 'CENTRAL PACIFIC',\n",
       "       'SOLOMON ISLANDS / VANUATU', 'SOUTHWEST PACIFIC OCEAN',\n",
       "       'BAY OF BENGAL', 'MID-PACIFC OCEAN', 'SLOVENIA', 'CURACAO',\n",
       "       'ICELAND', 'ITALY / CROATIA', 'BARBADOS', 'MONACO', 'GUYANA',\n",
       "       'HAITI', 'SAN DOMINGO', 'IRELAND', 'KUWAIT', 'YEMEN ',\n",
       "       'REUNION ISLAND', 'FALKLAND ISLANDS', 'CRETE', 'CYPRUS', 'EGYPT ',\n",
       "       'WEST INDIES', 'BURMA', 'LEBANON', 'PARAGUAY',\n",
       "       'BRITISH NEW GUINEA', 'CEYLON', 'OCEAN', 'GEORGIA', 'SYRIA',\n",
       "       'TUVALU', 'INDIAN OCEAN?', 'GUINEA', 'ANDAMAN ISLANDS',\n",
       "       'EQUATORIAL GUINEA / CAMEROON', 'COOK ISLANDS', 'TOBAGO', 'PERU',\n",
       "       'AFRICA', 'ALGERIA', 'Coast of AFRICA', 'TASMAN SEA', 'GHANA',\n",
       "       'GREENLAND', 'MEDITERRANEAN SEA', 'SWEDEN', 'ROATAN',\n",
       "       'Between PORTUGAL & INDIA', 'DJIBOUTI', 'BAHREIN', 'KOREA',\n",
       "       'RED SEA?', 'ASIA?', 'CEYLON (SRI LANKA)'], dtype=object)"
      ]
     },
     "execution_count": 52,
     "metadata": {},
     "output_type": "execute_result"
    }
   ],
   "source": [
    "attacks_df.Country.unique()"
   ]
  },
  {
   "cell_type": "code",
   "execution_count": 53,
   "id": "extended-attention",
   "metadata": {},
   "outputs": [
    {
     "name": "stderr",
     "output_type": "stream",
     "text": [
      "<ipython-input-53-3ada7e76a166>:3: FutureWarning: The default value of regex will change from True to False in a future version.\n",
      "  attacks_df['Country'] = attacks_df.Country.str.replace(r'^(.*)\\s/.*', r'\\1')\n",
      "<ipython-input-53-3ada7e76a166>:4: FutureWarning: The default value of regex will change from True to False in a future version.\n",
      "  attacks_df['Country'] = attacks_df.Country.str.replace(r'^(.*)?', r'\\1')\n",
      "<ipython-input-53-3ada7e76a166>:5: FutureWarning: The default value of regex will change from True to False in a future version.\n",
      "  attacks_df['Country'] = attacks_df.Country.str.replace(r'^Between\\s(.*)\\s.*', r'\\1')\n",
      "<ipython-input-53-3ada7e76a166>:6: FutureWarning: The default value of regex will change from True to False in a future version.\n",
      "  attacks_df['Country'] = attacks_df.Country.str.replace(r'.*British*.', 'UNITED KINGDOM')\n",
      "<ipython-input-53-3ada7e76a166>:7: FutureWarning: The default value of regex will change from True to False in a future version.\n",
      "  attacks_df['Country'] = attacks_df.Country.str.replace(r'.*BRITISH*.', 'UNITED KINGDOM')\n",
      "<ipython-input-53-3ada7e76a166>:9: FutureWarning: The default value of regex will change from True to False in a future version.\n",
      "  attacks_df['Country'] = attacks_df.Country.str.replace(r'.*TURKS*.', 'TURKEY')\n"
     ]
    }
   ],
   "source": [
    "# Cleaning data in order to get valuable info\n",
    "attacks_df['Country'].replace(('nan', 'NaN'), inplace = True)\n",
    "attacks_df['Country'].fillna('NaN')\n",
    "attacks_df['Country'] = attacks_df.Country.str.replace(r'^(.*)\\s/.*', r'\\1')\n",
    "attacks_df['Country'] = attacks_df.Country.str.replace(r'^(.*)?', r'\\1')\n",
    "attacks_df['Country'] = attacks_df.Country.str.replace(r'^Between\\s(.*)\\s.*', r'\\1')\n",
    "attacks_df['Country'] = attacks_df.Country.str.replace(r'.*British*.', 'UNITED KINGDOM')\n",
    "attacks_df['Country'] = attacks_df.Country.str.replace(r'.*BRITISH*.', 'UNITED KINGDOM')\n",
    "attacks_df['Country'].replace(('PALESTINIAN TERRITORIES', 'PALESTINA'), inplace = True)\n",
    "attacks_df['Country'] = attacks_df.Country.str.replace(r'.*TURKS*.', 'TURKEY')\n",
    "attacks_df['Country'].replace(('UNITED ARAB EMIRATES (UAE)', 'UNITED ARAB EMIRATES'), inplace = True)\n",
    "attacks_df['Country'].replace(('GULF OF ADEN', 'SOMALIA'), inplace = True)\n",
    "attacks_df['Country'].replace(('ST. MAARTIN', 'NETHERLANDS'), inplace = True)\n",
    "attacks_df['Country'].replace(('CEYLON (SRI LANKA)', 'SRI LANKA'), inplace = True)\n"
   ]
  },
  {
   "cell_type": "code",
   "execution_count": 54,
   "id": "flush-horror",
   "metadata": {},
   "outputs": [
    {
     "data": {
      "text/plain": [
       "count     6252\n",
       "unique     199\n",
       "top        USA\n",
       "freq      2235\n",
       "Name: Country, dtype: object"
      ]
     },
     "execution_count": 54,
     "metadata": {},
     "output_type": "execute_result"
    }
   ],
   "source": [
    "# Checking we have the expected output\n",
    "attacks_df.Country.describe()"
   ]
  },
  {
   "cell_type": "code",
   "execution_count": 55,
   "id": "exciting-growing",
   "metadata": {},
   "outputs": [
    {
     "data": {
      "text/plain": [
       "USA                 2235\n",
       "AUSTRALIA           1344\n",
       "SOUTH AFRICA         581\n",
       "PAPUA NEW GUINEA     135\n",
       "NEW ZEALAND          129\n",
       "BRAZIL               113\n",
       "BAHAMAS              110\n",
       "MEXICO                89\n",
       "ITALY                 72\n",
       "FIJI                  63\n",
       "PHILIPPINES           61\n",
       "Name: Country, dtype: int64"
      ]
     },
     "execution_count": 55,
     "metadata": {},
     "output_type": "execute_result"
    }
   ],
   "source": [
    "attacks_df.Country.value_counts(dropna=False).head(11)"
   ]
  },
  {
   "cell_type": "markdown",
   "id": "better-sleeping",
   "metadata": {},
   "source": [
    "## Type"
   ]
  },
  {
   "cell_type": "code",
   "execution_count": 56,
   "id": "hydraulic-private",
   "metadata": {},
   "outputs": [
    {
     "data": {
      "text/plain": [
       "Unprovoked      4595\n",
       "Provoked         574\n",
       "Invalid          547\n",
       "Sea Disaster     239\n",
       "Boating          203\n",
       "Boat             137\n",
       "Questionable       2\n",
       "Boatomg            1\n",
       "Name: Type, dtype: int64"
      ]
     },
     "execution_count": 56,
     "metadata": {},
     "output_type": "execute_result"
    }
   ],
   "source": [
    "# Checking the current data we have\n",
    "attacks_df.Type.value_counts()"
   ]
  },
  {
   "cell_type": "code",
   "execution_count": 57,
   "id": "attached-cleveland",
   "metadata": {},
   "outputs": [
    {
     "data": {
      "text/plain": [
       "Attacks_ID\n",
       "2       Unprovoked\n",
       "3       Unprovoked\n",
       "4       Unprovoked\n",
       "5         Provoked\n",
       "6       Unprovoked\n",
       "           ...    \n",
       "6298    Unprovoked\n",
       "6299    Unprovoked\n",
       "6300    Unprovoked\n",
       "6301    Unprovoked\n",
       "6302    Unprovoked\n",
       "Name: Type, Length: 6301, dtype: object"
      ]
     },
     "execution_count": 57,
     "metadata": {},
     "output_type": "execute_result"
    }
   ],
   "source": [
    "# Cleaning data in order to get two categories: provoked & unprovoked\n",
    "attacks_df['Type'] = attacks_df['Type'].astype(str)\n",
    "attacks_df['Type'].replace(('', 'NaN'), inplace = True)\n",
    "attacks_df['Type'].replace(('Boat', 'NaN'), inplace = True)\n",
    "attacks_df['Type'].replace(('nan', 'NaN'), inplace = True)\n",
    "attacks_df['Type'].replace(('Boatomg', 'NaN'), inplace = True)\n",
    "attacks_df['Type'].replace(('Boating', 'NaN'), inplace = True)\n",
    "attacks_df['Type'].replace(('Questionable', 'NaN'), inplace = True)\n",
    "attacks_df['Type'].replace(('Sea Disaster', 'NaN'), inplace = True)\n",
    "attacks_df['Type'].replace(('Invalid', 'NaN'), inplace = True)\n",
    "\n",
    "attacks_df = attacks_df.drop(attacks_df[attacks_df['Type'] == 'Boating'].index)\n",
    "\n",
    "attacks_df['Type'].fillna('NaN') "
   ]
  },
  {
   "cell_type": "code",
   "execution_count": 58,
   "id": "twenty-equity",
   "metadata": {},
   "outputs": [
    {
     "data": {
      "text/plain": [
       "Unprovoked    0.883193\n",
       "Provoked      0.116807\n",
       "Name: Type, dtype: float64"
      ]
     },
     "execution_count": 58,
     "metadata": {},
     "output_type": "execute_result"
    }
   ],
   "source": [
    "# Checking if we have the expected output\n",
    "attacks_df.Type.value_counts(normalize = True)"
   ]
  },
  {
   "cell_type": "code",
   "execution_count": 61,
   "id": "following-channels",
   "metadata": {
    "scrolled": true
   },
   "outputs": [
    {
     "data": {
      "image/png": "[encoded data removed]",
      "text/plain": [
       "<Figure size 360x360 with 1 Axes>"
      ]
     },
     "metadata": {
      "needs_background": "light"
     },
     "output_type": "display_data"
    }
   ],
   "source": [
    "sns.displot(x = attacks_df.Type);"
   ]
  },
  {
   "cell_type": "markdown",
   "id": "concerned-degree",
   "metadata": {},
   "source": [
    "## Activity"
   ]
  },
  {
   "cell_type": "code",
   "execution_count": 62,
   "id": "streaming-depression",
   "metadata": {},
   "outputs": [
    {
     "data": {
      "text/plain": [
       "Surfing                                                                                                              971\n",
       "Swimming                                                                                                             869\n",
       "Fishing                                                                                                              431\n",
       "Spearfishing                                                                                                         333\n",
       "Bathing                                                                                                              162\n",
       "                                                                                                                    ... \n",
       "Washed overboard from the barque Mary Eady                                                                             1\n",
       "Dived from inner-tube                                                                                                  1\n",
       "Swimming, after boat swamped                                                                                           1\n",
       "A 75-ton  Japanese fishing ship was sunk by  Chinese Nationalist gunboat, shipwrecked men were clinging to debris      1\n",
       "Boat, with 42 passengers onboard, capsized in rough seas                                                               1\n",
       "Name: Activity, Length: 1532, dtype: int64"
      ]
     },
     "execution_count": 62,
     "metadata": {},
     "output_type": "execute_result"
    }
   ],
   "source": [
    "# Checking different categories we have\n",
    "attacks_df.Activity.value_counts()"
   ]
  },
  {
   "cell_type": "code",
   "execution_count": 63,
   "id": "adopted-paragraph",
   "metadata": {},
   "outputs": [
    {
     "name": "stderr",
     "output_type": "stream",
     "text": [
      "<ipython-input-63-20ce446f2222>:2: FutureWarning: The default value of regex will change from True to False in a future version.\n",
      "  attacks_df['Activity'] = attacks_df.Activity.str.replace(r'^.*diving*', 'Diving')\n",
      "<ipython-input-63-20ce446f2222>:3: FutureWarning: The default value of regex will change from True to False in a future version.\n",
      "  attacks_df['Activity'] = attacks_df.Activity.str.replace(r'^.*Diving.*', 'Diving')\n",
      "<ipython-input-63-20ce446f2222>:4: FutureWarning: The default value of regex will change from True to False in a future version.\n",
      "  attacks_df['Activity'] = attacks_df.Activity.str.replace(r'^.*oogie.*', 'Body boarding')\n",
      "<ipython-input-63-20ce446f2222>:5: FutureWarning: The default value of regex will change from True to False in a future version.\n",
      "  attacks_df['Activity'] = attacks_df.Activity.str.replace(r'^.*Walking*', 'Standing')\n",
      "<ipython-input-63-20ce446f2222>:6: FutureWarning: The default value of regex will change from True to False in a future version.\n",
      "  attacks_df['Activity'] = attacks_df.Activity.str.replace(r'^.*wimming.*', 'Swimming')\n",
      "<ipython-input-63-20ce446f2222>:7: FutureWarning: The default value of regex will change from True to False in a future version.\n",
      "  attacks_df['Activity'] = attacks_df.Activity.str.replace(r'^.*bathing.*', 'Swimming')\n",
      "<ipython-input-63-20ce446f2222>:8: FutureWarning: The default value of regex will change from True to False in a future version.\n",
      "  attacks_df['Activity'] = attacks_df.Activity.str.replace(r'^.*Bathing.*', 'Swimming')\n",
      "<ipython-input-63-20ce446f2222>:9: FutureWarning: The default value of regex will change from True to False in a future version.\n",
      "  attacks_df['Activity'] = attacks_df.Activity.str.replace(r'^.*fish.*', 'Sailing')\n",
      "<ipython-input-63-20ce446f2222>:10: FutureWarning: The default value of regex will change from True to False in a future version.\n",
      "  attacks_df['Activity'] = attacks_df.Activity.str.replace(r'^.*Fish.*', 'Sailing')\n",
      "<ipython-input-63-20ce446f2222>:11: FutureWarning: The default value of regex will change from True to False in a future version.\n",
      "  attacks_df['Activity'] = attacks_df.Activity.str.replace(r'^.*sail.*', 'Sailing')\n",
      "<ipython-input-63-20ce446f2222>:12: FutureWarning: The default value of regex will change from True to False in a future version.\n",
      "  attacks_df['Activity'] = attacks_df.Activity.str.replace(r'^.*surf.*', 'Surfing')\n",
      "<ipython-input-63-20ce446f2222>:13: FutureWarning: The default value of regex will change from True to False in a future version.\n",
      "  attacks_df['Activity'] = attacks_df.Activity.str.replace(r'^.*Treading.*', 'Standing')\n",
      "<ipython-input-63-20ce446f2222>:14: FutureWarning: The default value of regex will change from True to False in a future version.\n",
      "  attacks_df['Activity'] = attacks_df.Activity.str.replace(r'^.*Surf skiing.*', 'Surf-skiing')\n",
      "<ipython-input-63-20ce446f2222>:15: FutureWarning: The default value of regex will change from True to False in a future version.\n",
      "  attacks_df['Activity'] = attacks_df.Activity.str.replace(r'\\w{13}', 'NaN')\n"
     ]
    },
    {
     "data": {
      "text/plain": [
       "Attacks_ID\n",
       "2       Standing\n",
       "3        Surfing\n",
       "4        Surfing\n",
       "5         Diving\n",
       "6        Surfing\n",
       "          ...   \n",
       "6298      Diving\n",
       "6299      Diving\n",
       "6300    Swimming\n",
       "6301         nan\n",
       "6302    Swimming\n",
       "Name: Activity, Length: 6301, dtype: object"
      ]
     },
     "execution_count": 63,
     "metadata": {},
     "output_type": "execute_result"
    }
   ],
   "source": [
    "# Cleaning the data in order to get some heterogeneous clusters\n",
    "attacks_df['Activity'] = attacks_df['Activity'].astype(str)\n",
    "attacks_df['Activity'] = attacks_df.Activity.str.replace(r'^.*diving*', 'Diving')\n",
    "attacks_df['Activity'] = attacks_df.Activity.str.replace(r'^.*Diving.*', 'Diving')\n",
    "attacks_df['Activity'] = attacks_df.Activity.str.replace(r'^.*oogie.*', 'Body boarding')\n",
    "attacks_df['Activity'] = attacks_df.Activity.str.replace(r'^.*Walking*', 'Standing')\n",
    "attacks_df['Activity'] = attacks_df.Activity.str.replace(r'^.*wimming.*', 'Swimming')\n",
    "attacks_df['Activity'] = attacks_df.Activity.str.replace(r'^.*bathing.*', 'Swimming')\n",
    "attacks_df['Activity'] = attacks_df.Activity.str.replace(r'^.*Bathing.*', 'Swimming')\n",
    "attacks_df['Activity'] = attacks_df.Activity.str.replace(r'^.*fish.*', 'Sailing')\n",
    "attacks_df['Activity'] = attacks_df.Activity.str.replace(r'^.*Fish.*', 'Sailing')\n",
    "attacks_df['Activity'] = attacks_df.Activity.str.replace(r'^.*sail.*', 'Sailing')\n",
    "attacks_df['Activity'] = attacks_df.Activity.str.replace(r'^.*surf.*', 'Surfing')\n",
    "attacks_df['Activity'] = attacks_df.Activity.str.replace(r'^.*Treading.*', 'Standing')\n",
    "attacks_df['Activity'] = attacks_df.Activity.str.replace(r'^.*Surf skiing.*', 'Surf-skiing')\n",
    "attacks_df['Activity'] = attacks_df.Activity.str.replace(r'\\w{13}', 'NaN')\n",
    "attacks_df['Activity'].fillna('NaN') "
   ]
  },
  {
   "cell_type": "code",
   "execution_count": 64,
   "id": "stopped-handling",
   "metadata": {
    "scrolled": false
   },
   "outputs": [
    {
     "data": {
      "text/plain": [
       "Swimming          1301\n",
       "Sailing           1172\n",
       "Surfing           1112\n",
       "Diving             578\n",
       "nan                544\n",
       "Standing           153\n",
       "Wading             149\n",
       "Body boarding      116\n",
       "Snorkeling          89\n",
       "Kayaking            33\n",
       "Fell overboard      32\n",
       "Surf-skiing         31\n",
       "Floating            14\n",
       "Canoeing            13\n",
       "Rowing              12\n",
       "Name: Activity, dtype: int64"
      ]
     },
     "execution_count": 64,
     "metadata": {},
     "output_type": "execute_result"
    }
   ],
   "source": [
    "# Checking the final output\n",
    "attacks_df.Activity.value_counts(dropna=False).head(15)"
   ]
  },
  {
   "cell_type": "markdown",
   "id": "large-rating",
   "metadata": {},
   "source": [
    "## Injury"
   ]
  },
  {
   "cell_type": "code",
   "execution_count": 66,
   "id": "veterinary-spanking",
   "metadata": {},
   "outputs": [
    {
     "data": {
      "text/plain": [
       "count      6273\n",
       "unique     3736\n",
       "top       FATAL\n",
       "freq        802\n",
       "Name: Injury, dtype: object"
      ]
     },
     "execution_count": 66,
     "metadata": {},
     "output_type": "execute_result"
    }
   ],
   "source": [
    "attacks_df['Injury'].describe() "
   ]
  },
  {
   "cell_type": "code",
   "execution_count": 67,
   "id": "strange-lounge",
   "metadata": {},
   "outputs": [
    {
     "data": {
      "text/plain": [
       "FATAL                        802\n",
       "Survived                      97\n",
       "Foot bitten                   87\n",
       "No injury                     82\n",
       "Leg bitten                    72\n",
       "Left foot bitten              50\n",
       "No details                    43\n",
       "Right foot bitten             39\n",
       "No injury, board bitten       31\n",
       "Hand bitten                   29\n",
       "Thigh bitten                  27\n",
       "FATAL, body not recovered     24\n",
       "Calf bitten                   22\n",
       "Minor injury                  22\n",
       "Foot lacerated                21\n",
       "Name: Injury, dtype: int64"
      ]
     },
     "execution_count": 67,
     "metadata": {},
     "output_type": "execute_result"
    }
   ],
   "source": [
    "# Cheking the current data we have\n",
    "attacks_df.Injury.value_counts().head(15)"
   ]
  },
  {
   "cell_type": "code",
   "execution_count": 68,
   "id": "collaborative-elephant",
   "metadata": {},
   "outputs": [
    {
     "name": "stderr",
     "output_type": "stream",
     "text": [
      "<ipython-input-68-c94a3db1209f>:3: FutureWarning: The default value of regex will change from True to False in a future version.\n",
      "  attacks_df['Injury'] = attacks_df.Injury.str.replace(r'^.*FATAL.*', 'FATAL')\n",
      "<ipython-input-68-c94a3db1209f>:4: FutureWarning: The default value of regex will change from True to False in a future version.\n",
      "  attacks_df['Injury'] = attacks_df.Injury.str.replace(r'^.*Fatal.*', 'FATAL')\n",
      "<ipython-input-68-c94a3db1209f>:5: FutureWarning: The default value of regex will change from True to False in a future version.\n",
      "  attacks_df['Injury'] = attacks_df.Injury.str.replace(r'^.*bitten.*', 'Bitten')\n",
      "<ipython-input-68-c94a3db1209f>:6: FutureWarning: The default value of regex will change from True to False in a future version.\n",
      "  attacks_df['Injury'] = attacks_df.Injury.str.replace(r'^.*bitten.*', 'Bitten')\n",
      "<ipython-input-68-c94a3db1209f>:7: FutureWarning: The default value of regex will change from True to False in a future version.\n",
      "  attacks_df['Injury'] = attacks_df.Injury.str.replace(r'^.*No injury.*', 'No injury')\n",
      "<ipython-input-68-c94a3db1209f>:8: FutureWarning: The default value of regex will change from True to False in a future version.\n",
      "  attacks_df['Injury'] = attacks_df.Injury.str.replace(r'^.*acerat.*', 'Bitten')\n",
      "<ipython-input-68-c94a3db1209f>:9: FutureWarning: The default value of regex will change from True to False in a future version.\n",
      "  attacks_df['Injury'] = attacks_df.Injury.str.replace(r'^.*njur.*', 'Bitten')\n",
      "<ipython-input-68-c94a3db1209f>:10: FutureWarning: The default value of regex will change from True to False in a future version.\n",
      "  attacks_df['Injury'] = attacks_df.Injury.str.replace(r'^.*evere.*', 'Bitten')\n",
      "<ipython-input-68-c94a3db1209f>:11: FutureWarning: The default value of regex will change from True to False in a future version.\n",
      "  attacks_df['Injury'] = attacks_df.Injury.str.replace(r'^.*wound.*', 'Bitten')\n",
      "<ipython-input-68-c94a3db1209f>:12: FutureWarning: The default value of regex will change from True to False in a future version.\n",
      "  attacks_df['Injury'] = attacks_df.Injury.str.replace(r'^.*brasio.*', 'Bitten')\n",
      "<ipython-input-68-c94a3db1209f>:13: FutureWarning: The default value of regex will change from True to False in a future version.\n",
      "  attacks_df['Injury'] = attacks_df.Injury.str.replace(r'^\\D{13}$', 'NaN')\n"
     ]
    },
    {
     "data": {
      "text/plain": [
       "Attacks_ID\n",
       "2       Bitten\n",
       "3       Bitten\n",
       "4       Bitten\n",
       "5       Bitten\n",
       "6       Bitten\n",
       "         ...  \n",
       "6298     FATAL\n",
       "6299     FATAL\n",
       "6300     FATAL\n",
       "6301     FATAL\n",
       "6302     FATAL\n",
       "Name: Injury, Length: 6301, dtype: object"
      ]
     },
     "execution_count": 68,
     "metadata": {},
     "output_type": "execute_result"
    }
   ],
   "source": [
    "# Cleaning data in order to normalize it in clusters\n",
    "attacks_df['Injury'] = attacks_df['Injury'].astype(str)\n",
    "attacks_df['Injury'] = attacks_df.Injury.str.replace(r'^.*FATAL.*', 'FATAL')\n",
    "attacks_df['Injury'] = attacks_df.Injury.str.replace(r'^.*Fatal.*', 'FATAL')\n",
    "attacks_df['Injury'] = attacks_df.Injury.str.replace(r'^.*bitten.*', 'Bitten')\n",
    "attacks_df['Injury'] = attacks_df.Injury.str.replace(r'^.*bitten.*', 'Bitten')\n",
    "attacks_df['Injury'] = attacks_df.Injury.str.replace(r'^.*No injury.*', 'No injury')\n",
    "attacks_df['Injury'] = attacks_df.Injury.str.replace(r'^.*acerat.*', 'Bitten')\n",
    "attacks_df['Injury'] = attacks_df.Injury.str.replace(r'^.*njur.*', 'Bitten')\n",
    "attacks_df['Injury'] = attacks_df.Injury.str.replace(r'^.*evere.*', 'Bitten')\n",
    "attacks_df['Injury'] = attacks_df.Injury.str.replace(r'^.*wound.*', 'Bitten')\n",
    "attacks_df['Injury'] = attacks_df.Injury.str.replace(r'^.*brasio.*', 'Bitten')\n",
    "attacks_df['Injury'] = attacks_df.Injury.str.replace(r'^\\D{13}$', 'NaN')\n",
    "attacks_df['Injury'].replace(('No details','NaN'), inplace = True)\n",
    "attacks_df['Injury'].fillna('NaN') "
   ]
  },
  {
   "cell_type": "code",
   "execution_count": 69,
   "id": "excellent-archive",
   "metadata": {},
   "outputs": [
    {
     "data": {
      "text/plain": [
       "count       6301\n",
       "unique       732\n",
       "top       Bitten\n",
       "freq        4026\n",
       "Name: Injury, dtype: object"
      ]
     },
     "execution_count": 69,
     "metadata": {},
     "output_type": "execute_result"
    }
   ],
   "source": [
    "# Checking the output\n",
    "attacks_df['Injury'].describe() "
   ]
  },
  {
   "cell_type": "markdown",
   "id": "diverse-console",
   "metadata": {},
   "source": [
    "## Fatal"
   ]
  },
  {
   "cell_type": "code",
   "execution_count": 70,
   "id": "wicked-barrel",
   "metadata": {},
   "outputs": [
    {
     "data": {
      "text/plain": [
       "count     5762\n",
       "unique       8\n",
       "top          N\n",
       "freq      4292\n",
       "Name: Fatal, dtype: object"
      ]
     },
     "execution_count": 70,
     "metadata": {},
     "output_type": "execute_result"
    }
   ],
   "source": [
    "# Checking the status of the data we have\n",
    "attacks_df['Fatal'].describe() "
   ]
  },
  {
   "cell_type": "code",
   "execution_count": 71,
   "id": "national-bathroom",
   "metadata": {},
   "outputs": [
    {
     "data": {
      "text/plain": [
       "array(['N', 'Y', nan, 'M', 'UNKNOWN', '2017', ' N', 'N ', 'y'],\n",
       "      dtype=object)"
      ]
     },
     "execution_count": 71,
     "metadata": {},
     "output_type": "execute_result"
    }
   ],
   "source": [
    "attacks_df['Fatal'].unique()"
   ]
  },
  {
   "cell_type": "code",
   "execution_count": 72,
   "id": "dominican-attempt",
   "metadata": {},
   "outputs": [
    {
     "data": {
      "text/plain": [
       "Attacks_ID\n",
       "2       N\n",
       "3       N\n",
       "4       N\n",
       "5       N\n",
       "6       N\n",
       "       ..\n",
       "6298    Y\n",
       "6299    Y\n",
       "6300    Y\n",
       "6301    Y\n",
       "6302    Y\n",
       "Name: Fatal, Length: 6211, dtype: object"
      ]
     },
     "execution_count": 72,
     "metadata": {},
     "output_type": "execute_result"
    }
   ],
   "source": [
    "# Cleaning the column in order to get only two options\n",
    "attacks_df['Fatal'] = attacks_df['Fatal'].astype(str)\n",
    "attacks_df['Fatal'].replace(('nan','NaN'), inplace = True)\n",
    "attacks_df = attacks_df.drop(attacks_df[attacks_df['Fatal'] == 'y'].index)\n",
    "attacks_df = attacks_df.drop(attacks_df[attacks_df['Fatal'] == 'M'].index)\n",
    "attacks_df = attacks_df.drop(attacks_df[attacks_df['Fatal'] == 'UNKNOWN'].index)\n",
    "attacks_df = attacks_df.drop(attacks_df[attacks_df['Fatal'] == '2017'].index)\n",
    "attacks_df = attacks_df.drop(attacks_df[attacks_df['Fatal'] == ' N'].index)\n",
    "attacks_df = attacks_df.drop(attacks_df[attacks_df['Fatal'] == 'N '].index)\n",
    "attacks_df['Fatal'].fillna('NaN') "
   ]
  },
  {
   "cell_type": "code",
   "execution_count": 73,
   "id": "congressional-shark",
   "metadata": {},
   "outputs": [
    {
     "data": {
      "text/plain": [
       "array(['N', 'Y'], dtype=object)"
      ]
     },
     "execution_count": 73,
     "metadata": {},
     "output_type": "execute_result"
    }
   ],
   "source": [
    "# Cheking we have the expected output\n",
    "attacks_df.Fatal.unique()"
   ]
  },
  {
   "cell_type": "code",
   "execution_count": 74,
   "id": "expanded-pitch",
   "metadata": {},
   "outputs": [
    {
     "data": {
      "text/plain": [
       "N    0.755112\n",
       "Y    0.244888\n",
       "Name: Fatal, dtype: float64"
      ]
     },
     "execution_count": 74,
     "metadata": {},
     "output_type": "execute_result"
    }
   ],
   "source": [
    "attacks_df['Fatal'].value_counts(normalize = True) "
   ]
  },
  {
   "cell_type": "code",
   "execution_count": 75,
   "id": "introductory-polymer",
   "metadata": {},
   "outputs": [
    {
     "data": {
      "image/png": "[encoded data removed]",
      "text/plain": [
       "<Figure size 360x360 with 1 Axes>"
      ]
     },
     "metadata": {
      "needs_background": "light"
     },
     "output_type": "display_data"
    }
   ],
   "source": [
    "# Attacks mortality distribution\n",
    "sns.displot(x = attacks_df.Fatal);"
   ]
  },
  {
   "cell_type": "code",
   "execution_count": 76,
   "id": "running-economics",
   "metadata": {},
   "outputs": [
    {
     "data": {
      "text/plain": [
       "N    0.755112\n",
       "Y    0.244888\n",
       "Name: Fatal, dtype: float64"
      ]
     },
     "execution_count": 76,
     "metadata": {},
     "output_type": "execute_result"
    }
   ],
   "source": [
    "attacks_df.Fatal.value_counts(normalize=True)\n",
    "# 24% of shark attacks are fatal"
   ]
  },
  {
   "cell_type": "code",
   "execution_count": 77,
   "id": "bound-casino",
   "metadata": {},
   "outputs": [
    {
     "data": {
      "text/plain": [
       "count            3431\n",
       "unique           1538\n",
       "top       White shark\n",
       "freq              159\n",
       "Name: Species, dtype: object"
      ]
     },
     "execution_count": 77,
     "metadata": {},
     "output_type": "execute_result"
    }
   ],
   "source": [
    "attacks_df.Species.describe()"
   ]
  },
  {
   "cell_type": "markdown",
   "id": "pursuant-input",
   "metadata": {},
   "source": [
    "## New dataset"
   ]
  },
  {
   "cell_type": "code",
   "execution_count": 78,
   "id": "criminal-particle",
   "metadata": {},
   "outputs": [],
   "source": [
    "# Cleaning the non usefull columns\n",
    "attacks_df = attacks_df.drop(columns = ['Date', 'Year', 'Location', 'Species', 'Case number.1'])"
   ]
  },
  {
   "cell_type": "code",
   "execution_count": 79,
   "id": "killing-trinity",
   "metadata": {},
   "outputs": [],
   "source": [
    "# Saving clean dataframe\n",
    "attacks_df.to_pickle(\"sharks_df.csv\")"
   ]
  }
 ],
 "metadata": {
  "kernelspec": {
   "display_name": "Python 3",
   "language": "python",
   "name": "python3"
  },
  "language_info": {
   "codemirror_mode": {
    "name": "ipython",
    "version": 3
   },
   "file_extension": ".py",
   "mimetype": "text/x-python",
   "name": "python",
   "nbconvert_exporter": "python",
   "pygments_lexer": "ipython3",
   "version": "3.8.2"
  }
 },
 "nbformat": 4,
 "nbformat_minor": 5
}
