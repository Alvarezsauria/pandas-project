{
 "cells": [
  {
   "cell_type": "markdown",
   "id": "cheap-amount",
   "metadata": {},
   "source": [
    "**Importing libraries**"
   ]
  },
  {
   "cell_type": "code",
   "execution_count": 51,
   "id": "convertible-redhead",
   "metadata": {},
   "outputs": [],
   "source": [
    "import numpy as np\n",
    "import seaborn as sns\n",
    "import pandas as pd\n",
    "import matplotlib.pyplot as plt"
   ]
  },
  {
   "cell_type": "markdown",
   "id": "gothic-lying",
   "metadata": {},
   "source": [
    "**DataFrame**"
   ]
  },
  {
   "cell_type": "code",
   "execution_count": 52,
   "id": "alleged-empire",
   "metadata": {},
   "outputs": [],
   "source": [
    "# Reading and encoding dataframe\n",
    "attacks = pd.read_csv('/Users/victor/maria/ironhack_labs/attacks.csv', encoding='cp1252')\n",
    "attacks_df = attacks.copy()"
   ]
  },
  {
   "cell_type": "code",
   "execution_count": 53,
   "id": "baking-cause",
   "metadata": {},
   "outputs": [
    {
     "name": "stdout",
     "output_type": "stream",
     "text": [
      "<class 'pandas.core.frame.DataFrame'>\n",
      "RangeIndex: 25723 entries, 0 to 25722\n",
      "Data columns (total 24 columns):\n",
      " #   Column                  Non-Null Count  Dtype  \n",
      "---  ------                  --------------  -----  \n",
      " 0   Case Number             8702 non-null   object \n",
      " 1   Date                    6302 non-null   object \n",
      " 2   Year                    6300 non-null   float64\n",
      " 3   Type                    6298 non-null   object \n",
      " 4   Country                 6252 non-null   object \n",
      " 5   Area                    5847 non-null   object \n",
      " 6   Location                5762 non-null   object \n",
      " 7   Activity                5758 non-null   object \n",
      " 8   Name                    6092 non-null   object \n",
      " 9   Sex                     5737 non-null   object \n",
      " 10  Age                     3471 non-null   object \n",
      " 11  Injury                  6274 non-null   object \n",
      " 12  Fatal (Y/N)             5763 non-null   object \n",
      " 13  Time                    2948 non-null   object \n",
      " 14  Species                 3464 non-null   object \n",
      " 15  Investigator or Source  6285 non-null   object \n",
      " 16  pdf                     6302 non-null   object \n",
      " 17  href formula            6301 non-null   object \n",
      " 18  href                    6302 non-null   object \n",
      " 19  Case Number.1           6302 non-null   object \n",
      " 20  Case Number.2           6302 non-null   object \n",
      " 21  original order          6309 non-null   float64\n",
      " 22  Unnamed: 22             1 non-null      object \n",
      " 23  Unnamed: 23             2 non-null      object \n",
      "dtypes: float64(2), object(22)\n",
      "memory usage: 4.7+ MB\n"
     ]
    }
   ],
   "source": [
    "# Getting some basic info\n",
    "attacks_df.info()"
   ]
  },
  {
   "cell_type": "code",
   "execution_count": 54,
   "id": "hearing-garage",
   "metadata": {},
   "outputs": [],
   "source": [
    "# General cleaning\n",
    "attacks_df.dropna(axis = 0, how = 'all', inplace = True)\n",
    "attacks_df.columns = attacks_df.columns.str.capitalize().str.strip()\n",
    "attacks_df = attacks_df.drop(attacks_df[attacks_df['Case number'] == '0'].index)\n",
    "attacks_df = attacks_df.drop(attacks_df[attacks_df['Case number'] == 'xx'].index)\n",
    "pd.set_option('display.max_rows', 30)\n",
    "pd.set_option('display.max_columns', 24)"
   ]
  },
  {
   "cell_type": "code",
   "execution_count": 55,
   "id": "familiar-agriculture",
   "metadata": {},
   "outputs": [
    {
     "name": "stdout",
     "output_type": "stream",
     "text": [
      "<class 'pandas.core.frame.DataFrame'>\n",
      "Int64Index: 6302 entries, 0 to 6301\n",
      "Data columns (total 24 columns):\n",
      " #   Column                  Non-Null Count  Dtype  \n",
      "---  ------                  --------------  -----  \n",
      " 0   Case number             6301 non-null   object \n",
      " 1   Date                    6302 non-null   object \n",
      " 2   Year                    6300 non-null   float64\n",
      " 3   Type                    6298 non-null   object \n",
      " 4   Country                 6252 non-null   object \n",
      " 5   Area                    5847 non-null   object \n",
      " 6   Location                5762 non-null   object \n",
      " 7   Activity                5758 non-null   object \n",
      " 8   Name                    6092 non-null   object \n",
      " 9   Sex                     5737 non-null   object \n",
      " 10  Age                     3471 non-null   object \n",
      " 11  Injury                  6274 non-null   object \n",
      " 12  Fatal (y/n)             5763 non-null   object \n",
      " 13  Time                    2948 non-null   object \n",
      " 14  Species                 3464 non-null   object \n",
      " 15  Investigator or source  6285 non-null   object \n",
      " 16  Pdf                     6302 non-null   object \n",
      " 17  Href formula            6301 non-null   object \n",
      " 18  Href                    6302 non-null   object \n",
      " 19  Case number.1           6302 non-null   object \n",
      " 20  Case number.2           6302 non-null   object \n",
      " 21  Original order          6302 non-null   float64\n",
      " 22  Unnamed: 22             1 non-null      object \n",
      " 23  Unnamed: 23             2 non-null      object \n",
      "dtypes: float64(2), object(22)\n",
      "memory usage: 1.2+ MB\n"
     ]
    }
   ],
   "source": [
    "# New valid info\n",
    "attacks_df.info()"
   ]
  },
  {
   "cell_type": "code",
   "execution_count": 56,
   "id": "compressed-think",
   "metadata": {},
   "outputs": [
    {
     "name": "stdout",
     "output_type": "stream",
     "text": [
      "False\n",
      "False\n",
      "False\n",
      "False\n"
     ]
    }
   ],
   "source": [
    "# Checking if there is any valid ID\n",
    "print(attacks_df['Case number.1'].is_unique)\n",
    "print(attacks_df['Original order'].is_unique)\n",
    "print(attacks_df['Href'].is_unique)\n",
    "print(attacks_df['Pdf'].is_unique)"
   ]
  },
  {
   "cell_type": "code",
   "execution_count": 57,
   "id": "agricultural-mexico",
   "metadata": {},
   "outputs": [
    {
     "name": "stdout",
     "output_type": "stream",
     "text": [
      "Empty DataFrame\n",
      "Columns: [Case number, Date, Year, Type, Country, Area, Location, Activity, Name, Sex, Age, Injury, Fatal (y/n), Time, Species, Investigator or source, Pdf, Href formula, Href, Case number.1, Case number.2, Original order, Unnamed: 22, Unnamed: 23]\n",
      "Index: []\n"
     ]
    }
   ],
   "source": [
    "# Checking there are not duplicated rows, before setting a new ID\n",
    "duplicateRows = attacks_df[attacks_df.duplicated()]\n",
    "print(duplicateRows)"
   ]
  },
  {
   "cell_type": "code",
   "execution_count": 58,
   "id": "dressed-drove",
   "metadata": {},
   "outputs": [],
   "source": [
    "attacks_df = attacks_df.drop(columns = ['Case number', 'Area', 'Name', 'Time', 'Investigator or source','Pdf','Href formula', 'Href', 'Case number.2', 'Original order', 'Unnamed: 22', 'Unnamed: 23'])\n",
    "# Case number: is not unique, and doesn't give us relevant information\n",
    "# Area: is a categorical variable with many different options, we will use Country instead\n",
    "# Name: doesn't give us relevant info about the attack\n",
    "# Time: is an incomplete variable\n",
    "# Invesigation or source: doesn't give us relevant information about the attack\n",
    "# Pdf: doesn't give us relevant info\n",
    "# Href formula: doesn't give us relevant info\n",
    "# Href: doesn't give us relevant info\n",
    "# Case number.2: repeated column\n",
    "# Original order: could be used to get the date easier, as well as Case Number, but we will use Date and Year instead\n",
    "# Unnamed: 22: empty column\n",
    "# Unnamed: 23: empty column"
   ]
  },
  {
   "cell_type": "code",
   "execution_count": 60,
   "id": "direct-estate",
   "metadata": {},
   "outputs": [],
   "source": [
    "# Setting a new ID\n",
    "attacks_df.index = [x for x in range(1, len(attacks_df.values)+1)]\n",
    "attacks_df.index.name = 'Attacks_ID'"
   ]
  },
  {
   "cell_type": "code",
   "execution_count": 61,
   "id": "extensive-vision",
   "metadata": {},
   "outputs": [
    {
     "name": "stdout",
     "output_type": "stream",
     "text": [
      "<class 'pandas.core.frame.DataFrame'>\n",
      "Int64Index: 6302 entries, 1 to 6302\n",
      "Data columns (total 12 columns):\n",
      " #   Column         Non-Null Count  Dtype  \n",
      "---  ------         --------------  -----  \n",
      " 0   Date           6302 non-null   object \n",
      " 1   Year           6300 non-null   float64\n",
      " 2   Type           6298 non-null   object \n",
      " 3   Country        6252 non-null   object \n",
      " 4   Location       5762 non-null   object \n",
      " 5   Activity       5758 non-null   object \n",
      " 6   Sex            5737 non-null   object \n",
      " 7   Age            3471 non-null   object \n",
      " 8   Injury         6274 non-null   object \n",
      " 9   Fatal (y/n)    5763 non-null   object \n",
      " 10  Species        3464 non-null   object \n",
      " 11  Case number.1  6302 non-null   object \n",
      "dtypes: float64(1), object(11)\n",
      "memory usage: 640.0+ KB\n"
     ]
    }
   ],
   "source": [
    "attacks_df.info()"
   ]
  },
  {
   "cell_type": "markdown",
   "id": "centered-platinum",
   "metadata": {},
   "source": [
    "# Demographics"
   ]
  },
  {
   "cell_type": "code",
   "execution_count": 62,
   "id": "complicated-current",
   "metadata": {},
   "outputs": [
    {
     "data": {
      "text/html": [
       "<div>\n",
       "<style scoped>\n",
       "    .dataframe tbody tr th:only-of-type {\n",
       "        vertical-align: middle;\n",
       "    }\n",
       "\n",
       "    .dataframe tbody tr th {\n",
       "        vertical-align: top;\n",
       "    }\n",
       "\n",
       "    .dataframe thead th {\n",
       "        text-align: right;\n",
       "    }\n",
       "</style>\n",
       "<table border=\"1\" class=\"dataframe\">\n",
       "  <thead>\n",
       "    <tr style=\"text-align: right;\">\n",
       "      <th></th>\n",
       "      <th>Sex</th>\n",
       "      <th>Age</th>\n",
       "    </tr>\n",
       "    <tr>\n",
       "      <th>Attacks_ID</th>\n",
       "      <th></th>\n",
       "      <th></th>\n",
       "    </tr>\n",
       "  </thead>\n",
       "  <tbody>\n",
       "    <tr>\n",
       "      <th>1</th>\n",
       "      <td>F</td>\n",
       "      <td>57</td>\n",
       "    </tr>\n",
       "    <tr>\n",
       "      <th>2</th>\n",
       "      <td>F</td>\n",
       "      <td>11</td>\n",
       "    </tr>\n",
       "    <tr>\n",
       "      <th>3</th>\n",
       "      <td>M</td>\n",
       "      <td>48</td>\n",
       "    </tr>\n",
       "    <tr>\n",
       "      <th>4</th>\n",
       "      <td>M</td>\n",
       "      <td>NaN</td>\n",
       "    </tr>\n",
       "    <tr>\n",
       "      <th>5</th>\n",
       "      <td>M</td>\n",
       "      <td>NaN</td>\n",
       "    </tr>\n",
       "    <tr>\n",
       "      <th>...</th>\n",
       "      <td>...</td>\n",
       "      <td>...</td>\n",
       "    </tr>\n",
       "    <tr>\n",
       "      <th>6298</th>\n",
       "      <td>M</td>\n",
       "      <td>NaN</td>\n",
       "    </tr>\n",
       "    <tr>\n",
       "      <th>6299</th>\n",
       "      <td>M</td>\n",
       "      <td>NaN</td>\n",
       "    </tr>\n",
       "    <tr>\n",
       "      <th>6300</th>\n",
       "      <td>M</td>\n",
       "      <td>NaN</td>\n",
       "    </tr>\n",
       "    <tr>\n",
       "      <th>6301</th>\n",
       "      <td>M</td>\n",
       "      <td>NaN</td>\n",
       "    </tr>\n",
       "    <tr>\n",
       "      <th>6302</th>\n",
       "      <td>M</td>\n",
       "      <td>15</td>\n",
       "    </tr>\n",
       "  </tbody>\n",
       "</table>\n",
       "<p>6302 rows × 2 columns</p>\n",
       "</div>"
      ],
      "text/plain": [
       "           Sex  Age\n",
       "Attacks_ID         \n",
       "1            F   57\n",
       "2            F   11\n",
       "3            M   48\n",
       "4            M  NaN\n",
       "5            M  NaN\n",
       "...         ..  ...\n",
       "6298         M  NaN\n",
       "6299         M  NaN\n",
       "6300         M  NaN\n",
       "6301         M  NaN\n",
       "6302         M   15\n",
       "\n",
       "[6302 rows x 2 columns]"
      ]
     },
     "execution_count": 62,
     "metadata": {},
     "output_type": "execute_result"
    }
   ],
   "source": [
    "attacks_df[['Sex','Age']]"
   ]
  },
  {
   "cell_type": "markdown",
   "id": "floppy-logging",
   "metadata": {},
   "source": [
    "## Age"
   ]
  },
  {
   "cell_type": "code",
   "execution_count": 63,
   "id": "timely-custody",
   "metadata": {},
   "outputs": [
    {
     "data": {
      "text/plain": [
       "count     3471\n",
       "unique     157\n",
       "top         17\n",
       "freq       154\n",
       "Name: Age, dtype: object"
      ]
     },
     "execution_count": 63,
     "metadata": {},
     "output_type": "execute_result"
    }
   ],
   "source": [
    "attacks_df.Age.describe()"
   ]
  },
  {
   "cell_type": "code",
   "execution_count": 64,
   "id": "helpful-welsh",
   "metadata": {},
   "outputs": [
    {
     "data": {
      "text/plain": [
       "NaN         2831\n",
       "17           154\n",
       "18           150\n",
       "19           142\n",
       "20           141\n",
       "            ... \n",
       "87             1\n",
       "18 or 20       1\n",
       "33 & 26        1\n",
       "? & 19         1\n",
       "9 months       1\n",
       "Name: Age, Length: 158, dtype: int64"
      ]
     },
     "execution_count": 64,
     "metadata": {},
     "output_type": "execute_result"
    }
   ],
   "source": [
    "attacks_df.Age.value_counts(dropna=False)"
   ]
  },
  {
   "cell_type": "markdown",
   "id": "lined-medicine",
   "metadata": {},
   "source": [
    "We have 640 valid data in Age, let's try to rise it a little bit"
   ]
  },
  {
   "cell_type": "code",
   "execution_count": 22,
   "id": "forty-outside",
   "metadata": {},
   "outputs": [
    {
     "data": {
      "text/plain": [
       "array(['57', '11', '48', nan, '18', '52', '15', '12', '32', '10', '21',\n",
       "       '34', '30', '60', '33', '29', '54', '41', '37', '56', '19', '25',\n",
       "       '69', '38', '55', '35', '46', '45', '14', '40s', '28', '20', '24',\n",
       "       '26', '49', '22', '7', '31', '17', '40', '13', '42', '3', '8',\n",
       "       '50', '16', '82', '73', '20s', '68', '51', '39', '58', 'Teen',\n",
       "       '47', '61', '65', '36', '66', '43', '60s', '9', '72', '59', '6',\n",
       "       '27', '64', '23', '71', '44', '62', '63', '70', '18 months', '53',\n",
       "       '30s', '50s', 'teen', '77', '74', '28 & 26', '5', '86', '18 or 20',\n",
       "       '12 or 13', '46 & 34', '28, 23 & 30', 'Teens', '36 & 26',\n",
       "       '8 or 10', '84', '\\xa0 ', ' ', '30 or 36', '6½', '21 & ?', '75',\n",
       "       '33 or 37', 'mid-30s', '23 & 20', ' 30', '7      &    31', ' 28',\n",
       "       '20?', \"60's\", '32 & 30', '16 to 18', '87', '67', 'Elderly',\n",
       "       'mid-20s', 'Ca. 33', '74 ', '45 ', '21 or 26', '20 ', '>50',\n",
       "       '18 to 22', 'adult', '9 & 12', '? & 19', '9 months', '25 to 35',\n",
       "       '23 & 26', '1', '(adult)', '33 & 37', '25 or 28',\n",
       "       '37, 67, 35, 27,  ? & 27', '21, 34,24 & 35', '30 & 32', '50 & 30',\n",
       "       '17 & 35', 'X', '\"middle-age\"', '13 or 18', '34 & 19', '33 & 26',\n",
       "       '2 to 3 months', 'MAKE LINE GREEN', ' 43', '81', '\"young\"',\n",
       "       '7 or 8', '78', '17 & 16', 'F', 'Both 11', '9 or 10', 'young',\n",
       "       '36 & 23', '  ', 'A.M.', '?    &   14', '10 or 12', '31 or 33',\n",
       "       '2½', '13 or 14'], dtype=object)"
      ]
     },
     "execution_count": 22,
     "metadata": {},
     "output_type": "execute_result"
    }
   ],
   "source": [
    "attacks_df.Age.unique()"
   ]
  },
  {
   "cell_type": "markdown",
   "id": "exact-transaction",
   "metadata": {},
   "source": [
    "**If we assume:**\n",
    "- Teenagers are between 13 and 19; so the mean will be *16*\n",
    "- Youngs are from 20 to 30; so the mean will be *25*\n",
    "- Adults are from 31 to 65; so the mean is *48*\n",
    "- Elderly are from 66 to 100+; the mean is around *88*"
   ]
  },
  {
   "cell_type": "code",
   "execution_count": 65,
   "id": "inner-aruba",
   "metadata": {},
   "outputs": [
    {
     "name": "stderr",
     "output_type": "stream",
     "text": [
      "<ipython-input-65-3d9bd2cc2b39>:2: FutureWarning: The default value of regex will change from True to False in a future version.\n",
      "  attacks_df['Age'] = attacks_df.Age.str.replace(r'(^.*een.*$)', '16')\n",
      "<ipython-input-65-3d9bd2cc2b39>:3: FutureWarning: The default value of regex will change from True to False in a future version.\n",
      "  attacks_df['Age'] = attacks_df.Age.str.replace(r'(^.*oun.*$)', '25')\n",
      "<ipython-input-65-3d9bd2cc2b39>:4: FutureWarning: The default value of regex will change from True to False in a future version.\n",
      "  attacks_df['Age'] = attacks_df.Age.str.replace(r'(^.*dul.*$)', '48')\n",
      "<ipython-input-65-3d9bd2cc2b39>:5: FutureWarning: The default value of regex will change from True to False in a future version.\n",
      "  attacks_df['Age'] = attacks_df.Age.str.replace(r'(^.*lderl.*$)', '88')\n",
      "<ipython-input-65-3d9bd2cc2b39>:6: FutureWarning: The default value of regex will change from True to False in a future version.\n",
      "  attacks_df['Age'] = attacks_df.Age.str.replace(r'(^.*middle-a.*$)', '37')\n",
      "<ipython-input-65-3d9bd2cc2b39>:7: FutureWarning: The default value of regex will change from True to False in a future version.\n",
      "  attacks_df['Age'] = attacks_df.Age.str.replace(r'(^.*onth.*$)', '1')\n",
      "<ipython-input-65-3d9bd2cc2b39>:8: FutureWarning: The default value of regex will change from True to False in a future version.\n",
      "  attacks_df['Age'] = attacks_df.Age.str.replace(r'(.*)s.*', r'\\1')\n",
      "<ipython-input-65-3d9bd2cc2b39>:9: FutureWarning: The default value of regex will change from True to False in a future version.\n",
      "  attacks_df['Age'] = attacks_df.Age.str.replace(r'^\\s$', 'NaN')\n",
      "<ipython-input-65-3d9bd2cc2b39>:11: FutureWarning: The default value of regex will change from True to False in a future version.\n",
      "  attacks_df['Age'] = attacks_df.Age.str.replace(r'(.*)\\s&.*', r'\\1')\n",
      "<ipython-input-65-3d9bd2cc2b39>:12: FutureWarning: The default value of regex will change from True to False in a future version.\n",
      "  attacks_df['Age'] = attacks_df.Age.str.replace(r'(.*)\\sor.*', r'\\1')\n",
      "<ipython-input-65-3d9bd2cc2b39>:13: FutureWarning: The default value of regex will change from True to False in a future version.\n",
      "  attacks_df['Age'] = attacks_df.Age.str.replace(r'(.*)\\sto.*', r'\\1')\n",
      "<ipython-input-65-3d9bd2cc2b39>:14: FutureWarning: The default value of regex will change from True to False in a future version.\n",
      "  attacks_df['Age'] = attacks_df.Age.str.replace(r'(.*)\\sto.*', r'\\1')\n",
      "<ipython-input-65-3d9bd2cc2b39>:15: FutureWarning: The default value of regex will change from True to False in a future version.\n",
      "  attacks_df['Age'] = attacks_df.Age.str.replace(r'^\\s(\\d\\d)', r'\\1')\n",
      "<ipython-input-65-3d9bd2cc2b39>:16: FutureWarning: The default value of regex will change from True to False in a future version.\n",
      "  attacks_df['Age'] = attacks_df.Age.str.replace(r'^(\\d\\d).*', r'\\1')\n",
      "<ipython-input-65-3d9bd2cc2b39>:17: FutureWarning: The default value of regex will change from True to False in a future version.\n",
      "  attacks_df['Age'] = attacks_df.Age.str.replace(r'^\\D*(\\d\\d)', r'\\1')\n",
      "<ipython-input-65-3d9bd2cc2b39>:19: FutureWarning: The default value of regex will change from True to False in a future version.\n",
      "  attacks_df['Age'] = attacks_df.Age.str.replace(r'(\\d)\\s\\s\\s.*', r'\\1')\n",
      "<ipython-input-65-3d9bd2cc2b39>:20: FutureWarning: The default value of regex will change from True to False in a future version.\n",
      "  attacks_df['Age'] = attacks_df.Age.str.replace(r'^\\s\\s.*', r'NaN')\n",
      "<ipython-input-65-3d9bd2cc2b39>:21: FutureWarning: The default value of regex will change from True to False in a future version.\n",
      "  attacks_df['Age'] = attacks_df.Age.str.replace(r'^\\D{1,}$', r'NaN')\n"
     ]
    },
    {
     "data": {
      "text/plain": [
       "Attacks_ID\n",
       "1       57\n",
       "2       11\n",
       "3       48\n",
       "4       48\n",
       "5       48\n",
       "        ..\n",
       "6298    16\n",
       "6299    16\n",
       "6300    16\n",
       "6301    16\n",
       "6302    15\n",
       "Name: Age, Length: 6302, dtype: object"
      ]
     },
     "execution_count": 65,
     "metadata": {},
     "output_type": "execute_result"
    }
   ],
   "source": [
    "# Cleaning Age column in order to get valuable data\n",
    "attacks_df['Age'] = attacks_df['Age'].astype(str)\n",
    "attacks_df['Age'] = attacks_df.Age.str.replace(r'(^.*een.*$)', '16')\n",
    "attacks_df['Age'] = attacks_df.Age.str.replace(r'(^.*oun.*$)', '25')\n",
    "attacks_df['Age'] = attacks_df.Age.str.replace(r'(^.*dul.*$)', '48')\n",
    "attacks_df['Age'] = attacks_df.Age.str.replace(r'(^.*lderl.*$)', '88')\n",
    "attacks_df['Age'] = attacks_df.Age.str.replace(r'(^.*middle-a.*$)', '37')\n",
    "attacks_df['Age'] = attacks_df.Age.str.replace(r'(^.*onth.*$)', '1')\n",
    "attacks_df['Age'] = attacks_df.Age.str.replace(r'(.*)s.*', r'\\1')\n",
    "attacks_df['Age'] = attacks_df.Age.str.replace(r'^\\s$', 'NaN')\n",
    "attacks_df['Age'] = attacks_df.Age.str.replace('nan', 'NaN')\n",
    "attacks_df['Age'] = attacks_df.Age.str.replace(r'(.*)\\s&.*', r'\\1')\n",
    "attacks_df['Age'] = attacks_df.Age.str.replace(r'(.*)\\sor.*', r'\\1')\n",
    "attacks_df['Age'] = attacks_df.Age.str.replace(r'(.*)\\sto.*', r'\\1')\n",
    "attacks_df['Age'] = attacks_df.Age.str.replace(r'(.*)\\sto.*', r'\\1')\n",
    "attacks_df['Age'] = attacks_df.Age.str.replace(r'^\\s(\\d\\d)', r'\\1')\n",
    "attacks_df['Age'] = attacks_df.Age.str.replace(r'^(\\d\\d).*', r'\\1')\n",
    "attacks_df['Age'] = attacks_df.Age.str.replace(r'^\\D*(\\d\\d)', r'\\1')\n",
    "attacks_df['Age'].replace(('\\xa0', 'NaN'), inplace = True)\n",
    "attacks_df['Age'] = attacks_df.Age.str.replace(r'(\\d)\\s\\s\\s.*', r'\\1')\n",
    "attacks_df['Age'] = attacks_df.Age.str.replace(r'^\\s\\s.*', r'NaN')\n",
    "attacks_df['Age'] = attacks_df.Age.str.replace(r'^\\D{1,}$', r'NaN')\n",
    "attacks_df['Age'].replace(('2½', '25'), inplace = True)\n",
    "attacks_df['Age'].replace(('6½', '65'), inplace = True)\n",
    "attacks_df['Age'].fillna('NaN') \n"
   ]
  },
  {
   "cell_type": "code",
   "execution_count": 66,
   "id": "dedicated-commitment",
   "metadata": {},
   "outputs": [
    {
     "data": {
      "text/plain": [
       "array(['57', '11', '48', '18', '52', '15', '12', '32', '10', '21', '34',\n",
       "       '30', '60', '33', '29', '54', '41', '37', '56', '19', '69', '38',\n",
       "       '55', '35', '46', '45', '14', '40', '28', '20', '24', '26', '49',\n",
       "       '22', '7', '31', '17', '13', '42', '3', '8', '50', '16', '82',\n",
       "       '73', '68', '51', '39', '58', '47', '61', '36', '66', '43', '9',\n",
       "       '72', '59', '6', '27', '64', '23', '71', '44', '62', '63', '70',\n",
       "       '1', '53', '77', '74', '5', '86', '84', 'NaN', '75', '87', '67',\n",
       "       '88', '81', '78'], dtype=object)"
      ]
     },
     "execution_count": 66,
     "metadata": {},
     "output_type": "execute_result"
    }
   ],
   "source": [
    "attacks_df.Age.unique()"
   ]
  },
  {
   "cell_type": "code",
   "execution_count": 67,
   "id": "chemical-research",
   "metadata": {},
   "outputs": [
    {
     "data": {
      "text/plain": [
       "count     6302\n",
       "unique      80\n",
       "top         17\n",
       "freq       360\n",
       "Name: Age, dtype: object"
      ]
     },
     "execution_count": 67,
     "metadata": {},
     "output_type": "execute_result"
    }
   ],
   "source": [
    "attacks_df['Age'].describe()"
   ]
  },
  {
   "cell_type": "code",
   "execution_count": 68,
   "id": "average-drama",
   "metadata": {},
   "outputs": [
    {
     "data": {
      "text/plain": [
       "17    360\n",
       "16    330\n",
       "18    329\n",
       "19    309\n",
       "15    276\n",
       "     ... \n",
       "67      1\n",
       "88      1\n",
       "86      1\n",
       "81      1\n",
       "84      1\n",
       "Name: Age, Length: 80, dtype: int64"
      ]
     },
     "execution_count": 68,
     "metadata": {},
     "output_type": "execute_result"
    }
   ],
   "source": [
    "attacks_df.Age.value_counts(dropna=False)"
   ]
  },
  {
   "cell_type": "code",
   "execution_count": 69,
   "id": "velvet-doctor",
   "metadata": {},
   "outputs": [
    {
     "data": {
      "text/plain": [
       "17    0.057125\n",
       "16    0.052364\n",
       "18    0.052206\n",
       "19    0.049032\n",
       "15    0.043796\n",
       "20    0.043637\n",
       "22    0.039194\n",
       "21    0.037607\n",
       "13    0.033481\n",
       "24    0.028880\n",
       "14    0.028404\n",
       "30    0.026817\n",
       "26    0.025389\n",
       "28    0.024595\n",
       "27    0.024595\n",
       "Name: Age, dtype: float64"
      ]
     },
     "execution_count": 69,
     "metadata": {},
     "output_type": "execute_result"
    }
   ],
   "source": [
    "attacks_df.Age.value_counts(normalize=True).head(15)"
   ]
  },
  {
   "cell_type": "code",
   "execution_count": 70,
   "id": "sonic-green",
   "metadata": {},
   "outputs": [
    {
     "name": "stdout",
     "output_type": "stream",
     "text": [
      "Age mean is:  26.16199426568971\n",
      "Age median is:  22.0\n",
      "Age mode is:  0    17.0\n",
      "dtype: float64\n"
     ]
    }
   ],
   "source": [
    "# Statistics\n",
    "attacks_df['Age'] = pd.to_numeric(attacks_df['Age'], errors = 'coerce')\n",
    "print('Age mean is: ', attacks_df.Age.mean())\n",
    "print('Age median is: ', attacks_df.Age.median())\n",
    "print('Age mode is: ', attacks_df.Age.mode())"
   ]
  },
  {
   "cell_type": "markdown",
   "id": "dominant-gasoline",
   "metadata": {},
   "source": [
    "## Sex"
   ]
  },
  {
   "cell_type": "code",
   "execution_count": 72,
   "id": "handed-friend",
   "metadata": {},
   "outputs": [
    {
     "data": {
      "text/plain": [
       "count     5737\n",
       "unique       6\n",
       "top          M\n",
       "freq      5094\n",
       "Name: Sex, dtype: object"
      ]
     },
     "execution_count": 72,
     "metadata": {},
     "output_type": "execute_result"
    }
   ],
   "source": [
    "attacks_df.Sex.describe()"
   ]
  },
  {
   "cell_type": "code",
   "execution_count": 73,
   "id": "corresponding-columbia",
   "metadata": {},
   "outputs": [
    {
     "data": {
      "text/plain": [
       "M      5094\n",
       "F       637\n",
       "NaN     565\n",
       "N         2\n",
       "M         2\n",
       "lli       1\n",
       ".         1\n",
       "Name: Sex, dtype: int64"
      ]
     },
     "execution_count": 73,
     "metadata": {},
     "output_type": "execute_result"
    }
   ],
   "source": [
    "attacks_df.Sex.value_counts(dropna=False)"
   ]
  },
  {
   "cell_type": "code",
   "execution_count": 74,
   "id": "timely-graphics",
   "metadata": {},
   "outputs": [
    {
     "data": {
      "text/plain": [
       "array(['F', 'M', nan, 'M ', 'lli', 'N', '.'], dtype=object)"
      ]
     },
     "execution_count": 74,
     "metadata": {},
     "output_type": "execute_result"
    }
   ],
   "source": [
    "attacks_df.Sex.unique()"
   ]
  },
  {
   "cell_type": "code",
   "execution_count": 75,
   "id": "hearing-cocktail",
   "metadata": {},
   "outputs": [
    {
     "name": "stderr",
     "output_type": "stream",
     "text": [
      "<ipython-input-75-c8966c2c3475>:4: FutureWarning: The default value of regex will change from True to False in a future version.\n",
      "  attacks_df['Sex'] = attacks_df.Sex.str.replace(r'^(M)\\s$', r'\\1')\n"
     ]
    },
    {
     "data": {
      "text/plain": [
       "Attacks_ID\n",
       "1       F\n",
       "2       F\n",
       "3       M\n",
       "4       M\n",
       "5       M\n",
       "       ..\n",
       "6298    M\n",
       "6299    M\n",
       "6300    M\n",
       "6301    M\n",
       "6302    M\n",
       "Name: Sex, Length: 6302, dtype: object"
      ]
     },
     "execution_count": 75,
     "metadata": {},
     "output_type": "execute_result"
    }
   ],
   "source": [
    "attacks_df['Sex'].replace(('lli', 'NaN'), inplace = True)\n",
    "attacks_df['Sex'].replace(('N', 'NaN'), inplace = True)\n",
    "attacks_df['Sex'].replace(('.', 'NaN'), inplace = True)\n",
    "attacks_df['Sex'] = attacks_df.Sex.str.replace(r'^(M)\\s$', r'\\1')\n",
    "attacks_df['Sex'].fillna('NaN') "
   ]
  },
  {
   "cell_type": "code",
   "execution_count": 76,
   "id": "worth-enforcement",
   "metadata": {},
   "outputs": [
    {
     "data": {
      "text/plain": [
       "array(['F', 'M', nan], dtype=object)"
      ]
     },
     "execution_count": 76,
     "metadata": {},
     "output_type": "execute_result"
    }
   ],
   "source": [
    "attacks_df.Sex.unique()"
   ]
  },
  {
   "cell_type": "code",
   "execution_count": 77,
   "id": "saving-lodging",
   "metadata": {},
   "outputs": [
    {
     "data": {
      "text/plain": [
       "M    0.888773\n",
       "F    0.111227\n",
       "Name: Sex, dtype: float64"
      ]
     },
     "execution_count": 77,
     "metadata": {},
     "output_type": "execute_result"
    }
   ],
   "source": [
    "attacks_df.Sex.value_counts(normalize=True)"
   ]
  },
  {
   "cell_type": "code",
   "execution_count": 78,
   "id": "superb-astronomy",
   "metadata": {},
   "outputs": [
    {
     "data": {
      "image/png": "[encoded data removed]",
      "text/plain": [
       "<Figure size 404.625x360 with 1 Axes>"
      ]
     },
     "metadata": {
      "needs_background": "light"
     },
     "output_type": "display_data"
    }
   ],
   "source": [
    "ages = attacks_df.Age.sort_values()\n",
    "sns.displot(x = ages, \n",
    "            hue = attacks_df.Sex,\n",
    "           bins = 30);"
   ]
  },
  {
   "cell_type": "markdown",
   "id": "rotary-poison",
   "metadata": {},
   "source": [
    "> Top model 1: __Demographics__\n",
    "\n",
    ">_Procedure_\n",
    ">- General dataframe cleaning (empty rows, non-valuable columns, rename columns, setting an autoincremental ID)\n",
    ">    - Finally we have 6302 informative cases to work with\n",
    ">- Cleaning Age series (from 3471 filled rows distribution in 157 unique values, to non-empty cells, normalizing the values to 80 unique values)\n",
    ">- Cleaning Sex series (from 5737 filled rows distributed in 6 unique values, to non-empty cells in two unique values)\n",
    " \n",
    ">_Conclusions_\n",
    ">- Most victicms of shark attacks were predominantly teenagers or youngs, around to 22 y.o. in both sexs.\n",
    ">- Even if it seems that men are most likely to be attacked by sharks (88%), it's important to keep in mind that with this data it is not possible to know if, for example, women come less close to the beach or if they are more cautious\n"
   ]
  },
  {
   "cell_type": "markdown",
   "id": "common-tissue",
   "metadata": {},
   "source": [
    "# Space-time Statistics"
   ]
  },
  {
   "cell_type": "code",
   "execution_count": 79,
   "id": "golden-blake",
   "metadata": {},
   "outputs": [
    {
     "data": {
      "text/html": [
       "<div>\n",
       "<style scoped>\n",
       "    .dataframe tbody tr th:only-of-type {\n",
       "        vertical-align: middle;\n",
       "    }\n",
       "\n",
       "    .dataframe tbody tr th {\n",
       "        vertical-align: top;\n",
       "    }\n",
       "\n",
       "    .dataframe thead th {\n",
       "        text-align: right;\n",
       "    }\n",
       "</style>\n",
       "<table border=\"1\" class=\"dataframe\">\n",
       "  <thead>\n",
       "    <tr style=\"text-align: right;\">\n",
       "      <th></th>\n",
       "      <th>Date</th>\n",
       "      <th>Location</th>\n",
       "      <th>Country</th>\n",
       "    </tr>\n",
       "    <tr>\n",
       "      <th>Attacks_ID</th>\n",
       "      <th></th>\n",
       "      <th></th>\n",
       "      <th></th>\n",
       "    </tr>\n",
       "  </thead>\n",
       "  <tbody>\n",
       "    <tr>\n",
       "      <th>1</th>\n",
       "      <td>25-Jun-2018</td>\n",
       "      <td>Oceanside, San Diego County</td>\n",
       "      <td>USA</td>\n",
       "    </tr>\n",
       "    <tr>\n",
       "      <th>2</th>\n",
       "      <td>18-Jun-2018</td>\n",
       "      <td>St. Simon Island, Glynn County</td>\n",
       "      <td>USA</td>\n",
       "    </tr>\n",
       "    <tr>\n",
       "      <th>3</th>\n",
       "      <td>09-Jun-2018</td>\n",
       "      <td>Habush, Oahu</td>\n",
       "      <td>USA</td>\n",
       "    </tr>\n",
       "    <tr>\n",
       "      <th>4</th>\n",
       "      <td>08-Jun-2018</td>\n",
       "      <td>Arrawarra Headland</td>\n",
       "      <td>AUSTRALIA</td>\n",
       "    </tr>\n",
       "    <tr>\n",
       "      <th>5</th>\n",
       "      <td>04-Jun-2018</td>\n",
       "      <td>La Ticla</td>\n",
       "      <td>MEXICO</td>\n",
       "    </tr>\n",
       "    <tr>\n",
       "      <th>...</th>\n",
       "      <td>...</td>\n",
       "      <td>...</td>\n",
       "      <td>...</td>\n",
       "    </tr>\n",
       "    <tr>\n",
       "      <th>6298</th>\n",
       "      <td>Before 1903</td>\n",
       "      <td>Roebuck Bay</td>\n",
       "      <td>AUSTRALIA</td>\n",
       "    </tr>\n",
       "    <tr>\n",
       "      <th>6299</th>\n",
       "      <td>Before 1903</td>\n",
       "      <td>NaN</td>\n",
       "      <td>AUSTRALIA</td>\n",
       "    </tr>\n",
       "    <tr>\n",
       "      <th>6300</th>\n",
       "      <td>1900-1905</td>\n",
       "      <td>Ocracoke Inlet</td>\n",
       "      <td>USA</td>\n",
       "    </tr>\n",
       "    <tr>\n",
       "      <th>6301</th>\n",
       "      <td>1883-1889</td>\n",
       "      <td>Panama Bay 8ºN, 79ºW</td>\n",
       "      <td>PANAMA</td>\n",
       "    </tr>\n",
       "    <tr>\n",
       "      <th>6302</th>\n",
       "      <td>1845-1853</td>\n",
       "      <td>Below the English fort, Trincomalee</td>\n",
       "      <td>CEYLON (SRI LANKA)</td>\n",
       "    </tr>\n",
       "  </tbody>\n",
       "</table>\n",
       "<p>6302 rows × 3 columns</p>\n",
       "</div>"
      ],
      "text/plain": [
       "                   Date                             Location  \\\n",
       "Attacks_ID                                                     \n",
       "1           25-Jun-2018          Oceanside, San Diego County   \n",
       "2           18-Jun-2018       St. Simon Island, Glynn County   \n",
       "3           09-Jun-2018                         Habush, Oahu   \n",
       "4           08-Jun-2018                   Arrawarra Headland   \n",
       "5           04-Jun-2018                             La Ticla   \n",
       "...                 ...                                  ...   \n",
       "6298        Before 1903                          Roebuck Bay   \n",
       "6299        Before 1903                                  NaN   \n",
       "6300          1900-1905                       Ocracoke Inlet   \n",
       "6301          1883-1889                 Panama Bay 8ºN, 79ºW   \n",
       "6302          1845-1853  Below the English fort, Trincomalee   \n",
       "\n",
       "                       Country  \n",
       "Attacks_ID                      \n",
       "1                          USA  \n",
       "2                          USA  \n",
       "3                          USA  \n",
       "4                    AUSTRALIA  \n",
       "5                       MEXICO  \n",
       "...                        ...  \n",
       "6298                 AUSTRALIA  \n",
       "6299                 AUSTRALIA  \n",
       "6300                       USA  \n",
       "6301                    PANAMA  \n",
       "6302        CEYLON (SRI LANKA)  \n",
       "\n",
       "[6302 rows x 3 columns]"
      ]
     },
     "execution_count": 79,
     "metadata": {},
     "output_type": "execute_result"
    }
   ],
   "source": [
    "attacks_df[['Date','Location', 'Country']]"
   ]
  },
  {
   "cell_type": "markdown",
   "id": "removable-desert",
   "metadata": {},
   "source": [
    "## Date"
   ]
  },
  {
   "cell_type": "code",
   "execution_count": 80,
   "id": "serious-resistance",
   "metadata": {},
   "outputs": [
    {
     "data": {
      "text/plain": [
       "count     6302\n",
       "unique    5433\n",
       "top       1957\n",
       "freq        11\n",
       "Name: Date, dtype: object"
      ]
     },
     "execution_count": 80,
     "metadata": {},
     "output_type": "execute_result"
    }
   ],
   "source": [
    "attacks_df.Date.describe()"
   ]
  },
  {
   "cell_type": "code",
   "execution_count": 81,
   "id": "coordinate-train",
   "metadata": {},
   "outputs": [
    {
     "data": {
      "text/plain": [
       "1957                    11\n",
       "1942                     9\n",
       "1956                     8\n",
       "1958                     7\n",
       "1941                     7\n",
       "                        ..\n",
       "09-Dec-1954              1\n",
       "13-Jan-1976              1\n",
       "13-Oct-1878              1\n",
       "Reported 05-Mar-2007     1\n",
       "18-Jun-1961              1\n",
       "Name: Date, Length: 5433, dtype: int64"
      ]
     },
     "execution_count": 81,
     "metadata": {},
     "output_type": "execute_result"
    }
   ],
   "source": [
    "attacks_df.Date.value_counts(dropna=False)"
   ]
  },
  {
   "cell_type": "code",
   "execution_count": 82,
   "id": "individual-father",
   "metadata": {},
   "outputs": [
    {
     "data": {
      "text/plain": [
       "Attacks_ID\n",
       "6272       World War II\n",
       "6273       World War II\n",
       "4803      Woirld War II\n",
       "3445        Winter 1969\n",
       "4722        Winter 1942\n",
       "             ...       \n",
       "652         22-Jul-2013\n",
       "3405        16-Jan-1970\n",
       "4850        15-Jun-1937\n",
       "1175        10-Jan-2009\n",
       "4426     \\n1951.12.15.R\n",
       "Name: Date, Length: 6302, dtype: object"
      ]
     },
     "execution_count": 82,
     "metadata": {},
     "output_type": "execute_result"
    }
   ],
   "source": [
    "attacks_df.Date.sort_values(ascending=False)"
   ]
  },
  {
   "cell_type": "code",
   "execution_count": 83,
   "id": "reliable-cassette",
   "metadata": {},
   "outputs": [
    {
     "name": "stderr",
     "output_type": "stream",
     "text": [
      "<ipython-input-83-d170109eb13c>:2: FutureWarning: The default value of regex will change from True to False in a future version.\n",
      "  attacks_df['Date'] = attacks_df.Date.str.replace(r'(-)\\1+', r'\\1')\n"
     ]
    }
   ],
   "source": [
    "# Remove duplicated hyphen (-)\n",
    "attacks_df['Date'] = attacks_df.Date.str.replace(r'(-)\\1+', r'\\1')\n",
    "# Remove starting word \"Reported \"\n",
    "attacks_df['Date'] = attacks_df.Date.str.lstrip('Reported ')\n",
    "# Parse date colum to datetime format (and replace string entries with NaT)\n",
    "attacks_df['Date'] = pd.to_datetime(attacks_df['Date'], errors = 'coerce')\n",
    "# Remove all NaT values\n",
    "attacks_df = attacks_df.drop(attacks_df[attacks_df['Date'].isna()].index)"
   ]
  },
  {
   "cell_type": "code",
   "execution_count": 84,
   "id": "spiritual-salem",
   "metadata": {},
   "outputs": [
    {
     "data": {
      "text/plain": [
       "Attacks_ID\n",
       "1       6\n",
       "2       6\n",
       "3       6\n",
       "4       6\n",
       "5       6\n",
       "       ..\n",
       "6157    4\n",
       "6158    1\n",
       "6159    1\n",
       "6160    6\n",
       "6161    3\n",
       "Name: Date, Length: 5999, dtype: int64"
      ]
     },
     "execution_count": 84,
     "metadata": {},
     "output_type": "execute_result"
    }
   ],
   "source": [
    "attacks_df['Date'].dt.month"
   ]
  },
  {
   "cell_type": "code",
   "execution_count": 37,
   "id": "former-savannah",
   "metadata": {},
   "outputs": [
    {
     "data": {
      "text/plain": [
       "0"
      ]
     },
     "execution_count": 37,
     "metadata": {},
     "output_type": "execute_result"
    }
   ],
   "source": [
    "attacks_df['Date'].isna().sum()"
   ]
  },
  {
   "cell_type": "code",
   "execution_count": 94,
   "id": "swiss-buffer",
   "metadata": {},
   "outputs": [],
   "source": [
    "attacks_df['Months'] = attacks_df.Date.dt.month\n",
    "attacks_df['Years'] = attacks_df.Date.dt.year"
   ]
  },
  {
   "cell_type": "code",
   "execution_count": 101,
   "id": "reflected-secretary",
   "metadata": {},
   "outputs": [
    {
     "data": {
      "image/png": "[encoded data removed]",
      "text/plain": [
       "<Figure size 432x288 with 1 Axes>"
      ]
     },
     "metadata": {
      "needs_background": "light"
     },
     "output_type": "display_data"
    }
   ],
   "source": [
    "plot_months = sns.countplot(x = attacks_df['Months'],\n",
    "                 palette = ['#432371',\"#FAAE7B\"])\n",
    "plot_months.set(xlabel = 'Months', \n",
    "       ylabel='Attacks');\n"
   ]
  },
  {
   "cell_type": "code",
   "execution_count": 104,
   "id": "wicked-nashville",
   "metadata": {},
   "outputs": [
    {
     "data": {
      "image/png": "[encoded data removed]",
      "text/plain": [
       "<Figure size 432x288 with 1 Axes>"
      ]
     },
     "metadata": {
      "needs_background": "light"
     },
     "output_type": "display_data"
    }
   ],
   "source": [
    "plot_years = sns.countplot(x = attacks_df.Years,\n",
    "                           palette = 'Blues');\n",
    "plot_years.set(xlabel = 'Years', \n",
    "       ylabel='Attacks registered');"
   ]
  },
  {
   "cell_type": "markdown",
   "id": "indoor-broad",
   "metadata": {},
   "source": [
    "## Location"
   ]
  },
  {
   "cell_type": "code",
   "execution_count": 106,
   "id": "voluntary-withdrawal",
   "metadata": {},
   "outputs": [
    {
     "data": {
      "text/plain": [
       "count                                 5522\n",
       "unique                                3942\n",
       "top       New Smyrna Beach, Volusia County\n",
       "freq                                   162\n",
       "Name: Location, dtype: object"
      ]
     },
     "execution_count": 106,
     "metadata": {},
     "output_type": "execute_result"
    }
   ],
   "source": [
    "attacks_df.Location.describe()"
   ]
  },
  {
   "cell_type": "code",
   "execution_count": 107,
   "id": "duplicate-pitch",
   "metadata": {},
   "outputs": [
    {
     "data": {
      "text/plain": [
       "NaN                                 477\n",
       "New Smyrna Beach, Volusia County    162\n",
       "Daytona Beach, Volusia County        30\n",
       "Ponce Inlet, Volusia County          20\n",
       "Melbourne Beach, Brevard County      18\n",
       "                                   ... \n",
       "Gleneden Beach, Lincoln County        1\n",
       "Belfast (now Port Fairy)              1\n",
       "Off Cebu                              1\n",
       "Castellon de la Plana                 1\n",
       "Cowell                                1\n",
       "Name: Location, Length: 3943, dtype: int64"
      ]
     },
     "execution_count": 107,
     "metadata": {},
     "output_type": "execute_result"
    }
   ],
   "source": [
    "attacks_df.Location.value_counts(dropna=False)"
   ]
  },
  {
   "cell_type": "code",
   "execution_count": 108,
   "id": "elect-ceramic",
   "metadata": {},
   "outputs": [],
   "source": [
    "# There are so many unique values, it's necessary to group them, or use the Country instead the Location\n",
    "new_Location = attacks_df.Location.str.extract(r'(?P<Beach>.+),(?P<County>.+)')[['County', 'Beach']]\n",
    "attacks_df.Location = new_Location.County"
   ]
  },
  {
   "cell_type": "code",
   "execution_count": 109,
   "id": "characteristic-donor",
   "metadata": {},
   "outputs": [
    {
     "data": {
      "text/plain": [
       "count                2716\n",
       "unique                807\n",
       "top        Volusia County\n",
       "freq                  293\n",
       "Name: Location, dtype: object"
      ]
     },
     "execution_count": 109,
     "metadata": {},
     "output_type": "execute_result"
    }
   ],
   "source": [
    "# Location column is not useful at the visual inspection level\n",
    "# With 807 categories no graphic conclusion can be drawn instead you use a world heatmap\n",
    "attacks_df.Location.describe()"
   ]
  },
  {
   "cell_type": "code",
   "execution_count": 113,
   "id": "awful-accessory",
   "metadata": {},
   "outputs": [
    {
     "data": {
      "text/plain": [
       "NaN                    3283\n",
       " Volusia County         293\n",
       " Palm Beach County       98\n",
       " Brevard County          85\n",
       " Maui                    74\n",
       " O'ahu                   52\n",
       " Durban                  45\n",
       " Monroe County           42\n",
       " Sydney                  40\n",
       " Los Angeles County      39\n",
       " Horry County            36\n",
       "Name: Location, dtype: int64"
      ]
     },
     "execution_count": 113,
     "metadata": {},
     "output_type": "execute_result"
    }
   ],
   "source": [
    "# The locations with a higher shark attacks register are: \n",
    "attacks_df.Location.value_counts(dropna=False).head(11)"
   ]
  },
  {
   "cell_type": "code",
   "execution_count": 59,
   "id": "gross-breast",
   "metadata": {
    "scrolled": true
   },
   "outputs": [
    {
     "data": {
      "text/plain": [
       "count     5957\n",
       "unique     198\n",
       "top        USA\n",
       "freq      2178\n",
       "Name: Country, dtype: object"
      ]
     },
     "execution_count": 59,
     "metadata": {},
     "output_type": "execute_result"
    }
   ],
   "source": [
    "attacks_df.Country.describe()"
   ]
  },
  {
   "cell_type": "code",
   "execution_count": 60,
   "id": "latest-audit",
   "metadata": {},
   "outputs": [
    {
     "data": {
      "text/plain": [
       "array(['USA', 'AUSTRALIA', 'MEXICO', 'BRAZIL', 'ENGLAND', 'SOUTH AFRICA',\n",
       "       'THAILAND', 'COSTA RICA', 'MALDIVES', 'BAHAMAS', 'NEW CALEDONIA',\n",
       "       'ECUADOR', 'MALAYSIA', 'LIBYA', nan, 'CUBA', 'MAURITIUS',\n",
       "       'NEW ZEALAND', 'SPAIN', 'SAMOA', 'SOLOMON ISLANDS', 'JAPAN',\n",
       "       'EGYPT', 'ST HELENA, British overseas territory', 'COMOROS',\n",
       "       'REUNION', 'FRENCH POLYNESIA', 'UNITED KINGDOM',\n",
       "       'UNITED ARAB EMIRATES', 'PHILIPPINES', 'INDONESIA', 'CHINA',\n",
       "       'COLUMBIA', 'CAPE VERDE', 'Fiji', 'DOMINICAN REPUBLIC',\n",
       "       'CAYMAN ISLANDS', 'ARUBA', 'MOZAMBIQUE', 'FIJI', 'PUERTO RICO',\n",
       "       'ITALY', 'ATLANTIC OCEAN', 'GREECE', 'ST. MARTIN', 'FRANCE',\n",
       "       'PAPUA NEW GUINEA', 'TRINIDAD & TOBAGO', 'KIRIBATI', 'ISRAEL',\n",
       "       'DIEGO GARCIA', 'TAIWAN', 'JAMAICA', 'PALESTINIAN TERRITORIES',\n",
       "       'GUAM', 'SEYCHELLES', 'BELIZE', 'NIGERIA', 'TONGA', 'SCOTLAND',\n",
       "       'CANADA', 'CROATIA', 'SAUDI ARABIA', 'CHILE', 'ANTIGUA', 'KENYA',\n",
       "       'RUSSIA', 'TURKS & CAICOS', 'UNITED ARAB EMIRATES (UAE)', 'AZORES',\n",
       "       'SOUTH KOREA', 'MALTA', 'VIETNAM', 'MADAGASCAR', 'PANAMA',\n",
       "       'SOMALIA', 'NEVIS', 'BRITISH VIRGIN ISLANDS', 'NORWAY', 'SENEGAL',\n",
       "       'YEMEN', 'GULF OF ADEN', 'Sierra Leone', 'ST. MAARTIN',\n",
       "       'GRAND CAYMAN', 'Seychelles', 'LIBERIA', 'VANUATU', 'MEXICO ',\n",
       "       'HONDURAS', 'VENEZUELA', 'SRI LANKA', ' TONGA', 'URUGUAY', 'INDIA',\n",
       "       'MICRONESIA', 'CARIBBEAN SEA', 'OKINAWA', 'TANZANIA',\n",
       "       'MARSHALL ISLANDS', 'EGYPT / ISRAEL', 'NORTHERN ARABIAN SEA',\n",
       "       'HONG KONG', 'EL SALVADOR', 'BERMUDA', 'MONTENEGRO', 'IRAN',\n",
       "       'TUNISIA', 'NAMIBIA', 'PORTUGAL', 'SOUTH CHINA SEA', 'BANGLADESH',\n",
       "       'PALAU', 'WESTERN SAMOA', 'PACIFIC OCEAN ', 'BRITISH ISLES',\n",
       "       'GRENADA', 'TURKEY', 'SINGAPORE', 'NEW BRITAIN', 'SUDAN',\n",
       "       'JOHNSTON ISLAND', 'SOUTH PACIFIC OCEAN', 'NEW GUINEA',\n",
       "       'NORTH PACIFIC OCEAN', 'FEDERATED STATES OF MICRONESIA',\n",
       "       'MID ATLANTIC OCEAN', 'ADMIRALTY ISLANDS', 'BRITISH WEST INDIES',\n",
       "       'SOUTH ATLANTIC OCEAN', 'PERSIAN GULF', 'RED SEA / INDIAN OCEAN',\n",
       "       'PACIFIC OCEAN', 'NORTH SEA', 'NICARAGUA ', 'MALDIVE ISLANDS',\n",
       "       'AMERICAN SAMOA', 'ANDAMAN / NICOBAR ISLANDAS', 'GABON', 'MAYOTTE',\n",
       "       'NORTH ATLANTIC OCEAN ', 'THE BALKANS', 'SUDAN?', 'ARGENTINA',\n",
       "       'MARTINIQUE', 'INDIAN OCEAN', 'GUATEMALA', 'NETHERLANDS ANTILLES',\n",
       "       'NORTH ATLANTIC OCEAN', 'NORTHERN MARIANA ISLANDS', 'IRAN / IRAQ',\n",
       "       'JAVA', 'IRAQ', 'SIERRA LEONE', ' PHILIPPINES', 'NICARAGUA',\n",
       "       'CENTRAL PACIFIC', 'SOLOMON ISLANDS / VANUATU', 'BAY OF BENGAL',\n",
       "       'MID-PACIFC OCEAN', 'SOUTHWEST PACIFIC OCEAN', 'CURACAO',\n",
       "       'ICELAND', 'ITALY / CROATIA', 'BARBADOS', 'GUYANA', 'HAITI',\n",
       "       'SAN DOMINGO', 'IRELAND', 'KUWAIT', 'YEMEN ', 'REUNION ISLAND',\n",
       "       'FALKLAND ISLANDS', 'CYPRUS', 'EGYPT ', 'WEST INDIES', 'CRETE',\n",
       "       'BURMA', 'LEBANON', 'PARAGUAY', 'BRITISH NEW GUINEA', 'CEYLON',\n",
       "       'OCEAN', 'GEORGIA', 'TUVALU', 'INDIAN OCEAN?', 'GUINEA',\n",
       "       'ANDAMAN ISLANDS', 'EQUATORIAL GUINEA / CAMEROON', 'COOK ISLANDS',\n",
       "       'TOBAGO', 'PERU', 'AFRICA', 'Coast of AFRICA', 'TASMAN SEA',\n",
       "       'GREENLAND', 'MEDITERRANEAN SEA', 'SWEDEN', 'ROATAN'], dtype=object)"
      ]
     },
     "execution_count": 60,
     "metadata": {},
     "output_type": "execute_result"
    }
   ],
   "source": [
    "attacks_df.Country.unique()"
   ]
  },
  {
   "cell_type": "code",
   "execution_count": 61,
   "id": "extended-attention",
   "metadata": {},
   "outputs": [
    {
     "name": "stderr",
     "output_type": "stream",
     "text": [
      "<ipython-input-61-3ada7e76a166>:3: FutureWarning: The default value of regex will change from True to False in a future version.\n",
      "  attacks_df['Country'] = attacks_df.Country.str.replace(r'^(.*)\\s/.*', r'\\1')\n",
      "<ipython-input-61-3ada7e76a166>:4: FutureWarning: The default value of regex will change from True to False in a future version.\n",
      "  attacks_df['Country'] = attacks_df.Country.str.replace(r'^(.*)?', r'\\1')\n",
      "<ipython-input-61-3ada7e76a166>:5: FutureWarning: The default value of regex will change from True to False in a future version.\n",
      "  attacks_df['Country'] = attacks_df.Country.str.replace(r'^Between\\s(.*)\\s.*', r'\\1')\n",
      "<ipython-input-61-3ada7e76a166>:6: FutureWarning: The default value of regex will change from True to False in a future version.\n",
      "  attacks_df['Country'] = attacks_df.Country.str.replace(r'.*British*.', 'UNITED KINGDOM')\n",
      "<ipython-input-61-3ada7e76a166>:7: FutureWarning: The default value of regex will change from True to False in a future version.\n",
      "  attacks_df['Country'] = attacks_df.Country.str.replace(r'.*BRITISH*.', 'UNITED KINGDOM')\n",
      "<ipython-input-61-3ada7e76a166>:9: FutureWarning: The default value of regex will change from True to False in a future version.\n",
      "  attacks_df['Country'] = attacks_df.Country.str.replace(r'.*TURKS*.', 'TURKEY')\n"
     ]
    }
   ],
   "source": [
    "attacks_df['Country'].replace(('nan', 'NaN'), inplace = True)\n",
    "attacks_df['Country'].fillna('NaN')\n",
    "attacks_df['Country'] = attacks_df.Country.str.replace(r'^(.*)\\s/.*', r'\\1')\n",
    "attacks_df['Country'] = attacks_df.Country.str.replace(r'^(.*)?', r'\\1')\n",
    "attacks_df['Country'] = attacks_df.Country.str.replace(r'^Between\\s(.*)\\s.*', r'\\1')\n",
    "attacks_df['Country'] = attacks_df.Country.str.replace(r'.*British*.', 'UNITED KINGDOM')\n",
    "attacks_df['Country'] = attacks_df.Country.str.replace(r'.*BRITISH*.', 'UNITED KINGDOM')\n",
    "attacks_df['Country'].replace(('PALESTINIAN TERRITORIES', 'PALESTINA'), inplace = True)\n",
    "attacks_df['Country'] = attacks_df.Country.str.replace(r'.*TURKS*.', 'TURKEY')\n",
    "attacks_df['Country'].replace(('UNITED ARAB EMIRATES (UAE)', 'UNITED ARAB EMIRATES'), inplace = True)\n",
    "attacks_df['Country'].replace(('GULF OF ADEN', 'SOMALIA'), inplace = True)\n",
    "attacks_df['Country'].replace(('ST. MAARTIN', 'NETHERLANDS'), inplace = True)\n",
    "attacks_df['Country'].replace(('CEYLON (SRI LANKA)', 'SRI LANKA'), inplace = True)\n"
   ]
  },
  {
   "cell_type": "code",
   "execution_count": 62,
   "id": "flush-horror",
   "metadata": {},
   "outputs": [
    {
     "data": {
      "text/plain": [
       "count     5957\n",
       "unique     187\n",
       "top        USA\n",
       "freq      2185\n",
       "Name: Country, dtype: object"
      ]
     },
     "execution_count": 62,
     "metadata": {},
     "output_type": "execute_result"
    }
   ],
   "source": [
    "attacks_df.Country.describe()"
   ]
  },
  {
   "cell_type": "markdown",
   "id": "adopted-thread",
   "metadata": {},
   "source": [
    "> Top model 2: __Space-time statistics__\n",
    "\n",
    ">_Procedure_\n",
    ">- Cleaning Date series (we start with 5433 different values, and decide to reduce it to the years in order to have a view of the general tendence, getting 254 unique values)\n",
    ">- Cleaning Location series \n",
    " \n",
    ">_Conclusions_\n"
   ]
  },
  {
   "cell_type": "code",
   "execution_count": null,
   "id": "assumed-production",
   "metadata": {},
   "outputs": [],
   "source": [
    "'''\n",
    "2. Toy model 2: space-time statistics\n",
    "   1. Focus on date and location columns\n",
    "   2. Choose a cleaning strategy\n",
    "   3. Extract statistics and draw at least two graphs that are insightful\n",
    "   4. Report your procedure and conclusions with a paragraph\n",
    "'''"
   ]
  },
  {
   "cell_type": "markdown",
   "id": "quality-measure",
   "metadata": {},
   "source": [
    "# Free project"
   ]
  },
  {
   "cell_type": "markdown",
   "id": "worse-graph",
   "metadata": {},
   "source": [
    "## Cleaning"
   ]
  },
  {
   "cell_type": "code",
   "execution_count": null,
   "id": "internal-personality",
   "metadata": {},
   "outputs": [],
   "source": [
    "'''\n",
    "\n",
    "3. Free project\n",
    "   1. With no column restrictions, choose an interesting hypothesis/model\n",
    "   2. Clean the data accordingly\n",
    "      - You can use: `df.describe()`, `df[\"column\"]`, etc.\n",
    "      - Use at least 5 data cleaning techniques inside a file named `clean.ipynb`\n",
    "      - Null values, columns drop, duplicated data, string manipulation,\n",
    "      apply fn, categorize, regex, etc.  \n",
    "   3. Extract statistics and draw at least 3-4 graphs that are insightful\n",
    "   4. Show data that validates the conclusions based on your hypotesis in a file\n",
    "   named `analysis.ipynb`\n",
    "   5. Build a compelling story-telling around your findings.\n",
    "   Think of your stakeholders and convince them with your conclusions!\n",
    "   (Some slides with few text and pretty plots are normally useful)\n",
    "\n",
    "'''"
   ]
  },
  {
   "cell_type": "code",
   "execution_count": null,
   "id": "hydraulic-private",
   "metadata": {},
   "outputs": [],
   "source": [
    "attacks_df.Type.value_counts(dropna=False)"
   ]
  },
  {
   "cell_type": "code",
   "execution_count": null,
   "id": "attached-cleveland",
   "metadata": {},
   "outputs": [],
   "source": [
    "attacks_df['Type'] = attacks_df['Type'].astype(str)\n",
    "attacks_df['Type'].replace(('', 'NaN'), inplace = True)\n",
    "attacks_df['Type'].replace(('Boat', 'Boating'), inplace = True)\n",
    "attacks_df['Type'].replace(('nan', 'NaN'), inplace = True)\n",
    "attacks_df['Type'].replace(('Boatomg', 'Boating'), inplace = True)\n",
    "attacks_df['Type'].replace(('Questionable', 'Invalid'), inplace = True)\n",
    "\n",
    "attacks_df['Type'].fillna('NaN') "
   ]
  },
  {
   "cell_type": "code",
   "execution_count": null,
   "id": "historic-helena",
   "metadata": {},
   "outputs": [],
   "source": [
    "attacks_df['Type'].describe() "
   ]
  },
  {
   "cell_type": "code",
   "execution_count": null,
   "id": "streaming-depression",
   "metadata": {},
   "outputs": [],
   "source": [
    "attacks_df.Activity.value_counts(dropna=False)"
   ]
  },
  {
   "cell_type": "code",
   "execution_count": null,
   "id": "adopted-paragraph",
   "metadata": {},
   "outputs": [],
   "source": [
    "attacks_df['Activity'] = attacks_df['Activity'].astype(str)\n",
    "attacks_df['Activity'] = attacks_df.Activity.str.replace(r'^.*diving*', 'Diving')\n",
    "attacks_df['Activity'] = attacks_df.Activity.str.replace(r'^.*Diving.*', 'Diving')\n",
    "attacks_df['Activity'] = attacks_df.Activity.str.replace(r'^.*oogie.*', 'Body boarding')\n",
    "attacks_df['Activity'] = attacks_df.Activity.str.replace(r'^.*Walking*', 'Standing')\n",
    "attacks_df['Activity'] = attacks_df.Activity.str.replace(r'^.*wimming.*', 'Swimming')\n",
    "attacks_df['Activity'] = attacks_df.Activity.str.replace(r'^.*bathing.*', 'Swimming')\n",
    "attacks_df['Activity'] = attacks_df.Activity.str.replace(r'^.*Bathing.*', 'Swimming')\n",
    "attacks_df['Activity'] = attacks_df.Activity.str.replace(r'^.*fish.*', 'Sailing')\n",
    "attacks_df['Activity'] = attacks_df.Activity.str.replace(r'^.*Fish.*', 'Sailing')\n",
    "attacks_df['Activity'] = attacks_df.Activity.str.replace(r'^.*sail.*', 'Sailing')\n",
    "attacks_df['Activity'] = attacks_df.Activity.str.replace(r'^.*surf.*', 'Surfing')\n",
    "attacks_df['Activity'] = attacks_df.Activity.str.replace(r'^.*Treading.*', 'Standing')\n",
    "attacks_df['Activity'] = attacks_df.Activity.str.replace(r'^.*Surf skiing.*', 'Surf-skiing')\n",
    "attacks_df['Activity'] = attacks_df.Activity.str.replace(r'\\w{13}', 'NaN')\n",
    "attacks_df['Activity'].fillna('NaN') "
   ]
  },
  {
   "cell_type": "code",
   "execution_count": null,
   "id": "stopped-handling",
   "metadata": {
    "scrolled": false
   },
   "outputs": [],
   "source": [
    "attacks_df.Activity.value_counts(dropna=False).head(15)"
   ]
  },
  {
   "cell_type": "code",
   "execution_count": null,
   "id": "strange-lounge",
   "metadata": {},
   "outputs": [],
   "source": [
    "attacks_df.Injury.value_counts(dropna=False).head(30)"
   ]
  },
  {
   "cell_type": "code",
   "execution_count": null,
   "id": "collaborative-elephant",
   "metadata": {},
   "outputs": [],
   "source": [
    "attacks_df['Injury'] = attacks_df['Injury'].astype(str)\n",
    "\n",
    "attacks_df['Injury'] = attacks_df.Injury.str.replace(r'^.*FATAL.*', 'FATAL')\n",
    "attacks_df['Injury'] = attacks_df.Injury.str.replace(r'^.*Fatal.*', 'FATAL')\n",
    "attacks_df['Injury'] = attacks_df.Injury.str.replace(r'^.*bitten.*', 'Bitten')\n",
    "attacks_df['Injury'] = attacks_df.Injury.str.replace(r'^.*bitten.*', 'Bitten')\n",
    "attacks_df['Injury'] = attacks_df.Injury.str.replace(r'^.*No injury.*', 'No injury')\n",
    "attacks_df['Injury'] = attacks_df.Injury.str.replace(r'^.*acerat.*', 'Bitten')\n",
    "attacks_df['Injury'] = attacks_df.Injury.str.replace(r'^.*njur.*', 'Bitten')\n",
    "attacks_df['Injury'] = attacks_df.Injury.str.replace(r'^.*evere.*', 'Bitten')\n",
    "attacks_df['Injury'] = attacks_df.Injury.str.replace(r'^.*wound.*', 'Bitten')\n",
    "attacks_df['Injury'] = attacks_df.Injury.str.replace(r'^.*brasio.*', 'Bitten')\n",
    "attacks_df['Injury'] = attacks_df.Injury.str.replace(r'^\\D{13}$', 'NaN')\n",
    "\n",
    "attacks_df['Injury'].replace(('No details','NaN'), inplace = True)\n",
    "\n",
    "\n",
    "attacks_df['Injury'].fillna('NaN') "
   ]
  },
  {
   "cell_type": "code",
   "execution_count": 72,
   "id": "liable-bloom",
   "metadata": {},
   "outputs": [
    {
     "data": {
      "text/html": [
       "<div>\n",
       "<style scoped>\n",
       "    .dataframe tbody tr th:only-of-type {\n",
       "        vertical-align: middle;\n",
       "    }\n",
       "\n",
       "    .dataframe tbody tr th {\n",
       "        vertical-align: top;\n",
       "    }\n",
       "\n",
       "    .dataframe thead th {\n",
       "        text-align: right;\n",
       "    }\n",
       "</style>\n",
       "<table border=\"1\" class=\"dataframe\">\n",
       "  <thead>\n",
       "    <tr style=\"text-align: right;\">\n",
       "      <th></th>\n",
       "      <th>Case Number</th>\n",
       "      <th>Date</th>\n",
       "      <th>Year</th>\n",
       "      <th>Type</th>\n",
       "      <th>Country</th>\n",
       "      <th>Area</th>\n",
       "      <th>Location</th>\n",
       "      <th>Activity</th>\n",
       "      <th>Name</th>\n",
       "      <th>Sex</th>\n",
       "      <th>Age</th>\n",
       "      <th>Injury</th>\n",
       "      <th>...</th>\n",
       "      <th>Time</th>\n",
       "      <th>Species</th>\n",
       "      <th>Investigator or Source</th>\n",
       "      <th>pdf</th>\n",
       "      <th>href formula</th>\n",
       "      <th>href</th>\n",
       "      <th>Case Number.1</th>\n",
       "      <th>Case Number.2</th>\n",
       "      <th>original order</th>\n",
       "      <th>Unnamed: 22</th>\n",
       "      <th>Unnamed: 23</th>\n",
       "      <th>Months</th>\n",
       "    </tr>\n",
       "    <tr>\n",
       "      <th>attacks_ID</th>\n",
       "      <th></th>\n",
       "      <th></th>\n",
       "      <th></th>\n",
       "      <th></th>\n",
       "      <th></th>\n",
       "      <th></th>\n",
       "      <th></th>\n",
       "      <th></th>\n",
       "      <th></th>\n",
       "      <th></th>\n",
       "      <th></th>\n",
       "      <th></th>\n",
       "      <th></th>\n",
       "      <th></th>\n",
       "      <th></th>\n",
       "      <th></th>\n",
       "      <th></th>\n",
       "      <th></th>\n",
       "      <th></th>\n",
       "      <th></th>\n",
       "      <th></th>\n",
       "      <th></th>\n",
       "      <th></th>\n",
       "      <th></th>\n",
       "      <th></th>\n",
       "    </tr>\n",
       "  </thead>\n",
       "  <tbody>\n",
       "    <tr>\n",
       "      <th>1</th>\n",
       "      <td>2018.06.25</td>\n",
       "      <td>2018-06-25</td>\n",
       "      <td>2018.0</td>\n",
       "      <td>Boating</td>\n",
       "      <td>USA</td>\n",
       "      <td>California</td>\n",
       "      <td>San Diego County</td>\n",
       "      <td>Paddling</td>\n",
       "      <td>Julie Wolfe</td>\n",
       "      <td>F</td>\n",
       "      <td>57.0</td>\n",
       "      <td>No injury to occupant, outrigger canoe and pad...</td>\n",
       "      <td>...</td>\n",
       "      <td>18h00</td>\n",
       "      <td>White shark</td>\n",
       "      <td>R. Collier, GSAF</td>\n",
       "      <td>2018.06.25-Wolfe.pdf</td>\n",
       "      <td>http://sharkattackfile.net/spreadsheets/pdf_di...</td>\n",
       "      <td>http://sharkattackfile.net/spreadsheets/pdf_di...</td>\n",
       "      <td>2018.06.25</td>\n",
       "      <td>2018.06.25</td>\n",
       "      <td>6303.0</td>\n",
       "      <td>NaN</td>\n",
       "      <td>NaN</td>\n",
       "      <td>6</td>\n",
       "    </tr>\n",
       "    <tr>\n",
       "      <th>2</th>\n",
       "      <td>2018.06.18</td>\n",
       "      <td>2018-06-18</td>\n",
       "      <td>2018.0</td>\n",
       "      <td>Unprovoked</td>\n",
       "      <td>USA</td>\n",
       "      <td>Georgia</td>\n",
       "      <td>Glynn County</td>\n",
       "      <td>Standing</td>\n",
       "      <td>Adyson McNeely</td>\n",
       "      <td>F</td>\n",
       "      <td>11.0</td>\n",
       "      <td>Minor injury to left thigh</td>\n",
       "      <td>...</td>\n",
       "      <td>14h00  -15h00</td>\n",
       "      <td>NaN</td>\n",
       "      <td>K.McMurray, TrackingSharks.com</td>\n",
       "      <td>2018.06.18-McNeely.pdf</td>\n",
       "      <td>http://sharkattackfile.net/spreadsheets/pdf_di...</td>\n",
       "      <td>http://sharkattackfile.net/spreadsheets/pdf_di...</td>\n",
       "      <td>2018.06.18</td>\n",
       "      <td>2018.06.18</td>\n",
       "      <td>6302.0</td>\n",
       "      <td>NaN</td>\n",
       "      <td>NaN</td>\n",
       "      <td>6</td>\n",
       "    </tr>\n",
       "    <tr>\n",
       "      <th>3</th>\n",
       "      <td>2018.06.09</td>\n",
       "      <td>2018-06-09</td>\n",
       "      <td>2018.0</td>\n",
       "      <td>Invalid</td>\n",
       "      <td>USA</td>\n",
       "      <td>Hawaii</td>\n",
       "      <td>Oahu</td>\n",
       "      <td>Surfing</td>\n",
       "      <td>John Denges</td>\n",
       "      <td>M</td>\n",
       "      <td>48.0</td>\n",
       "      <td>Injury to left lower leg from surfboard skeg</td>\n",
       "      <td>...</td>\n",
       "      <td>07h45</td>\n",
       "      <td>NaN</td>\n",
       "      <td>K.McMurray, TrackingSharks.com</td>\n",
       "      <td>2018.06.09-Denges.pdf</td>\n",
       "      <td>http://sharkattackfile.net/spreadsheets/pdf_di...</td>\n",
       "      <td>http://sharkattackfile.net/spreadsheets/pdf_di...</td>\n",
       "      <td>2018.06.09</td>\n",
       "      <td>2018.06.09</td>\n",
       "      <td>6301.0</td>\n",
       "      <td>NaN</td>\n",
       "      <td>NaN</td>\n",
       "      <td>6</td>\n",
       "    </tr>\n",
       "    <tr>\n",
       "      <th>4</th>\n",
       "      <td>2018.06.08</td>\n",
       "      <td>2018-06-08</td>\n",
       "      <td>2018.0</td>\n",
       "      <td>Unprovoked</td>\n",
       "      <td>AUSTRALIA</td>\n",
       "      <td>New South Wales</td>\n",
       "      <td>NaN</td>\n",
       "      <td>Surfing</td>\n",
       "      <td>male</td>\n",
       "      <td>M</td>\n",
       "      <td>48.0</td>\n",
       "      <td>Minor injury to lower leg</td>\n",
       "      <td>...</td>\n",
       "      <td>NaN</td>\n",
       "      <td>2 m shark</td>\n",
       "      <td>B. Myatt, GSAF</td>\n",
       "      <td>2018.06.08-Arrawarra.pdf</td>\n",
       "      <td>http://sharkattackfile.net/spreadsheets/pdf_di...</td>\n",
       "      <td>http://sharkattackfile.net/spreadsheets/pdf_di...</td>\n",
       "      <td>2018.06.08</td>\n",
       "      <td>2018.06.08</td>\n",
       "      <td>6300.0</td>\n",
       "      <td>NaN</td>\n",
       "      <td>NaN</td>\n",
       "      <td>6</td>\n",
       "    </tr>\n",
       "    <tr>\n",
       "      <th>5</th>\n",
       "      <td>2018.06.04</td>\n",
       "      <td>2018-06-04</td>\n",
       "      <td>2018.0</td>\n",
       "      <td>Provoked</td>\n",
       "      <td>MEXICO</td>\n",
       "      <td>Colima</td>\n",
       "      <td>NaN</td>\n",
       "      <td>Free diving</td>\n",
       "      <td>Gustavo Ramos</td>\n",
       "      <td>M</td>\n",
       "      <td>48.0</td>\n",
       "      <td>Lacerations to leg &amp; hand shark PROVOKED INCIDENT</td>\n",
       "      <td>...</td>\n",
       "      <td>NaN</td>\n",
       "      <td>Tiger shark, 3m</td>\n",
       "      <td>A .Kipper</td>\n",
       "      <td>2018.06.04-Ramos.pdf</td>\n",
       "      <td>http://sharkattackfile.net/spreadsheets/pdf_di...</td>\n",
       "      <td>http://sharkattackfile.net/spreadsheets/pdf_di...</td>\n",
       "      <td>2018.06.04</td>\n",
       "      <td>2018.06.04</td>\n",
       "      <td>6299.0</td>\n",
       "      <td>NaN</td>\n",
       "      <td>NaN</td>\n",
       "      <td>6</td>\n",
       "    </tr>\n",
       "    <tr>\n",
       "      <th>...</th>\n",
       "      <td>...</td>\n",
       "      <td>...</td>\n",
       "      <td>...</td>\n",
       "      <td>...</td>\n",
       "      <td>...</td>\n",
       "      <td>...</td>\n",
       "      <td>...</td>\n",
       "      <td>...</td>\n",
       "      <td>...</td>\n",
       "      <td>...</td>\n",
       "      <td>...</td>\n",
       "      <td>...</td>\n",
       "      <td>...</td>\n",
       "      <td>...</td>\n",
       "      <td>...</td>\n",
       "      <td>...</td>\n",
       "      <td>...</td>\n",
       "      <td>...</td>\n",
       "      <td>...</td>\n",
       "      <td>...</td>\n",
       "      <td>...</td>\n",
       "      <td>...</td>\n",
       "      <td>...</td>\n",
       "      <td>...</td>\n",
       "      <td>...</td>\n",
       "    </tr>\n",
       "    <tr>\n",
       "      <th>6157</th>\n",
       "      <td>1738.04.06.R</td>\n",
       "      <td>1738-04-06</td>\n",
       "      <td>1738.0</td>\n",
       "      <td>Unprovoked</td>\n",
       "      <td>ITALY</td>\n",
       "      <td>Sicily</td>\n",
       "      <td>NaN</td>\n",
       "      <td>Swimming</td>\n",
       "      <td>male</td>\n",
       "      <td>M</td>\n",
       "      <td>14.0</td>\n",
       "      <td>FATAL</td>\n",
       "      <td>...</td>\n",
       "      <td>NaN</td>\n",
       "      <td>NaN</td>\n",
       "      <td>C. Moore, GSAF</td>\n",
       "      <td>1738.04.06.R-Messina.pdf</td>\n",
       "      <td>http://sharkattackfile.net/spreadsheets/pdf_di...</td>\n",
       "      <td>http://sharkattackfile.net/spreadsheets/pdf_di...</td>\n",
       "      <td>1738.04.06.R</td>\n",
       "      <td>1738.04.06.R</td>\n",
       "      <td>147.0</td>\n",
       "      <td>NaN</td>\n",
       "      <td>NaN</td>\n",
       "      <td>4</td>\n",
       "    </tr>\n",
       "    <tr>\n",
       "      <th>6158</th>\n",
       "      <td>1733.00.00</td>\n",
       "      <td>1733-01-01</td>\n",
       "      <td>1733.0</td>\n",
       "      <td>Invalid</td>\n",
       "      <td>ICELAND</td>\n",
       "      <td>Bardestrand</td>\n",
       "      <td>NaN</td>\n",
       "      <td>NaN</td>\n",
       "      <td>NaN</td>\n",
       "      <td>NaN</td>\n",
       "      <td>14.0</td>\n",
       "      <td>Partial hominid remains recovered from shark, ...</td>\n",
       "      <td>...</td>\n",
       "      <td>NaN</td>\n",
       "      <td>Shark involvement prior to death unconfirmed</td>\n",
       "      <td>E. Olafsen</td>\n",
       "      <td>1733.00.00-Iceland.pdf</td>\n",
       "      <td>http://sharkattackfile.net/spreadsheets/pdf_di...</td>\n",
       "      <td>http://sharkattackfile.net/spreadsheets/pdf_di...</td>\n",
       "      <td>1733.00.00</td>\n",
       "      <td>1733.00.00</td>\n",
       "      <td>146.0</td>\n",
       "      <td>NaN</td>\n",
       "      <td>NaN</td>\n",
       "      <td>1</td>\n",
       "    </tr>\n",
       "    <tr>\n",
       "      <th>6159</th>\n",
       "      <td>1723.00.00</td>\n",
       "      <td>1723-01-01</td>\n",
       "      <td>1723.0</td>\n",
       "      <td>Unprovoked</td>\n",
       "      <td>ROATAN</td>\n",
       "      <td>NaN</td>\n",
       "      <td>NaN</td>\n",
       "      <td>NaN</td>\n",
       "      <td>Philip Ashton</td>\n",
       "      <td>M</td>\n",
       "      <td>14.0</td>\n",
       "      <td>Struck on thigh</td>\n",
       "      <td>...</td>\n",
       "      <td>NaN</td>\n",
       "      <td>NaN</td>\n",
       "      <td>C.Moore, GSAF</td>\n",
       "      <td>1730.00.00-Ashton.pdf</td>\n",
       "      <td>http://sharkattackfile.net/spreadsheets/pdf_di...</td>\n",
       "      <td>http://sharkattackfile.net/spreadsheets/pdf_di...</td>\n",
       "      <td>1723.00.00</td>\n",
       "      <td>1723.00.00</td>\n",
       "      <td>145.0</td>\n",
       "      <td>NaN</td>\n",
       "      <td>NaN</td>\n",
       "      <td>1</td>\n",
       "    </tr>\n",
       "    <tr>\n",
       "      <th>6160</th>\n",
       "      <td>1721.06.00</td>\n",
       "      <td>1721-06-01</td>\n",
       "      <td>1721.0</td>\n",
       "      <td>Unprovoked</td>\n",
       "      <td>ITALY</td>\n",
       "      <td>Sardinia</td>\n",
       "      <td>NaN</td>\n",
       "      <td>Swimming</td>\n",
       "      <td>male</td>\n",
       "      <td>M</td>\n",
       "      <td>14.0</td>\n",
       "      <td>FATAL,  partial remains recovered from shark’s...</td>\n",
       "      <td>...</td>\n",
       "      <td>NaN</td>\n",
       "      <td>White shark, 1600-lb female</td>\n",
       "      <td>F. Ricciardi; A. De Maddalena.</td>\n",
       "      <td>1721.06.00-Maddalena.pdf</td>\n",
       "      <td>http://sharkattackfile.net/spreadsheets/pdf_di...</td>\n",
       "      <td>http://sharkattackfile.net/spreadsheets/pdf_di...</td>\n",
       "      <td>1721.06.00</td>\n",
       "      <td>1721.06.00</td>\n",
       "      <td>144.0</td>\n",
       "      <td>NaN</td>\n",
       "      <td>NaN</td>\n",
       "      <td>6</td>\n",
       "    </tr>\n",
       "    <tr>\n",
       "      <th>6161</th>\n",
       "      <td>1703.03.26</td>\n",
       "      <td>1703-03-26</td>\n",
       "      <td>1703.0</td>\n",
       "      <td>Unprovoked</td>\n",
       "      <td>BARBADOS</td>\n",
       "      <td>Southwest coast</td>\n",
       "      <td>NaN</td>\n",
       "      <td>Swimming</td>\n",
       "      <td>Samuel Jennings, a deserter from the British f...</td>\n",
       "      <td>M</td>\n",
       "      <td>19.0</td>\n",
       "      <td>Hand and foot severely bitten, surgically ampu...</td>\n",
       "      <td>...</td>\n",
       "      <td>Night</td>\n",
       "      <td>NaN</td>\n",
       "      <td>W.R.Cutter, Vol.1, p.252</td>\n",
       "      <td>1703.03.26-Jennings.pdf</td>\n",
       "      <td>http://sharkattackfile.net/spreadsheets/pdf_di...</td>\n",
       "      <td>http://sharkattackfile.net/spreadsheets/pdf_di...</td>\n",
       "      <td>1703.03.26</td>\n",
       "      <td>1703.03.26</td>\n",
       "      <td>143.0</td>\n",
       "      <td>NaN</td>\n",
       "      <td>NaN</td>\n",
       "      <td>3</td>\n",
       "    </tr>\n",
       "  </tbody>\n",
       "</table>\n",
       "<p>5999 rows × 25 columns</p>\n",
       "</div>"
      ],
      "text/plain": [
       "             Case Number       Date    Year        Type    Country  \\\n",
       "attacks_ID                                                           \n",
       "1             2018.06.25 2018-06-25  2018.0     Boating        USA   \n",
       "2             2018.06.18 2018-06-18  2018.0  Unprovoked        USA   \n",
       "3             2018.06.09 2018-06-09  2018.0     Invalid        USA   \n",
       "4             2018.06.08 2018-06-08  2018.0  Unprovoked  AUSTRALIA   \n",
       "5             2018.06.04 2018-06-04  2018.0    Provoked     MEXICO   \n",
       "...                  ...        ...     ...         ...        ...   \n",
       "6157        1738.04.06.R 1738-04-06  1738.0  Unprovoked      ITALY   \n",
       "6158          1733.00.00 1733-01-01  1733.0     Invalid    ICELAND   \n",
       "6159          1723.00.00 1723-01-01  1723.0  Unprovoked     ROATAN   \n",
       "6160          1721.06.00 1721-06-01  1721.0  Unprovoked      ITALY   \n",
       "6161          1703.03.26 1703-03-26  1703.0  Unprovoked   BARBADOS   \n",
       "\n",
       "                       Area           Location     Activity  \\\n",
       "attacks_ID                                                    \n",
       "1                California   San Diego County     Paddling   \n",
       "2                   Georgia       Glynn County     Standing   \n",
       "3                    Hawaii               Oahu      Surfing   \n",
       "4           New South Wales                NaN      Surfing   \n",
       "5                    Colima                NaN  Free diving   \n",
       "...                     ...                ...          ...   \n",
       "6157                 Sicily                NaN     Swimming   \n",
       "6158            Bardestrand                NaN          NaN   \n",
       "6159                    NaN                NaN          NaN   \n",
       "6160               Sardinia                NaN     Swimming   \n",
       "6161        Southwest coast                NaN     Swimming   \n",
       "\n",
       "                                                         Name  Sex   Age  \\\n",
       "attacks_ID                                                                 \n",
       "1                                                 Julie Wolfe    F  57.0   \n",
       "2                                             Adyson McNeely     F  11.0   \n",
       "3                                                 John Denges    M  48.0   \n",
       "4                                                        male    M  48.0   \n",
       "5                                              Gustavo Ramos     M  48.0   \n",
       "...                                                       ...  ...   ...   \n",
       "6157                                                     male    M  14.0   \n",
       "6158                                                      NaN  NaN  14.0   \n",
       "6159                                            Philip Ashton    M  14.0   \n",
       "6160                                                     male    M  14.0   \n",
       "6161        Samuel Jennings, a deserter from the British f...    M  19.0   \n",
       "\n",
       "                                                       Injury  ...  \\\n",
       "attacks_ID                                                     ...   \n",
       "1           No injury to occupant, outrigger canoe and pad...  ...   \n",
       "2                                  Minor injury to left thigh  ...   \n",
       "3                Injury to left lower leg from surfboard skeg  ...   \n",
       "4                                   Minor injury to lower leg  ...   \n",
       "5           Lacerations to leg & hand shark PROVOKED INCIDENT  ...   \n",
       "...                                                       ...  ...   \n",
       "6157                                                    FATAL  ...   \n",
       "6158        Partial hominid remains recovered from shark, ...  ...   \n",
       "6159                                          Struck on thigh  ...   \n",
       "6160        FATAL,  partial remains recovered from shark’s...  ...   \n",
       "6161        Hand and foot severely bitten, surgically ampu...  ...   \n",
       "\n",
       "                     Time                                      Species   \\\n",
       "attacks_ID                                                                \n",
       "1                   18h00                                   White shark   \n",
       "2           14h00  -15h00                                           NaN   \n",
       "3                   07h45                                           NaN   \n",
       "4                     NaN                                     2 m shark   \n",
       "5                     NaN                               Tiger shark, 3m   \n",
       "...                   ...                                           ...   \n",
       "6157                  NaN                                           NaN   \n",
       "6158                  NaN  Shark involvement prior to death unconfirmed   \n",
       "6159                  NaN                                           NaN   \n",
       "6160                  NaN                  White shark, 1600-lb female    \n",
       "6161                Night                                           NaN   \n",
       "\n",
       "                     Investigator or Source                       pdf  \\\n",
       "attacks_ID                                                              \n",
       "1                          R. Collier, GSAF      2018.06.25-Wolfe.pdf   \n",
       "2            K.McMurray, TrackingSharks.com    2018.06.18-McNeely.pdf   \n",
       "3            K.McMurray, TrackingSharks.com     2018.06.09-Denges.pdf   \n",
       "4                            B. Myatt, GSAF  2018.06.08-Arrawarra.pdf   \n",
       "5                                 A .Kipper      2018.06.04-Ramos.pdf   \n",
       "...                                     ...                       ...   \n",
       "6157                         C. Moore, GSAF  1738.04.06.R-Messina.pdf   \n",
       "6158                             E. Olafsen    1733.00.00-Iceland.pdf   \n",
       "6159                          C.Moore, GSAF     1730.00.00-Ashton.pdf   \n",
       "6160        F. Ricciardi; A. De Maddalena.   1721.06.00-Maddalena.pdf   \n",
       "6161               W.R.Cutter, Vol.1, p.252   1703.03.26-Jennings.pdf   \n",
       "\n",
       "                                                 href formula  \\\n",
       "attacks_ID                                                      \n",
       "1           http://sharkattackfile.net/spreadsheets/pdf_di...   \n",
       "2           http://sharkattackfile.net/spreadsheets/pdf_di...   \n",
       "3           http://sharkattackfile.net/spreadsheets/pdf_di...   \n",
       "4           http://sharkattackfile.net/spreadsheets/pdf_di...   \n",
       "5           http://sharkattackfile.net/spreadsheets/pdf_di...   \n",
       "...                                                       ...   \n",
       "6157        http://sharkattackfile.net/spreadsheets/pdf_di...   \n",
       "6158        http://sharkattackfile.net/spreadsheets/pdf_di...   \n",
       "6159        http://sharkattackfile.net/spreadsheets/pdf_di...   \n",
       "6160        http://sharkattackfile.net/spreadsheets/pdf_di...   \n",
       "6161        http://sharkattackfile.net/spreadsheets/pdf_di...   \n",
       "\n",
       "                                                         href Case Number.1  \\\n",
       "attacks_ID                                                                    \n",
       "1           http://sharkattackfile.net/spreadsheets/pdf_di...    2018.06.25   \n",
       "2           http://sharkattackfile.net/spreadsheets/pdf_di...    2018.06.18   \n",
       "3           http://sharkattackfile.net/spreadsheets/pdf_di...    2018.06.09   \n",
       "4           http://sharkattackfile.net/spreadsheets/pdf_di...    2018.06.08   \n",
       "5           http://sharkattackfile.net/spreadsheets/pdf_di...    2018.06.04   \n",
       "...                                                       ...           ...   \n",
       "6157        http://sharkattackfile.net/spreadsheets/pdf_di...  1738.04.06.R   \n",
       "6158        http://sharkattackfile.net/spreadsheets/pdf_di...    1733.00.00   \n",
       "6159        http://sharkattackfile.net/spreadsheets/pdf_di...    1723.00.00   \n",
       "6160        http://sharkattackfile.net/spreadsheets/pdf_di...    1721.06.00   \n",
       "6161        http://sharkattackfile.net/spreadsheets/pdf_di...    1703.03.26   \n",
       "\n",
       "           Case Number.2 original order  Unnamed: 22 Unnamed: 23 Months  \n",
       "attacks_ID                                                               \n",
       "1             2018.06.25         6303.0          NaN         NaN      6  \n",
       "2             2018.06.18         6302.0          NaN         NaN      6  \n",
       "3             2018.06.09         6301.0          NaN         NaN      6  \n",
       "4             2018.06.08         6300.0          NaN         NaN      6  \n",
       "5             2018.06.04         6299.0          NaN         NaN      6  \n",
       "...                  ...            ...          ...         ...    ...  \n",
       "6157        1738.04.06.R          147.0          NaN         NaN      4  \n",
       "6158          1733.00.00          146.0          NaN         NaN      1  \n",
       "6159          1723.00.00          145.0          NaN         NaN      1  \n",
       "6160          1721.06.00          144.0          NaN         NaN      6  \n",
       "6161          1703.03.26          143.0          NaN         NaN      3  \n",
       "\n",
       "[5999 rows x 25 columns]"
      ]
     },
     "execution_count": 72,
     "metadata": {},
     "output_type": "execute_result"
    }
   ],
   "source": [
    "pd.set_option('display.max_columns',24)\n",
    "pd.set_option('display.max_columns',24)\n",
    "attacks_df.drop([\"Case Number\", \"Species\"], axis=1)"
   ]
  },
  {
   "cell_type": "code",
   "execution_count": 82,
   "id": "binary-causing",
   "metadata": {},
   "outputs": [],
   "source": [
    "attacks_df.columns = attacks_df.columns.str.lower().str.strip()"
   ]
  },
  {
   "cell_type": "code",
   "execution_count": 83,
   "id": "embedded-estonia",
   "metadata": {},
   "outputs": [
    {
     "data": {
      "text/html": [
       "<div>\n",
       "<style scoped>\n",
       "    .dataframe tbody tr th:only-of-type {\n",
       "        vertical-align: middle;\n",
       "    }\n",
       "\n",
       "    .dataframe tbody tr th {\n",
       "        vertical-align: top;\n",
       "    }\n",
       "\n",
       "    .dataframe thead th {\n",
       "        text-align: right;\n",
       "    }\n",
       "</style>\n",
       "<table border=\"1\" class=\"dataframe\">\n",
       "  <thead>\n",
       "    <tr style=\"text-align: right;\">\n",
       "      <th></th>\n",
       "      <th>case number</th>\n",
       "      <th>date</th>\n",
       "      <th>year</th>\n",
       "      <th>type</th>\n",
       "      <th>country</th>\n",
       "      <th>area</th>\n",
       "      <th>location</th>\n",
       "      <th>activity</th>\n",
       "      <th>name</th>\n",
       "      <th>sex</th>\n",
       "      <th>age</th>\n",
       "      <th>injury</th>\n",
       "      <th>...</th>\n",
       "      <th>time</th>\n",
       "      <th>species</th>\n",
       "      <th>investigator or source</th>\n",
       "      <th>pdf</th>\n",
       "      <th>href formula</th>\n",
       "      <th>href</th>\n",
       "      <th>case number.1</th>\n",
       "      <th>case number.2</th>\n",
       "      <th>original order</th>\n",
       "      <th>unnamed: 22</th>\n",
       "      <th>unnamed: 23</th>\n",
       "      <th>months</th>\n",
       "    </tr>\n",
       "    <tr>\n",
       "      <th>attacks_ID</th>\n",
       "      <th></th>\n",
       "      <th></th>\n",
       "      <th></th>\n",
       "      <th></th>\n",
       "      <th></th>\n",
       "      <th></th>\n",
       "      <th></th>\n",
       "      <th></th>\n",
       "      <th></th>\n",
       "      <th></th>\n",
       "      <th></th>\n",
       "      <th></th>\n",
       "      <th></th>\n",
       "      <th></th>\n",
       "      <th></th>\n",
       "      <th></th>\n",
       "      <th></th>\n",
       "      <th></th>\n",
       "      <th></th>\n",
       "      <th></th>\n",
       "      <th></th>\n",
       "      <th></th>\n",
       "      <th></th>\n",
       "      <th></th>\n",
       "      <th></th>\n",
       "    </tr>\n",
       "  </thead>\n",
       "  <tbody>\n",
       "    <tr>\n",
       "      <th>1</th>\n",
       "      <td>2018.06.25</td>\n",
       "      <td>2018-06-25</td>\n",
       "      <td>2018.0</td>\n",
       "      <td>Boating</td>\n",
       "      <td>USA</td>\n",
       "      <td>California</td>\n",
       "      <td>San Diego County</td>\n",
       "      <td>Paddling</td>\n",
       "      <td>Julie Wolfe</td>\n",
       "      <td>F</td>\n",
       "      <td>57.0</td>\n",
       "      <td>No injury to occupant, outrigger canoe and pad...</td>\n",
       "      <td>...</td>\n",
       "      <td>18h00</td>\n",
       "      <td>White shark</td>\n",
       "      <td>R. Collier, GSAF</td>\n",
       "      <td>2018.06.25-Wolfe.pdf</td>\n",
       "      <td>http://sharkattackfile.net/spreadsheets/pdf_di...</td>\n",
       "      <td>http://sharkattackfile.net/spreadsheets/pdf_di...</td>\n",
       "      <td>2018.06.25</td>\n",
       "      <td>2018.06.25</td>\n",
       "      <td>6303.0</td>\n",
       "      <td>NaN</td>\n",
       "      <td>NaN</td>\n",
       "      <td>6</td>\n",
       "    </tr>\n",
       "    <tr>\n",
       "      <th>2</th>\n",
       "      <td>2018.06.18</td>\n",
       "      <td>2018-06-18</td>\n",
       "      <td>2018.0</td>\n",
       "      <td>Unprovoked</td>\n",
       "      <td>USA</td>\n",
       "      <td>Georgia</td>\n",
       "      <td>Glynn County</td>\n",
       "      <td>Standing</td>\n",
       "      <td>Adyson McNeely</td>\n",
       "      <td>F</td>\n",
       "      <td>11.0</td>\n",
       "      <td>Minor injury to left thigh</td>\n",
       "      <td>...</td>\n",
       "      <td>14h00  -15h00</td>\n",
       "      <td>NaN</td>\n",
       "      <td>K.McMurray, TrackingSharks.com</td>\n",
       "      <td>2018.06.18-McNeely.pdf</td>\n",
       "      <td>http://sharkattackfile.net/spreadsheets/pdf_di...</td>\n",
       "      <td>http://sharkattackfile.net/spreadsheets/pdf_di...</td>\n",
       "      <td>2018.06.18</td>\n",
       "      <td>2018.06.18</td>\n",
       "      <td>6302.0</td>\n",
       "      <td>NaN</td>\n",
       "      <td>NaN</td>\n",
       "      <td>6</td>\n",
       "    </tr>\n",
       "    <tr>\n",
       "      <th>3</th>\n",
       "      <td>2018.06.09</td>\n",
       "      <td>2018-06-09</td>\n",
       "      <td>2018.0</td>\n",
       "      <td>Invalid</td>\n",
       "      <td>USA</td>\n",
       "      <td>Hawaii</td>\n",
       "      <td>Oahu</td>\n",
       "      <td>Surfing</td>\n",
       "      <td>John Denges</td>\n",
       "      <td>M</td>\n",
       "      <td>48.0</td>\n",
       "      <td>Injury to left lower leg from surfboard skeg</td>\n",
       "      <td>...</td>\n",
       "      <td>07h45</td>\n",
       "      <td>NaN</td>\n",
       "      <td>K.McMurray, TrackingSharks.com</td>\n",
       "      <td>2018.06.09-Denges.pdf</td>\n",
       "      <td>http://sharkattackfile.net/spreadsheets/pdf_di...</td>\n",
       "      <td>http://sharkattackfile.net/spreadsheets/pdf_di...</td>\n",
       "      <td>2018.06.09</td>\n",
       "      <td>2018.06.09</td>\n",
       "      <td>6301.0</td>\n",
       "      <td>NaN</td>\n",
       "      <td>NaN</td>\n",
       "      <td>6</td>\n",
       "    </tr>\n",
       "    <tr>\n",
       "      <th>4</th>\n",
       "      <td>2018.06.08</td>\n",
       "      <td>2018-06-08</td>\n",
       "      <td>2018.0</td>\n",
       "      <td>Unprovoked</td>\n",
       "      <td>AUSTRALIA</td>\n",
       "      <td>New South Wales</td>\n",
       "      <td>NaN</td>\n",
       "      <td>Surfing</td>\n",
       "      <td>male</td>\n",
       "      <td>M</td>\n",
       "      <td>48.0</td>\n",
       "      <td>Minor injury to lower leg</td>\n",
       "      <td>...</td>\n",
       "      <td>NaN</td>\n",
       "      <td>2 m shark</td>\n",
       "      <td>B. Myatt, GSAF</td>\n",
       "      <td>2018.06.08-Arrawarra.pdf</td>\n",
       "      <td>http://sharkattackfile.net/spreadsheets/pdf_di...</td>\n",
       "      <td>http://sharkattackfile.net/spreadsheets/pdf_di...</td>\n",
       "      <td>2018.06.08</td>\n",
       "      <td>2018.06.08</td>\n",
       "      <td>6300.0</td>\n",
       "      <td>NaN</td>\n",
       "      <td>NaN</td>\n",
       "      <td>6</td>\n",
       "    </tr>\n",
       "    <tr>\n",
       "      <th>5</th>\n",
       "      <td>2018.06.04</td>\n",
       "      <td>2018-06-04</td>\n",
       "      <td>2018.0</td>\n",
       "      <td>Provoked</td>\n",
       "      <td>MEXICO</td>\n",
       "      <td>Colima</td>\n",
       "      <td>NaN</td>\n",
       "      <td>Free diving</td>\n",
       "      <td>Gustavo Ramos</td>\n",
       "      <td>M</td>\n",
       "      <td>48.0</td>\n",
       "      <td>Lacerations to leg &amp; hand shark PROVOKED INCIDENT</td>\n",
       "      <td>...</td>\n",
       "      <td>NaN</td>\n",
       "      <td>Tiger shark, 3m</td>\n",
       "      <td>A .Kipper</td>\n",
       "      <td>2018.06.04-Ramos.pdf</td>\n",
       "      <td>http://sharkattackfile.net/spreadsheets/pdf_di...</td>\n",
       "      <td>http://sharkattackfile.net/spreadsheets/pdf_di...</td>\n",
       "      <td>2018.06.04</td>\n",
       "      <td>2018.06.04</td>\n",
       "      <td>6299.0</td>\n",
       "      <td>NaN</td>\n",
       "      <td>NaN</td>\n",
       "      <td>6</td>\n",
       "    </tr>\n",
       "  </tbody>\n",
       "</table>\n",
       "<p>5 rows × 25 columns</p>\n",
       "</div>"
      ],
      "text/plain": [
       "           case number       date    year        type    country  \\\n",
       "attacks_ID                                                         \n",
       "1           2018.06.25 2018-06-25  2018.0     Boating        USA   \n",
       "2           2018.06.18 2018-06-18  2018.0  Unprovoked        USA   \n",
       "3           2018.06.09 2018-06-09  2018.0     Invalid        USA   \n",
       "4           2018.06.08 2018-06-08  2018.0  Unprovoked  AUSTRALIA   \n",
       "5           2018.06.04 2018-06-04  2018.0    Provoked     MEXICO   \n",
       "\n",
       "                       area           location     activity             name  \\\n",
       "attacks_ID                                                                     \n",
       "1                California   San Diego County     Paddling      Julie Wolfe   \n",
       "2                   Georgia       Glynn County     Standing  Adyson McNeely    \n",
       "3                    Hawaii               Oahu      Surfing      John Denges   \n",
       "4           New South Wales                NaN      Surfing             male   \n",
       "5                    Colima                NaN  Free diving   Gustavo Ramos    \n",
       "\n",
       "           sex   age                                             injury  ...  \\\n",
       "attacks_ID                                                               ...   \n",
       "1            F  57.0  No injury to occupant, outrigger canoe and pad...  ...   \n",
       "2            F  11.0                         Minor injury to left thigh  ...   \n",
       "3            M  48.0       Injury to left lower leg from surfboard skeg  ...   \n",
       "4            M  48.0                          Minor injury to lower leg  ...   \n",
       "5            M  48.0  Lacerations to leg & hand shark PROVOKED INCIDENT  ...   \n",
       "\n",
       "                     time          species          investigator or source  \\\n",
       "attacks_ID                                                                   \n",
       "1                   18h00      White shark                R. Collier, GSAF   \n",
       "2           14h00  -15h00              NaN  K.McMurray, TrackingSharks.com   \n",
       "3                   07h45              NaN  K.McMurray, TrackingSharks.com   \n",
       "4                     NaN        2 m shark                  B. Myatt, GSAF   \n",
       "5                     NaN  Tiger shark, 3m                       A .Kipper   \n",
       "\n",
       "                                 pdf  \\\n",
       "attacks_ID                             \n",
       "1               2018.06.25-Wolfe.pdf   \n",
       "2             2018.06.18-McNeely.pdf   \n",
       "3              2018.06.09-Denges.pdf   \n",
       "4           2018.06.08-Arrawarra.pdf   \n",
       "5               2018.06.04-Ramos.pdf   \n",
       "\n",
       "                                                 href formula  \\\n",
       "attacks_ID                                                      \n",
       "1           http://sharkattackfile.net/spreadsheets/pdf_di...   \n",
       "2           http://sharkattackfile.net/spreadsheets/pdf_di...   \n",
       "3           http://sharkattackfile.net/spreadsheets/pdf_di...   \n",
       "4           http://sharkattackfile.net/spreadsheets/pdf_di...   \n",
       "5           http://sharkattackfile.net/spreadsheets/pdf_di...   \n",
       "\n",
       "                                                         href case number.1  \\\n",
       "attacks_ID                                                                    \n",
       "1           http://sharkattackfile.net/spreadsheets/pdf_di...    2018.06.25   \n",
       "2           http://sharkattackfile.net/spreadsheets/pdf_di...    2018.06.18   \n",
       "3           http://sharkattackfile.net/spreadsheets/pdf_di...    2018.06.09   \n",
       "4           http://sharkattackfile.net/spreadsheets/pdf_di...    2018.06.08   \n",
       "5           http://sharkattackfile.net/spreadsheets/pdf_di...    2018.06.04   \n",
       "\n",
       "           case number.2 original order  unnamed: 22 unnamed: 23 months  \n",
       "attacks_ID                                                               \n",
       "1             2018.06.25         6303.0          NaN         NaN      6  \n",
       "2             2018.06.18         6302.0          NaN         NaN      6  \n",
       "3             2018.06.09         6301.0          NaN         NaN      6  \n",
       "4             2018.06.08         6300.0          NaN         NaN      6  \n",
       "5             2018.06.04         6299.0          NaN         NaN      6  \n",
       "\n",
       "[5 rows x 25 columns]"
      ]
     },
     "execution_count": 83,
     "metadata": {},
     "output_type": "execute_result"
    }
   ],
   "source": [
    "attacks_df.head()"
   ]
  }
 ],
 "metadata": {
  "kernelspec": {
   "display_name": "Python 3",
   "language": "python",
   "name": "python3"
  },
  "language_info": {
   "codemirror_mode": {
    "name": "ipython",
    "version": 3
   },
   "file_extension": ".py",
   "mimetype": "text/x-python",
   "name": "python",
   "nbconvert_exporter": "python",
   "pygments_lexer": "ipython3",
   "version": "3.8.2"
  }
 },
 "nbformat": 4,
 "nbformat_minor": 5
}
