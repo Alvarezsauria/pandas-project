{
 "cells": [
  {
   "cell_type": "markdown",
   "id": "cheap-amount",
   "metadata": {},
   "source": [
    "**Importing libraries**"
   ]
  },
  {
   "cell_type": "code",
   "execution_count": null,
   "id": "convertible-redhead",
   "metadata": {},
   "outputs": [],
   "source": [
    "import numpy as np\n",
    "import seaborn as sns\n",
    "import pandas as pd\n",
    "import matplotlib.pyplot as plt"
   ]
  },
  {
   "cell_type": "markdown",
   "id": "gothic-lying",
   "metadata": {},
   "source": [
    "**DataFrame**"
   ]
  },
  {
   "cell_type": "code",
   "execution_count": null,
   "id": "alleged-empire",
   "metadata": {},
   "outputs": [],
   "source": [
    "# Reading and encoding dataframe\n",
    "attacks = pd.read_csv('/Users/victor/maria/ironhack_labs/attacks.csv', encoding='cp1252')\n",
    "# Making a copy with which we can work\n",
    "attacks_df = attacks.copy()"
   ]
  },
  {
   "cell_type": "code",
   "execution_count": null,
   "id": "baking-cause",
   "metadata": {},
   "outputs": [],
   "source": [
    "# Getting some basic info\n",
    "attacks_df.info()"
   ]
  },
  {
   "cell_type": "code",
   "execution_count": null,
   "id": "hearing-garage",
   "metadata": {},
   "outputs": [],
   "source": [
    "# Deleting complet empty rows\n",
    "attacks_df.dropna(axis = 0, how = 'all', inplace = True)\n",
    "# Reassigning the columns titles\n",
    "attacks_df.columns = attacks_df.columns.str.capitalize().str.strip()\n",
    "# Changing specific column name\n",
    "attacks_df = attacks_df.rename(columns = {'Fatal (y/n)': 'Fatal'})\n",
    "# Deleting further non-valuable columns\n",
    "attacks_df = attacks_df.drop(attacks_df[attacks_df['Case number'] == '0'].index)\n",
    "attacks_df = attacks_df.drop(attacks_df[attacks_df['Case number'] == 'xx'].index)\n",
    "# Showing all data in rows and columns\n",
    "pd.set_option('display.max_rows', 30)\n",
    "pd.set_option('display.max_columns', 24)"
   ]
  },
  {
   "cell_type": "code",
   "execution_count": null,
   "id": "compressed-think",
   "metadata": {},
   "outputs": [],
   "source": [
    "# Checking if there is any valid ID\n",
    "print(attacks_df['Case number.1'].is_unique)\n",
    "print(attacks_df['Original order'].is_unique)\n",
    "print(attacks_df['Href'].is_unique)\n",
    "print(attacks_df['Pdf'].is_unique)"
   ]
  },
  {
   "cell_type": "code",
   "execution_count": null,
   "id": "agricultural-mexico",
   "metadata": {},
   "outputs": [],
   "source": [
    "# Checking there are not duplicated rows, before setting a new ID\n",
    "duplicateRows = attacks_df[attacks_df.duplicated()]\n",
    "print(duplicateRows)"
   ]
  },
  {
   "cell_type": "code",
   "execution_count": null,
   "id": "ceramic-think",
   "metadata": {},
   "outputs": [],
   "source": [
    "# Deleting non-valuable columns for the analysis\n",
    "attacks_df = attacks_df.drop(columns = ['Case number', 'Area', 'Name', 'Time', 'Investigator or source','Pdf','Href formula', 'Href', 'Case number.2', 'Original order', 'Unnamed: 22', 'Unnamed: 23'])\n",
    "# Case number: is not unique, and doesn't give us relevant information\n",
    "# Area: is a categorical variable with many different options, we will use Country instead\n",
    "# Name: doesn't give us relevant info about the attack\n",
    "# Time: is an incomplete variable\n",
    "# Invesigation or source: doesn't give us relevant information about the attack\n",
    "# Pdf: doesn't give us relevant info\n",
    "# Href formula: doesn't give us relevant info\n",
    "# Href: doesn't give us relevant info\n",
    "# Case number.2: repeated column\n",
    "# Original order: could be used to get the date easier, as well as Case Number, but we will use Date and Year instead\n",
    "# Unnamed: 22: empty column\n",
    "# Unnamed: 23: empty column"
   ]
  },
  {
   "cell_type": "code",
   "execution_count": null,
   "id": "direct-estate",
   "metadata": {},
   "outputs": [],
   "source": [
    "# Setting a new ID\n",
    "attacks_df.index = [x for x in range(1, len(attacks_df.values)+1)]\n",
    "# Giving a new name to the column ID\n",
    "attacks_df.index.name = 'Attacks_ID'"
   ]
  },
  {
   "cell_type": "code",
   "execution_count": null,
   "id": "super-stack",
   "metadata": {},
   "outputs": [],
   "source": [
    "attacks_df.info()"
   ]
  },
  {
   "cell_type": "markdown",
   "id": "centered-platinum",
   "metadata": {},
   "source": [
    "# Demographics"
   ]
  },
  {
   "cell_type": "code",
   "execution_count": null,
   "id": "complicated-current",
   "metadata": {},
   "outputs": [],
   "source": [
    "# Checking the status of the demographic columns\n",
    "attacks_df[['Sex','Age']]"
   ]
  },
  {
   "cell_type": "markdown",
   "id": "floppy-logging",
   "metadata": {},
   "source": [
    "## Age"
   ]
  },
  {
   "cell_type": "code",
   "execution_count": null,
   "id": "timely-custody",
   "metadata": {},
   "outputs": [],
   "source": [
    "attacks_df.Age.describe()"
   ]
  },
  {
   "cell_type": "code",
   "execution_count": null,
   "id": "helpful-welsh",
   "metadata": {},
   "outputs": [],
   "source": [
    "attacks_df.Age.value_counts(dropna=False)"
   ]
  },
  {
   "cell_type": "markdown",
   "id": "lined-medicine",
   "metadata": {},
   "source": [
    "We have 640 valid data in Age, let's try to rise it a little bit"
   ]
  },
  {
   "cell_type": "code",
   "execution_count": null,
   "id": "forty-outside",
   "metadata": {},
   "outputs": [],
   "source": [
    "attacks_df.Age.unique()"
   ]
  },
  {
   "cell_type": "markdown",
   "id": "exact-transaction",
   "metadata": {},
   "source": [
    "**If we assume:**\n",
    "- Teenagers are between 13 and 19; so the mean will be *16*\n",
    "- Youngs are from 20 to 30; so the mean will be *25*\n",
    "- Adults are from 31 to 65; so the mean is *48*\n",
    "- Elderly are from 66 to 100+; the mean is around *88*"
   ]
  },
  {
   "cell_type": "code",
   "execution_count": null,
   "id": "inner-aruba",
   "metadata": {},
   "outputs": [],
   "source": [
    "# Cleaning Age column in order to get valuable data\n",
    "attacks_df['Age'] = attacks_df['Age'].astype(str)\n",
    "attacks_df['Age'] = attacks_df.Age.str.replace(r'(^.*een.*$)', '16')\n",
    "attacks_df['Age'] = attacks_df.Age.str.replace(r'(^.*oun.*$)', '25')\n",
    "attacks_df['Age'] = attacks_df.Age.str.replace(r'(^.*dul.*$)', '48')\n",
    "attacks_df['Age'] = attacks_df.Age.str.replace(r'(^.*lderl.*$)', '88')\n",
    "attacks_df['Age'] = attacks_df.Age.str.replace(r'(^.*middle-a.*$)', '37')\n",
    "attacks_df['Age'] = attacks_df.Age.str.replace(r'(^.*onth.*$)', '1')\n",
    "attacks_df['Age'] = attacks_df.Age.str.replace(r'(.*)s.*', r'\\1')\n",
    "attacks_df['Age'] = attacks_df.Age.str.replace(r'^\\s$', 'NaN')\n",
    "attacks_df['Age'] = attacks_df.Age.str.replace('nan', 'NaN')\n",
    "attacks_df['Age'] = attacks_df.Age.str.replace(r'(.*)\\s&.*', r'\\1')\n",
    "attacks_df['Age'] = attacks_df.Age.str.replace(r'(.*)\\sor.*', r'\\1')\n",
    "attacks_df['Age'] = attacks_df.Age.str.replace(r'(.*)\\sto.*', r'\\1')\n",
    "attacks_df['Age'] = attacks_df.Age.str.replace(r'(.*)\\sto.*', r'\\1')\n",
    "attacks_df['Age'] = attacks_df.Age.str.replace(r'^\\s(\\d\\d)', r'\\1')\n",
    "attacks_df['Age'] = attacks_df.Age.str.replace(r'^(\\d\\d).*', r'\\1')\n",
    "attacks_df['Age'] = attacks_df.Age.str.replace(r'^\\D*(\\d\\d)', r'\\1')\n",
    "attacks_df['Age'].replace(('\\xa0', 'NaN'), inplace = True)\n",
    "attacks_df['Age'] = attacks_df.Age.str.replace(r'(\\d)\\s\\s\\s.*', r'\\1')\n",
    "attacks_df['Age'] = attacks_df.Age.str.replace(r'^\\s\\s.*', r'NaN')\n",
    "attacks_df['Age'] = attacks_df.Age.str.replace(r'^\\D{1,}$', r'NaN')\n",
    "attacks_df['Age'].replace(('2½', '25'), inplace = True)\n",
    "attacks_df['Age'].replace(('6½', '65'), inplace = True)\n",
    "attacks_df['Age'].fillna('NaN') "
   ]
  },
  {
   "cell_type": "code",
   "execution_count": null,
   "id": "dedicated-commitment",
   "metadata": {},
   "outputs": [],
   "source": [
    "# Checking we have the expected output\n",
    "attacks_df.Age.unique()"
   ]
  },
  {
   "cell_type": "code",
   "execution_count": null,
   "id": "chemical-research",
   "metadata": {},
   "outputs": [],
   "source": [
    "attacks_df['Age'].describe()"
   ]
  },
  {
   "cell_type": "code",
   "execution_count": null,
   "id": "average-drama",
   "metadata": {},
   "outputs": [],
   "source": [
    "attacks_df.Age.value_counts(dropna=False)"
   ]
  },
  {
   "cell_type": "code",
   "execution_count": null,
   "id": "velvet-doctor",
   "metadata": {},
   "outputs": [],
   "source": [
    "attacks_df.Age.value_counts(normalize=True).head(15)"
   ]
  },
  {
   "cell_type": "code",
   "execution_count": null,
   "id": "sonic-green",
   "metadata": {},
   "outputs": [],
   "source": [
    "# Getting basic statistics\n",
    "attacks_df['Age'] = pd.to_numeric(attacks_df['Age'], errors = 'coerce')\n",
    "print('Age mean is: ', attacks_df.Age.mean())\n",
    "print('Age median is: ', attacks_df.Age.median())\n",
    "print('Age mode is: ', attacks_df.Age.mode())"
   ]
  },
  {
   "cell_type": "markdown",
   "id": "dominant-gasoline",
   "metadata": {},
   "source": [
    "## Sex"
   ]
  },
  {
   "cell_type": "code",
   "execution_count": null,
   "id": "handed-friend",
   "metadata": {},
   "outputs": [],
   "source": [
    "attacks_df.Sex.describe()"
   ]
  },
  {
   "cell_type": "code",
   "execution_count": null,
   "id": "corresponding-columbia",
   "metadata": {},
   "outputs": [],
   "source": [
    "attacks_df.Sex.value_counts(dropna=False)"
   ]
  },
  {
   "cell_type": "code",
   "execution_count": null,
   "id": "timely-graphics",
   "metadata": {},
   "outputs": [],
   "source": [
    "# Checking the current column status\n",
    "attacks_df.Sex.unique()"
   ]
  },
  {
   "cell_type": "code",
   "execution_count": null,
   "id": "hearing-cocktail",
   "metadata": {},
   "outputs": [],
   "source": [
    "# Cleaning Sex column in order to get valuable data\n",
    "attacks_df['Sex'].replace(('lli', 'NaN'), inplace = True)\n",
    "attacks_df['Sex'].replace(('N', 'NaN'), inplace = True)\n",
    "attacks_df['Sex'].replace(('.', 'NaN'), inplace = True)\n",
    "attacks_df['Sex'] = attacks_df.Sex.str.replace(r'^(M)\\s$', r'\\1')\n",
    "attacks_df['Sex'].fillna('NaN') "
   ]
  },
  {
   "cell_type": "code",
   "execution_count": null,
   "id": "worth-enforcement",
   "metadata": {},
   "outputs": [],
   "source": [
    "# Checking we have the expected output\n",
    "attacks_df.Sex.unique()"
   ]
  },
  {
   "cell_type": "code",
   "execution_count": null,
   "id": "saving-lodging",
   "metadata": {},
   "outputs": [],
   "source": [
    "attacks_df.Sex.value_counts(normalize=True)"
   ]
  },
  {
   "cell_type": "code",
   "execution_count": 1,
   "id": "superb-astronomy",
   "metadata": {
    "scrolled": true
   },
   "outputs": [
    {
     "ename": "NameError",
     "evalue": "name 'attacks_df' is not defined",
     "output_type": "error",
     "traceback": [
      "\u001b[0;31m---------------------------------------------------------------------------\u001b[0m",
      "\u001b[0;31mNameError\u001b[0m                                 Traceback (most recent call last)",
      "\u001b[0;32m<ipython-input-1-ae110a067a4c>\u001b[0m in \u001b[0;36m<module>\u001b[0;34m\u001b[0m\n\u001b[0;32m----> 1\u001b[0;31m \u001b[0mages\u001b[0m \u001b[0;34m=\u001b[0m \u001b[0mattacks_df\u001b[0m\u001b[0;34m.\u001b[0m\u001b[0mAge\u001b[0m\u001b[0;34m.\u001b[0m\u001b[0msort_values\u001b[0m\u001b[0;34m(\u001b[0m\u001b[0;34m)\u001b[0m\u001b[0;34m\u001b[0m\u001b[0;34m\u001b[0m\u001b[0m\n\u001b[0m\u001b[1;32m      2\u001b[0m sns.displot(x = ages, \n\u001b[1;32m      3\u001b[0m             \u001b[0mhue\u001b[0m \u001b[0;34m=\u001b[0m \u001b[0mattacks_df\u001b[0m\u001b[0;34m.\u001b[0m\u001b[0mSex\u001b[0m\u001b[0;34m,\u001b[0m\u001b[0;34m\u001b[0m\u001b[0;34m\u001b[0m\u001b[0m\n\u001b[1;32m      4\u001b[0m            bins = 30);\n",
      "\u001b[0;31mNameError\u001b[0m: name 'attacks_df' is not defined"
     ]
    }
   ],
   "source": [
    "ages = attacks_df.Age.sort_values()\n",
    "plot_ages = sns.displot(x = ages, \n",
    "            hue = attacks_df.Sex,\n",
    "           bins = 30);\n",
    "plot_ages.set_title('Shark attacks distribution by age and distinguished by sex')\n",
    "plot_ages.set(xlabel = 'Age of the victims', \n",
    "                ylabel='Sex of the victims');"
   ]
  },
  {
   "cell_type": "markdown",
   "id": "rotary-poison",
   "metadata": {},
   "source": [
    "> <span style=\"color:green\"> Top model 1: __Demographics__ </span>\n",
    "\n",
    ">_Procedure_\n",
    ">- General dataframe cleaning (empty rows, non-valuable columns, rename columns, setting an autoincremental ID)\n",
    ">    - Finally we have 6302 informative cases to work with\n",
    ">- Cleaning Age series (from 3471 filled rows distribution in 157 unique values, to non-empty cells, normalizing the values to 80 unique values)\n",
    ">- Cleaning Sex series (from 5737 filled rows distributed in 6 unique values, to non-empty cells in two unique values)\n",
    " \n",
    ">_Conclusions_\n",
    ">- Most victicms of shark attacks were predominantly teenagers or youngs, around to 22 y.o. in both sexs.\n",
    ">- Even if it seems that men are most likely to be attacked by sharks (88%), it's important to keep in mind that with this data it is not possible to know if, for example, women come less close to the beach or if they are more cautious\n"
   ]
  },
  {
   "cell_type": "markdown",
   "id": "common-tissue",
   "metadata": {},
   "source": [
    "# Space-time Statistics"
   ]
  },
  {
   "cell_type": "code",
   "execution_count": null,
   "id": "golden-blake",
   "metadata": {},
   "outputs": [],
   "source": [
    "attacks_df[['Date','Location', 'Country']]"
   ]
  },
  {
   "cell_type": "markdown",
   "id": "removable-desert",
   "metadata": {},
   "source": [
    "## Date"
   ]
  },
  {
   "cell_type": "code",
   "execution_count": null,
   "id": "serious-resistance",
   "metadata": {},
   "outputs": [],
   "source": [
    "# Checking the current column status\n",
    "attacks_df.Date.describe()"
   ]
  },
  {
   "cell_type": "code",
   "execution_count": null,
   "id": "coordinate-train",
   "metadata": {},
   "outputs": [],
   "source": [
    "attacks_df.Date.value_counts(dropna=False)"
   ]
  },
  {
   "cell_type": "code",
   "execution_count": null,
   "id": "individual-father",
   "metadata": {},
   "outputs": [],
   "source": [
    "attacks_df.Date.sort_values(ascending=False)"
   ]
  },
  {
   "cell_type": "code",
   "execution_count": null,
   "id": "reliable-cassette",
   "metadata": {},
   "outputs": [],
   "source": [
    "# Remove duplicated hyphen (-)\n",
    "attacks_df['Date'] = attacks_df.Date.str.replace(r'(-)\\1+', r'\\1')\n",
    "# Remove starting word \"Reported \"\n",
    "attacks_df['Date'] = attacks_df.Date.str.lstrip('Reported ')\n",
    "# Parse date colum to datetime format (and replace string entries with NaT)\n",
    "attacks_df['Date'] = pd.to_datetime(attacks_df['Date'], errors = 'coerce')\n",
    "# Remove all NaT values\n",
    "attacks_df = attacks_df.drop(attacks_df[attacks_df['Date'].isna()].index)"
   ]
  },
  {
   "cell_type": "code",
   "execution_count": null,
   "id": "oriental-exception",
   "metadata": {},
   "outputs": [],
   "source": [
    "# Checking we have the expected output\n",
    "attacks_df['Date'].dt.month"
   ]
  },
  {
   "cell_type": "code",
   "execution_count": null,
   "id": "former-savannah",
   "metadata": {},
   "outputs": [],
   "source": [
    "attacks_df['Date'].isna().sum()"
   ]
  },
  {
   "cell_type": "code",
   "execution_count": null,
   "id": "swiss-buffer",
   "metadata": {},
   "outputs": [],
   "source": [
    "attacks_df['Months'] = attacks_df.Date.dt.month\n",
    "attacks_df['Years'] = attacks_df.Date.dt.year"
   ]
  },
  {
   "cell_type": "code",
   "execution_count": null,
   "id": "assumed-production",
   "metadata": {},
   "outputs": [],
   "source": [
    "attacks_df.Years.value_counts(dropna=False).head(30)"
   ]
  },
  {
   "cell_type": "markdown",
   "id": "indoor-broad",
   "metadata": {},
   "source": [
    "## Location"
   ]
  },
  {
   "cell_type": "code",
   "execution_count": null,
   "id": "voluntary-withdrawal",
   "metadata": {},
   "outputs": [],
   "source": [
    "attacks_df.Location.describe()"
   ]
  },
  {
   "cell_type": "code",
   "execution_count": null,
   "id": "duplicate-pitch",
   "metadata": {},
   "outputs": [],
   "source": [
    "attacks_df.Location.value_counts(dropna=False)"
   ]
  },
  {
   "cell_type": "code",
   "execution_count": null,
   "id": "elect-ceramic",
   "metadata": {},
   "outputs": [],
   "source": [
    "# There are so many unique values, it's necessary to group them, or use the Country instead the Location\n",
    "new_Location = attacks_df.Location.str.extract(r'(?P<Beach>.+),(?P<County>.+)')[['County', 'Beach']]\n",
    "attacks_df.Location = new_Location.County"
   ]
  },
  {
   "cell_type": "code",
   "execution_count": null,
   "id": "characteristic-donor",
   "metadata": {},
   "outputs": [],
   "source": [
    "# Location column is not useful at the visual inspection level\n",
    "# With 807 categories no graphic conclusion can be drawn instead you use a world heatmap\n",
    "attacks_df.Location.describe()"
   ]
  },
  {
   "cell_type": "code",
   "execution_count": null,
   "id": "awful-accessory",
   "metadata": {},
   "outputs": [],
   "source": [
    "# The locations with a higher shark attacks register are: \n",
    "attacks_df.Location.value_counts(dropna=False).head(11)"
   ]
  },
  {
   "cell_type": "markdown",
   "id": "adopted-thread",
   "metadata": {},
   "source": [
    "> Top model 2: __Space-time statistics__\n",
    "\n",
    ">_Procedure_\n",
    ">- Parse date colum to datetime format, allowing us to study year and month information independently\n",
    ">- Cleaning Location series in order to get a clustered sample\n",
    " \n",
    ">_Conclusions_\n",
    ">- Attacks are mostly registered in Florida, Hawaii, South Africa and Australia\n",
    ">- Most shark attacks happened during January and Jul-August, probably it could be driven by the summertime in different hemisphere\n",
    ">- Shark attack records have been gradually increasing until our days, highlighting a peak in the 1960s\n",
    "\n",
    ">_(These data is not normalized, so should be taked carefully as probably records have been increased  during last years by technology facilities)_"
   ]
  },
  {
   "cell_type": "code",
   "execution_count": null,
   "id": "reflected-secretary",
   "metadata": {
    "scrolled": true
   },
   "outputs": [],
   "source": [
    "plot_months = sns.countplot(x = attacks_df['Months'],\n",
    "                 palette = ['#432371',\"#FAAE7B\"])\n",
    "plot_months.set(xlabel = 'Months', \n",
    "       ylabel='Attacks');"
   ]
  },
  {
   "cell_type": "code",
   "execution_count": null,
   "id": "wicked-nashville",
   "metadata": {},
   "outputs": [],
   "source": [
    "plot_years = sns.countplot(x = attacks_df.Years,\n",
    "                           palette = 'Blues');\n",
    "plot_years.set(xlabel = 'Years', \n",
    "       ylabel='Attacks registered');"
   ]
  },
  {
   "cell_type": "markdown",
   "id": "quality-measure",
   "metadata": {},
   "source": [
    "# Free project"
   ]
  },
  {
   "cell_type": "markdown",
   "id": "worse-graph",
   "metadata": {},
   "source": [
    "## Country"
   ]
  },
  {
   "cell_type": "code",
   "execution_count": null,
   "id": "gross-breast",
   "metadata": {
    "scrolled": true
   },
   "outputs": [],
   "source": [
    "attacks_df.Country.describe()"
   ]
  },
  {
   "cell_type": "code",
   "execution_count": null,
   "id": "latest-audit",
   "metadata": {},
   "outputs": [],
   "source": [
    "attacks_df.Country.unique()"
   ]
  },
  {
   "cell_type": "code",
   "execution_count": null,
   "id": "extended-attention",
   "metadata": {},
   "outputs": [],
   "source": [
    "attacks_df['Country'].replace(('nan', 'NaN'), inplace = True)\n",
    "attacks_df['Country'].fillna('NaN')\n",
    "attacks_df['Country'] = attacks_df.Country.str.replace(r'^(.*)\\s/.*', r'\\1')\n",
    "attacks_df['Country'] = attacks_df.Country.str.replace(r'^(.*)?', r'\\1')\n",
    "attacks_df['Country'] = attacks_df.Country.str.replace(r'^Between\\s(.*)\\s.*', r'\\1')\n",
    "attacks_df['Country'] = attacks_df.Country.str.replace(r'.*British*.', 'UNITED KINGDOM')\n",
    "attacks_df['Country'] = attacks_df.Country.str.replace(r'.*BRITISH*.', 'UNITED KINGDOM')\n",
    "attacks_df['Country'].replace(('PALESTINIAN TERRITORIES', 'PALESTINA'), inplace = True)\n",
    "attacks_df['Country'] = attacks_df.Country.str.replace(r'.*TURKS*.', 'TURKEY')\n",
    "attacks_df['Country'].replace(('UNITED ARAB EMIRATES (UAE)', 'UNITED ARAB EMIRATES'), inplace = True)\n",
    "attacks_df['Country'].replace(('GULF OF ADEN', 'SOMALIA'), inplace = True)\n",
    "attacks_df['Country'].replace(('ST. MAARTIN', 'NETHERLANDS'), inplace = True)\n",
    "attacks_df['Country'].replace(('CEYLON (SRI LANKA)', 'SRI LANKA'), inplace = True)\n"
   ]
  },
  {
   "cell_type": "code",
   "execution_count": null,
   "id": "flush-horror",
   "metadata": {},
   "outputs": [],
   "source": [
    "attacks_df.Country.describe()"
   ]
  },
  {
   "cell_type": "code",
   "execution_count": null,
   "id": "exciting-growing",
   "metadata": {},
   "outputs": [],
   "source": [
    "attacks_df.Country.value_counts(dropna=False).head(11)"
   ]
  },
  {
   "cell_type": "markdown",
   "id": "better-sleeping",
   "metadata": {},
   "source": [
    "## Type"
   ]
  },
  {
   "cell_type": "code",
   "execution_count": null,
   "id": "hydraulic-private",
   "metadata": {},
   "outputs": [],
   "source": [
    "attacks_df.Type.value_counts()"
   ]
  },
  {
   "cell_type": "code",
   "execution_count": null,
   "id": "attached-cleveland",
   "metadata": {},
   "outputs": [],
   "source": [
    "attacks_df['Type'] = attacks_df['Type'].astype(str)\n",
    "attacks_df['Type'].replace(('', 'NaN'), inplace = True)\n",
    "attacks_df['Type'].replace(('Boat', 'NaN'), inplace = True)\n",
    "attacks_df['Type'].replace(('nan', 'NaN'), inplace = True)\n",
    "attacks_df['Type'].replace(('Boatomg', 'NaN'), inplace = True)\n",
    "attacks_df['Type'].replace(('Boating', 'NaN'), inplace = True)\n",
    "attacks_df['Type'].replace(('Questionable', 'NaN'), inplace = True)\n",
    "attacks_df['Type'].replace(('Sea Disaster', 'NaN'), inplace = True)\n",
    "attacks_df['Type'].replace(('Invalid', 'NaN'), inplace = True)\n",
    "\n",
    "attacks_df = attacks_df.drop(attacks_df[attacks_df['Type'] == 'Boating'].index)\n",
    "\n",
    "attacks_df['Type'].fillna('NaN') "
   ]
  },
  {
   "cell_type": "code",
   "execution_count": null,
   "id": "twenty-equity",
   "metadata": {},
   "outputs": [],
   "source": [
    "attacks_df.Type.value_counts(normalize = True)"
   ]
  },
  {
   "cell_type": "code",
   "execution_count": null,
   "id": "following-channels",
   "metadata": {
    "scrolled": true
   },
   "outputs": [],
   "source": [
    "sns.displot(x = attacks_df.Type);"
   ]
  },
  {
   "cell_type": "markdown",
   "id": "concerned-degree",
   "metadata": {},
   "source": [
    "## Activity"
   ]
  },
  {
   "cell_type": "code",
   "execution_count": null,
   "id": "streaming-depression",
   "metadata": {},
   "outputs": [],
   "source": [
    "attacks_df.Activity.value_counts()"
   ]
  },
  {
   "cell_type": "code",
   "execution_count": null,
   "id": "adopted-paragraph",
   "metadata": {},
   "outputs": [],
   "source": [
    "attacks_df['Activity'] = attacks_df['Activity'].astype(str)\n",
    "attacks_df['Activity'] = attacks_df.Activity.str.replace(r'^.*diving*', 'Diving')\n",
    "attacks_df['Activity'] = attacks_df.Activity.str.replace(r'^.*Diving.*', 'Diving')\n",
    "attacks_df['Activity'] = attacks_df.Activity.str.replace(r'^.*oogie.*', 'Body boarding')\n",
    "attacks_df['Activity'] = attacks_df.Activity.str.replace(r'^.*Walking*', 'Standing')\n",
    "attacks_df['Activity'] = attacks_df.Activity.str.replace(r'^.*wimming.*', 'Swimming')\n",
    "attacks_df['Activity'] = attacks_df.Activity.str.replace(r'^.*bathing.*', 'Swimming')\n",
    "attacks_df['Activity'] = attacks_df.Activity.str.replace(r'^.*Bathing.*', 'Swimming')\n",
    "attacks_df['Activity'] = attacks_df.Activity.str.replace(r'^.*fish.*', 'Sailing')\n",
    "attacks_df['Activity'] = attacks_df.Activity.str.replace(r'^.*Fish.*', 'Sailing')\n",
    "attacks_df['Activity'] = attacks_df.Activity.str.replace(r'^.*sail.*', 'Sailing')\n",
    "attacks_df['Activity'] = attacks_df.Activity.str.replace(r'^.*surf.*', 'Surfing')\n",
    "attacks_df['Activity'] = attacks_df.Activity.str.replace(r'^.*Treading.*', 'Standing')\n",
    "attacks_df['Activity'] = attacks_df.Activity.str.replace(r'^.*Surf skiing.*', 'Surf-skiing')\n",
    "attacks_df['Activity'] = attacks_df.Activity.str.replace(r'\\w{13}', 'NaN')\n",
    "attacks_df['Activity'].fillna('NaN') "
   ]
  },
  {
   "cell_type": "code",
   "execution_count": null,
   "id": "stopped-handling",
   "metadata": {
    "scrolled": false
   },
   "outputs": [],
   "source": [
    "attacks_df.Activity.value_counts(dropna=False).head(15)"
   ]
  },
  {
   "cell_type": "markdown",
   "id": "large-rating",
   "metadata": {},
   "source": [
    "## Injury"
   ]
  },
  {
   "cell_type": "code",
   "execution_count": null,
   "id": "veterinary-spanking",
   "metadata": {},
   "outputs": [],
   "source": [
    "attacks_df['Injury'].describe() "
   ]
  },
  {
   "cell_type": "code",
   "execution_count": null,
   "id": "strange-lounge",
   "metadata": {},
   "outputs": [],
   "source": [
    "attacks_df.Injury.value_counts().head(15)"
   ]
  },
  {
   "cell_type": "code",
   "execution_count": null,
   "id": "collaborative-elephant",
   "metadata": {},
   "outputs": [],
   "source": [
    "attacks_df['Injury'] = attacks_df['Injury'].astype(str)\n",
    "attacks_df['Injury'] = attacks_df.Injury.str.replace(r'^.*FATAL.*', 'FATAL')\n",
    "attacks_df['Injury'] = attacks_df.Injury.str.replace(r'^.*Fatal.*', 'FATAL')\n",
    "attacks_df['Injury'] = attacks_df.Injury.str.replace(r'^.*bitten.*', 'Bitten')\n",
    "attacks_df['Injury'] = attacks_df.Injury.str.replace(r'^.*bitten.*', 'Bitten')\n",
    "attacks_df['Injury'] = attacks_df.Injury.str.replace(r'^.*No injury.*', 'No injury')\n",
    "attacks_df['Injury'] = attacks_df.Injury.str.replace(r'^.*acerat.*', 'Bitten')\n",
    "attacks_df['Injury'] = attacks_df.Injury.str.replace(r'^.*njur.*', 'Bitten')\n",
    "attacks_df['Injury'] = attacks_df.Injury.str.replace(r'^.*evere.*', 'Bitten')\n",
    "attacks_df['Injury'] = attacks_df.Injury.str.replace(r'^.*wound.*', 'Bitten')\n",
    "attacks_df['Injury'] = attacks_df.Injury.str.replace(r'^.*brasio.*', 'Bitten')\n",
    "attacks_df['Injury'] = attacks_df.Injury.str.replace(r'^\\D{13}$', 'NaN')\n",
    "attacks_df['Injury'].replace(('No details','NaN'), inplace = True)\n",
    "attacks_df['Injury'].fillna('NaN') "
   ]
  },
  {
   "cell_type": "code",
   "execution_count": null,
   "id": "excellent-archive",
   "metadata": {},
   "outputs": [],
   "source": [
    "attacks_df['Injury'].describe() "
   ]
  },
  {
   "cell_type": "markdown",
   "id": "diverse-console",
   "metadata": {},
   "source": [
    "## Fatal"
   ]
  },
  {
   "cell_type": "code",
   "execution_count": null,
   "id": "wicked-barrel",
   "metadata": {},
   "outputs": [],
   "source": [
    "attacks_df['Fatal'].describe() "
   ]
  },
  {
   "cell_type": "code",
   "execution_count": null,
   "id": "national-bathroom",
   "metadata": {},
   "outputs": [],
   "source": [
    "attacks_df['Fatal'].unique()"
   ]
  },
  {
   "cell_type": "code",
   "execution_count": null,
   "id": "dominican-attempt",
   "metadata": {},
   "outputs": [],
   "source": [
    "attacks_df['Fatal'] = attacks_df['Fatal'].astype(str)\n",
    "attacks_df['Fatal'].replace(('nan','NaN'), inplace = True)\n",
    "attacks_df = attacks_df.drop(attacks_df[attacks_df['Fatal'] == 'y'].index)\n",
    "attacks_df = attacks_df.drop(attacks_df[attacks_df['Fatal'] == 'M'].index)\n",
    "attacks_df = attacks_df.drop(attacks_df[attacks_df['Fatal'] == 'UNKNOWN'].index)\n",
    "attacks_df = attacks_df.drop(attacks_df[attacks_df['Fatal'] == '2017'].index)\n",
    "attacks_df = attacks_df.drop(attacks_df[attacks_df['Fatal'] == ' N'].index)\n",
    "attacks_df = attacks_df.drop(attacks_df[attacks_df['Fatal'] == 'N '].index)\n",
    "\n",
    "#attacks_df['Fatal'].replace(('y','Y'), inplace = True)\n",
    "#attacks_df['Fatal'].replace(('M','NaN'), inplace = True)\n",
    "#attacks_df['Fatal'].replace(('UNKNOWN','NaN'), inplace = True)\n",
    "#attacks_df['Fatal'].replace(('2017','NaN'), inplace = True)\n",
    "#attacks_df['Fatal'].replace((' N','N'), inplace = True)\n",
    "#attacks_df['Fatal'].replace(('N ','N'), inplace = True)\n",
    "attacks_df['Fatal'].fillna('NaN') \n"
   ]
  },
  {
   "cell_type": "code",
   "execution_count": null,
   "id": "extreme-harvard",
   "metadata": {},
   "outputs": [],
   "source": [
    "attacks_df['Fatal'].value_counts() "
   ]
  },
  {
   "cell_type": "code",
   "execution_count": null,
   "id": "congressional-shark",
   "metadata": {},
   "outputs": [],
   "source": [
    "attacks_df.Fatal.unique()"
   ]
  },
  {
   "cell_type": "code",
   "execution_count": null,
   "id": "expanded-pitch",
   "metadata": {},
   "outputs": [],
   "source": [
    "attacks_df['Fatal'].value_counts(normalize = True) "
   ]
  },
  {
   "cell_type": "code",
   "execution_count": null,
   "id": "introductory-polymer",
   "metadata": {},
   "outputs": [],
   "source": [
    "sns.displot(x = attacks_df.Fatal);"
   ]
  },
  {
   "cell_type": "code",
   "execution_count": null,
   "id": "running-economics",
   "metadata": {},
   "outputs": [],
   "source": [
    "attacks_df.Fatal.value_counts(normalize=True)\n",
    "# 24% of shark attacks are fatal"
   ]
  },
  {
   "cell_type": "code",
   "execution_count": null,
   "id": "bound-casino",
   "metadata": {},
   "outputs": [],
   "source": [
    "attacks_df.Species.describe()"
   ]
  },
  {
   "cell_type": "code",
   "execution_count": null,
   "id": "criminal-particle",
   "metadata": {},
   "outputs": [],
   "source": [
    "attacks_df = attacks_df.drop(columns = ['Date', 'Year', 'Location', 'Species', 'Case number.1'])"
   ]
  },
  {
   "cell_type": "code",
   "execution_count": null,
   "id": "killing-trinity",
   "metadata": {},
   "outputs": [],
   "source": [
    "# Saving clean dataframe\n",
    "attacks_df.to_pickle(\"sharks_df.csv\")"
   ]
  }
 ],
 "metadata": {
  "kernelspec": {
   "display_name": "Python 3",
   "language": "python",
   "name": "python3"
  },
  "language_info": {
   "codemirror_mode": {
    "name": "ipython",
    "version": 3
   },
   "file_extension": ".py",
   "mimetype": "text/x-python",
   "name": "python",
   "nbconvert_exporter": "python",
   "pygments_lexer": "ipython3",
   "version": "3.8.2"
  }
 },
 "nbformat": 4,
 "nbformat_minor": 5
}
