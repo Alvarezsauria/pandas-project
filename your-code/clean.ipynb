{
 "cells": [
  {
   "cell_type": "markdown",
   "id": "cheap-amount",
   "metadata": {},
   "source": [
    "**Importing libraries**"
   ]
  },
  {
   "cell_type": "code",
   "execution_count": 384,
   "id": "convertible-redhead",
   "metadata": {},
   "outputs": [],
   "source": [
    "import numpy as np\n",
    "import seaborn as sns\n",
    "import pandas as pd\n",
    "import matplotlib.pyplot as plt"
   ]
  },
  {
   "cell_type": "markdown",
   "id": "gothic-lying",
   "metadata": {},
   "source": [
    "**DataFrame**"
   ]
  },
  {
   "cell_type": "code",
   "execution_count": 385,
   "id": "alleged-empire",
   "metadata": {},
   "outputs": [],
   "source": [
    "# Reading and encoding dataframe\n",
    "attacks = pd.read_csv('/Users/victor/maria/ironhack_labs/attacks.csv', encoding='cp1252')\n",
    "attacks_df = attacks.copy()"
   ]
  },
  {
   "cell_type": "code",
   "execution_count": 386,
   "id": "baking-cause",
   "metadata": {},
   "outputs": [
    {
     "name": "stdout",
     "output_type": "stream",
     "text": [
      "<class 'pandas.core.frame.DataFrame'>\n",
      "RangeIndex: 25723 entries, 0 to 25722\n",
      "Data columns (total 24 columns):\n",
      " #   Column                  Non-Null Count  Dtype  \n",
      "---  ------                  --------------  -----  \n",
      " 0   Case Number             8702 non-null   object \n",
      " 1   Date                    6302 non-null   object \n",
      " 2   Year                    6300 non-null   float64\n",
      " 3   Type                    6298 non-null   object \n",
      " 4   Country                 6252 non-null   object \n",
      " 5   Area                    5847 non-null   object \n",
      " 6   Location                5762 non-null   object \n",
      " 7   Activity                5758 non-null   object \n",
      " 8   Name                    6092 non-null   object \n",
      " 9   Sex                     5737 non-null   object \n",
      " 10  Age                     3471 non-null   object \n",
      " 11  Injury                  6274 non-null   object \n",
      " 12  Fatal (Y/N)             5763 non-null   object \n",
      " 13  Time                    2948 non-null   object \n",
      " 14  Species                 3464 non-null   object \n",
      " 15  Investigator or Source  6285 non-null   object \n",
      " 16  pdf                     6302 non-null   object \n",
      " 17  href formula            6301 non-null   object \n",
      " 18  href                    6302 non-null   object \n",
      " 19  Case Number.1           6302 non-null   object \n",
      " 20  Case Number.2           6302 non-null   object \n",
      " 21  original order          6309 non-null   float64\n",
      " 22  Unnamed: 22             1 non-null      object \n",
      " 23  Unnamed: 23             2 non-null      object \n",
      "dtypes: float64(2), object(22)\n",
      "memory usage: 4.7+ MB\n"
     ]
    }
   ],
   "source": [
    "# Getting some basic info\n",
    "attacks_df.info()"
   ]
  },
  {
   "cell_type": "code",
   "execution_count": 387,
   "id": "hearing-garage",
   "metadata": {},
   "outputs": [],
   "source": [
    "# General cleaning\n",
    "attacks_df.dropna(axis = 0, how = 'all', inplace = True)\n",
    "attacks_df = attacks_df.rename(columns={'Sex ': 'Sex'})\n",
    "attacks_df = attacks_df.drop(attacks_df[attacks_df['Case Number'] == '0'].index)\n",
    "attacks_df = attacks_df.drop(attacks_df[attacks_df['Case Number'] == 'xx'].index)"
   ]
  },
  {
   "cell_type": "code",
   "execution_count": 388,
   "id": "familiar-agriculture",
   "metadata": {},
   "outputs": [
    {
     "name": "stdout",
     "output_type": "stream",
     "text": [
      "<class 'pandas.core.frame.DataFrame'>\n",
      "Int64Index: 6302 entries, 0 to 6301\n",
      "Data columns (total 24 columns):\n",
      " #   Column                  Non-Null Count  Dtype  \n",
      "---  ------                  --------------  -----  \n",
      " 0   Case Number             6301 non-null   object \n",
      " 1   Date                    6302 non-null   object \n",
      " 2   Year                    6300 non-null   float64\n",
      " 3   Type                    6298 non-null   object \n",
      " 4   Country                 6252 non-null   object \n",
      " 5   Area                    5847 non-null   object \n",
      " 6   Location                5762 non-null   object \n",
      " 7   Activity                5758 non-null   object \n",
      " 8   Name                    6092 non-null   object \n",
      " 9   Sex                     5737 non-null   object \n",
      " 10  Age                     3471 non-null   object \n",
      " 11  Injury                  6274 non-null   object \n",
      " 12  Fatal (Y/N)             5763 non-null   object \n",
      " 13  Time                    2948 non-null   object \n",
      " 14  Species                 3464 non-null   object \n",
      " 15  Investigator or Source  6285 non-null   object \n",
      " 16  pdf                     6302 non-null   object \n",
      " 17  href formula            6301 non-null   object \n",
      " 18  href                    6302 non-null   object \n",
      " 19  Case Number.1           6302 non-null   object \n",
      " 20  Case Number.2           6302 non-null   object \n",
      " 21  original order          6302 non-null   float64\n",
      " 22  Unnamed: 22             1 non-null      object \n",
      " 23  Unnamed: 23             2 non-null      object \n",
      "dtypes: float64(2), object(22)\n",
      "memory usage: 1.2+ MB\n"
     ]
    }
   ],
   "source": [
    "# New valid info\n",
    "attacks_df.info()"
   ]
  },
  {
   "cell_type": "code",
   "execution_count": 389,
   "id": "compressed-think",
   "metadata": {},
   "outputs": [
    {
     "name": "stdout",
     "output_type": "stream",
     "text": [
      "False\n",
      "False\n",
      "False\n",
      "False\n"
     ]
    }
   ],
   "source": [
    "# Checking if there is any valid ID\n",
    "print(attacks_df['Case Number'].is_unique)\n",
    "print(attacks_df['original order'].is_unique)\n",
    "print(attacks_df['href'].is_unique)\n",
    "print(attacks_df['pdf'].is_unique)"
   ]
  },
  {
   "cell_type": "code",
   "execution_count": 390,
   "id": "agricultural-mexico",
   "metadata": {},
   "outputs": [
    {
     "name": "stdout",
     "output_type": "stream",
     "text": [
      "Empty DataFrame\n",
      "Columns: [Case Number, Date, Year, Type, Country, Area, Location, Activity, Name, Sex, Age, Injury, Fatal (Y/N), Time, Species , Investigator or Source, pdf, href formula, href, Case Number.1, Case Number.2, original order, Unnamed: 22, Unnamed: 23]\n",
      "Index: []\n",
      "\n",
      "[0 rows x 24 columns]\n"
     ]
    }
   ],
   "source": [
    "# Checking there are not duplicated rows, before setting a new ID\n",
    "duplicateRows = attacks_df[attacks_df.duplicated()]\n",
    "print(duplicateRows)"
   ]
  },
  {
   "cell_type": "code",
   "execution_count": 391,
   "id": "direct-estate",
   "metadata": {},
   "outputs": [],
   "source": [
    "# Setting a new ID\n",
    "attacks_df.index = [x for x in range(1, len(attacks_df.values)+1)]\n",
    "attacks_df.index.name = 'attacks_ID'"
   ]
  },
  {
   "cell_type": "markdown",
   "id": "centered-platinum",
   "metadata": {},
   "source": [
    "# Demographics"
   ]
  },
  {
   "cell_type": "code",
   "execution_count": 392,
   "id": "complicated-current",
   "metadata": {},
   "outputs": [
    {
     "data": {
      "text/html": [
       "<div>\n",
       "<style scoped>\n",
       "    .dataframe tbody tr th:only-of-type {\n",
       "        vertical-align: middle;\n",
       "    }\n",
       "\n",
       "    .dataframe tbody tr th {\n",
       "        vertical-align: top;\n",
       "    }\n",
       "\n",
       "    .dataframe thead th {\n",
       "        text-align: right;\n",
       "    }\n",
       "</style>\n",
       "<table border=\"1\" class=\"dataframe\">\n",
       "  <thead>\n",
       "    <tr style=\"text-align: right;\">\n",
       "      <th></th>\n",
       "      <th>Sex</th>\n",
       "      <th>Age</th>\n",
       "    </tr>\n",
       "    <tr>\n",
       "      <th>attacks_ID</th>\n",
       "      <th></th>\n",
       "      <th></th>\n",
       "    </tr>\n",
       "  </thead>\n",
       "  <tbody>\n",
       "    <tr>\n",
       "      <th>1</th>\n",
       "      <td>F</td>\n",
       "      <td>57</td>\n",
       "    </tr>\n",
       "    <tr>\n",
       "      <th>2</th>\n",
       "      <td>F</td>\n",
       "      <td>11</td>\n",
       "    </tr>\n",
       "    <tr>\n",
       "      <th>3</th>\n",
       "      <td>M</td>\n",
       "      <td>48</td>\n",
       "    </tr>\n",
       "    <tr>\n",
       "      <th>4</th>\n",
       "      <td>M</td>\n",
       "      <td>NaN</td>\n",
       "    </tr>\n",
       "    <tr>\n",
       "      <th>5</th>\n",
       "      <td>M</td>\n",
       "      <td>NaN</td>\n",
       "    </tr>\n",
       "    <tr>\n",
       "      <th>...</th>\n",
       "      <td>...</td>\n",
       "      <td>...</td>\n",
       "    </tr>\n",
       "    <tr>\n",
       "      <th>6298</th>\n",
       "      <td>M</td>\n",
       "      <td>NaN</td>\n",
       "    </tr>\n",
       "    <tr>\n",
       "      <th>6299</th>\n",
       "      <td>M</td>\n",
       "      <td>NaN</td>\n",
       "    </tr>\n",
       "    <tr>\n",
       "      <th>6300</th>\n",
       "      <td>M</td>\n",
       "      <td>NaN</td>\n",
       "    </tr>\n",
       "    <tr>\n",
       "      <th>6301</th>\n",
       "      <td>M</td>\n",
       "      <td>NaN</td>\n",
       "    </tr>\n",
       "    <tr>\n",
       "      <th>6302</th>\n",
       "      <td>M</td>\n",
       "      <td>15</td>\n",
       "    </tr>\n",
       "  </tbody>\n",
       "</table>\n",
       "<p>6302 rows × 2 columns</p>\n",
       "</div>"
      ],
      "text/plain": [
       "           Sex  Age\n",
       "attacks_ID         \n",
       "1            F   57\n",
       "2            F   11\n",
       "3            M   48\n",
       "4            M  NaN\n",
       "5            M  NaN\n",
       "...         ..  ...\n",
       "6298         M  NaN\n",
       "6299         M  NaN\n",
       "6300         M  NaN\n",
       "6301         M  NaN\n",
       "6302         M   15\n",
       "\n",
       "[6302 rows x 2 columns]"
      ]
     },
     "execution_count": 392,
     "metadata": {},
     "output_type": "execute_result"
    }
   ],
   "source": [
    "attacks_df[['Sex','Age']]"
   ]
  },
  {
   "cell_type": "markdown",
   "id": "floppy-logging",
   "metadata": {},
   "source": [
    "## Age"
   ]
  },
  {
   "cell_type": "code",
   "execution_count": 393,
   "id": "timely-custody",
   "metadata": {},
   "outputs": [
    {
     "data": {
      "text/plain": [
       "count     3471\n",
       "unique     157\n",
       "top         17\n",
       "freq       154\n",
       "Name: Age, dtype: object"
      ]
     },
     "execution_count": 393,
     "metadata": {},
     "output_type": "execute_result"
    }
   ],
   "source": [
    "attacks_df.Age.describe()"
   ]
  },
  {
   "cell_type": "code",
   "execution_count": 394,
   "id": "helpful-welsh",
   "metadata": {},
   "outputs": [
    {
     "data": {
      "text/plain": [
       "NaN            2831\n",
       "17              154\n",
       "18              150\n",
       "19              142\n",
       "20              141\n",
       "               ... \n",
       "13 or 14          1\n",
       "?    &   14       1\n",
       "60s               1\n",
       "81                1\n",
       "20?               1\n",
       "Name: Age, Length: 158, dtype: int64"
      ]
     },
     "execution_count": 394,
     "metadata": {},
     "output_type": "execute_result"
    }
   ],
   "source": [
    "attacks_df.Age.value_counts(dropna=False)"
   ]
  },
  {
   "cell_type": "markdown",
   "id": "lined-medicine",
   "metadata": {},
   "source": [
    "We have 640 valid data in Age, let's try to rise it a little bit"
   ]
  },
  {
   "cell_type": "code",
   "execution_count": 395,
   "id": "forty-outside",
   "metadata": {},
   "outputs": [
    {
     "data": {
      "text/plain": [
       "array(['57', '11', '48', nan, '18', '52', '15', '12', '32', '10', '21',\n",
       "       '34', '30', '60', '33', '29', '54', '41', '37', '56', '19', '25',\n",
       "       '69', '38', '55', '35', '46', '45', '14', '40s', '28', '20', '24',\n",
       "       '26', '49', '22', '7', '31', '17', '40', '13', '42', '3', '8',\n",
       "       '50', '16', '82', '73', '20s', '68', '51', '39', '58', 'Teen',\n",
       "       '47', '61', '65', '36', '66', '43', '60s', '9', '72', '59', '6',\n",
       "       '27', '64', '23', '71', '44', '62', '63', '70', '18 months', '53',\n",
       "       '30s', '50s', 'teen', '77', '74', '28 & 26', '5', '86', '18 or 20',\n",
       "       '12 or 13', '46 & 34', '28, 23 & 30', 'Teens', '36 & 26',\n",
       "       '8 or 10', '84', '\\xa0 ', ' ', '30 or 36', '6½', '21 & ?', '75',\n",
       "       '33 or 37', 'mid-30s', '23 & 20', ' 30', '7      &    31', ' 28',\n",
       "       '20?', \"60's\", '32 & 30', '16 to 18', '87', '67', 'Elderly',\n",
       "       'mid-20s', 'Ca. 33', '74 ', '45 ', '21 or 26', '20 ', '>50',\n",
       "       '18 to 22', 'adult', '9 & 12', '? & 19', '9 months', '25 to 35',\n",
       "       '23 & 26', '1', '(adult)', '33 & 37', '25 or 28',\n",
       "       '37, 67, 35, 27,  ? & 27', '21, 34,24 & 35', '30 & 32', '50 & 30',\n",
       "       '17 & 35', 'X', '\"middle-age\"', '13 or 18', '34 & 19', '33 & 26',\n",
       "       '2 to 3 months', 'MAKE LINE GREEN', ' 43', '81', '\"young\"',\n",
       "       '7 or 8', '78', '17 & 16', 'F', 'Both 11', '9 or 10', 'young',\n",
       "       '36 & 23', '  ', 'A.M.', '?    &   14', '10 or 12', '31 or 33',\n",
       "       '2½', '13 or 14'], dtype=object)"
      ]
     },
     "execution_count": 395,
     "metadata": {},
     "output_type": "execute_result"
    }
   ],
   "source": [
    "attacks_df.Age.unique()"
   ]
  },
  {
   "cell_type": "markdown",
   "id": "exact-transaction",
   "metadata": {},
   "source": [
    "**If we assume:**\n",
    "- Teenagers are between 13 and 19; so the mean will be *16*\n",
    "- Youngs are from 20 to 30; so the mean will be *25*\n",
    "- Adults are from 31 to 65; so the mean is *48*\n",
    "- Elderly are from 66 to 100+; the mean is around *88*"
   ]
  },
  {
   "cell_type": "code",
   "execution_count": 396,
   "id": "inner-aruba",
   "metadata": {},
   "outputs": [
    {
     "name": "stderr",
     "output_type": "stream",
     "text": [
      "<ipython-input-396-3d9bd2cc2b39>:2: FutureWarning: The default value of regex will change from True to False in a future version.\n",
      "  attacks_df['Age'] = attacks_df.Age.str.replace(r'(^.*een.*$)', '16')\n",
      "<ipython-input-396-3d9bd2cc2b39>:3: FutureWarning: The default value of regex will change from True to False in a future version.\n",
      "  attacks_df['Age'] = attacks_df.Age.str.replace(r'(^.*oun.*$)', '25')\n",
      "<ipython-input-396-3d9bd2cc2b39>:4: FutureWarning: The default value of regex will change from True to False in a future version.\n",
      "  attacks_df['Age'] = attacks_df.Age.str.replace(r'(^.*dul.*$)', '48')\n",
      "<ipython-input-396-3d9bd2cc2b39>:5: FutureWarning: The default value of regex will change from True to False in a future version.\n",
      "  attacks_df['Age'] = attacks_df.Age.str.replace(r'(^.*lderl.*$)', '88')\n",
      "<ipython-input-396-3d9bd2cc2b39>:6: FutureWarning: The default value of regex will change from True to False in a future version.\n",
      "  attacks_df['Age'] = attacks_df.Age.str.replace(r'(^.*middle-a.*$)', '37')\n",
      "<ipython-input-396-3d9bd2cc2b39>:7: FutureWarning: The default value of regex will change from True to False in a future version.\n",
      "  attacks_df['Age'] = attacks_df.Age.str.replace(r'(^.*onth.*$)', '1')\n",
      "<ipython-input-396-3d9bd2cc2b39>:8: FutureWarning: The default value of regex will change from True to False in a future version.\n",
      "  attacks_df['Age'] = attacks_df.Age.str.replace(r'(.*)s.*', r'\\1')\n",
      "<ipython-input-396-3d9bd2cc2b39>:9: FutureWarning: The default value of regex will change from True to False in a future version.\n",
      "  attacks_df['Age'] = attacks_df.Age.str.replace(r'^\\s$', 'NaN')\n",
      "<ipython-input-396-3d9bd2cc2b39>:11: FutureWarning: The default value of regex will change from True to False in a future version.\n",
      "  attacks_df['Age'] = attacks_df.Age.str.replace(r'(.*)\\s&.*', r'\\1')\n",
      "<ipython-input-396-3d9bd2cc2b39>:12: FutureWarning: The default value of regex will change from True to False in a future version.\n",
      "  attacks_df['Age'] = attacks_df.Age.str.replace(r'(.*)\\sor.*', r'\\1')\n",
      "<ipython-input-396-3d9bd2cc2b39>:13: FutureWarning: The default value of regex will change from True to False in a future version.\n",
      "  attacks_df['Age'] = attacks_df.Age.str.replace(r'(.*)\\sto.*', r'\\1')\n",
      "<ipython-input-396-3d9bd2cc2b39>:14: FutureWarning: The default value of regex will change from True to False in a future version.\n",
      "  attacks_df['Age'] = attacks_df.Age.str.replace(r'(.*)\\sto.*', r'\\1')\n",
      "<ipython-input-396-3d9bd2cc2b39>:15: FutureWarning: The default value of regex will change from True to False in a future version.\n",
      "  attacks_df['Age'] = attacks_df.Age.str.replace(r'^\\s(\\d\\d)', r'\\1')\n",
      "<ipython-input-396-3d9bd2cc2b39>:16: FutureWarning: The default value of regex will change from True to False in a future version.\n",
      "  attacks_df['Age'] = attacks_df.Age.str.replace(r'^(\\d\\d).*', r'\\1')\n",
      "<ipython-input-396-3d9bd2cc2b39>:17: FutureWarning: The default value of regex will change from True to False in a future version.\n",
      "  attacks_df['Age'] = attacks_df.Age.str.replace(r'^\\D*(\\d\\d)', r'\\1')\n",
      "<ipython-input-396-3d9bd2cc2b39>:19: FutureWarning: The default value of regex will change from True to False in a future version.\n",
      "  attacks_df['Age'] = attacks_df.Age.str.replace(r'(\\d)\\s\\s\\s.*', r'\\1')\n",
      "<ipython-input-396-3d9bd2cc2b39>:20: FutureWarning: The default value of regex will change from True to False in a future version.\n",
      "  attacks_df['Age'] = attacks_df.Age.str.replace(r'^\\s\\s.*', r'NaN')\n",
      "<ipython-input-396-3d9bd2cc2b39>:21: FutureWarning: The default value of regex will change from True to False in a future version.\n",
      "  attacks_df['Age'] = attacks_df.Age.str.replace(r'^\\D{1,}$', r'NaN')\n"
     ]
    },
    {
     "data": {
      "text/plain": [
       "attacks_ID\n",
       "1       57\n",
       "2       11\n",
       "3       48\n",
       "4       48\n",
       "5       48\n",
       "        ..\n",
       "6298    16\n",
       "6299    16\n",
       "6300    16\n",
       "6301    16\n",
       "6302    15\n",
       "Name: Age, Length: 6302, dtype: object"
      ]
     },
     "execution_count": 396,
     "metadata": {},
     "output_type": "execute_result"
    }
   ],
   "source": [
    "attacks_df['Age'] = attacks_df['Age'].astype(str)\n",
    "attacks_df['Age'] = attacks_df.Age.str.replace(r'(^.*een.*$)', '16')\n",
    "attacks_df['Age'] = attacks_df.Age.str.replace(r'(^.*oun.*$)', '25')\n",
    "attacks_df['Age'] = attacks_df.Age.str.replace(r'(^.*dul.*$)', '48')\n",
    "attacks_df['Age'] = attacks_df.Age.str.replace(r'(^.*lderl.*$)', '88')\n",
    "attacks_df['Age'] = attacks_df.Age.str.replace(r'(^.*middle-a.*$)', '37')\n",
    "attacks_df['Age'] = attacks_df.Age.str.replace(r'(^.*onth.*$)', '1')\n",
    "attacks_df['Age'] = attacks_df.Age.str.replace(r'(.*)s.*', r'\\1')\n",
    "attacks_df['Age'] = attacks_df.Age.str.replace(r'^\\s$', 'NaN')\n",
    "attacks_df['Age'] = attacks_df.Age.str.replace('nan', 'NaN')\n",
    "attacks_df['Age'] = attacks_df.Age.str.replace(r'(.*)\\s&.*', r'\\1')\n",
    "attacks_df['Age'] = attacks_df.Age.str.replace(r'(.*)\\sor.*', r'\\1')\n",
    "attacks_df['Age'] = attacks_df.Age.str.replace(r'(.*)\\sto.*', r'\\1')\n",
    "attacks_df['Age'] = attacks_df.Age.str.replace(r'(.*)\\sto.*', r'\\1')\n",
    "attacks_df['Age'] = attacks_df.Age.str.replace(r'^\\s(\\d\\d)', r'\\1')\n",
    "attacks_df['Age'] = attacks_df.Age.str.replace(r'^(\\d\\d).*', r'\\1')\n",
    "attacks_df['Age'] = attacks_df.Age.str.replace(r'^\\D*(\\d\\d)', r'\\1')\n",
    "attacks_df['Age'].replace(('\\xa0', 'NaN'), inplace = True)\n",
    "attacks_df['Age'] = attacks_df.Age.str.replace(r'(\\d)\\s\\s\\s.*', r'\\1')\n",
    "attacks_df['Age'] = attacks_df.Age.str.replace(r'^\\s\\s.*', r'NaN')\n",
    "attacks_df['Age'] = attacks_df.Age.str.replace(r'^\\D{1,}$', r'NaN')\n",
    "attacks_df['Age'].replace(('2½', '25'), inplace = True)\n",
    "attacks_df['Age'].replace(('6½', '65'), inplace = True)\n",
    "attacks_df['Age'].fillna('NaN') \n"
   ]
  },
  {
   "cell_type": "code",
   "execution_count": 397,
   "id": "dedicated-commitment",
   "metadata": {},
   "outputs": [
    {
     "data": {
      "text/plain": [
       "array(['57', '11', '48', '18', '52', '15', '12', '32', '10', '21', '34',\n",
       "       '30', '60', '33', '29', '54', '41', '37', '56', '19', '69', '38',\n",
       "       '55', '35', '46', '45', '14', '40', '28', '20', '24', '26', '49',\n",
       "       '22', '7', '31', '17', '13', '42', '3', '8', '50', '16', '82',\n",
       "       '73', '68', '51', '39', '58', '47', '61', '36', '66', '43', '9',\n",
       "       '72', '59', '6', '27', '64', '23', '71', '44', '62', '63', '70',\n",
       "       '1', '53', '77', '74', '5', '86', '84', 'NaN', '75', '87', '67',\n",
       "       '88', '81', '78'], dtype=object)"
      ]
     },
     "execution_count": 397,
     "metadata": {},
     "output_type": "execute_result"
    }
   ],
   "source": [
    "attacks_df.Age.unique()"
   ]
  },
  {
   "cell_type": "code",
   "execution_count": 398,
   "id": "chemical-research",
   "metadata": {},
   "outputs": [
    {
     "data": {
      "text/plain": [
       "count     6302\n",
       "unique      80\n",
       "top         17\n",
       "freq       360\n",
       "Name: Age, dtype: object"
      ]
     },
     "execution_count": 398,
     "metadata": {},
     "output_type": "execute_result"
    }
   ],
   "source": [
    "attacks_df['Age'].describe()"
   ]
  },
  {
   "cell_type": "code",
   "execution_count": 399,
   "id": "average-drama",
   "metadata": {},
   "outputs": [
    {
     "data": {
      "text/plain": [
       "17    360\n",
       "16    330\n",
       "18    329\n",
       "19    309\n",
       "15    276\n",
       "     ... \n",
       "81      1\n",
       "84      1\n",
       "86      1\n",
       "67      1\n",
       "88      1\n",
       "Name: Age, Length: 80, dtype: int64"
      ]
     },
     "execution_count": 399,
     "metadata": {},
     "output_type": "execute_result"
    }
   ],
   "source": [
    "attacks_df.Age.value_counts(dropna=False)"
   ]
  },
  {
   "cell_type": "code",
   "execution_count": 400,
   "id": "velvet-doctor",
   "metadata": {},
   "outputs": [
    {
     "data": {
      "text/plain": [
       "17    0.057125\n",
       "16    0.052364\n",
       "18    0.052206\n",
       "19    0.049032\n",
       "15    0.043796\n",
       "20    0.043637\n",
       "22    0.039194\n",
       "21    0.037607\n",
       "13    0.033481\n",
       "24    0.028880\n",
       "14    0.028404\n",
       "30    0.026817\n",
       "26    0.025389\n",
       "23    0.024595\n",
       "27    0.024595\n",
       "Name: Age, dtype: float64"
      ]
     },
     "execution_count": 400,
     "metadata": {},
     "output_type": "execute_result"
    }
   ],
   "source": [
    "attacks_df.Age.value_counts(normalize=True).head(15)"
   ]
  },
  {
   "cell_type": "code",
   "execution_count": 401,
   "id": "sonic-green",
   "metadata": {},
   "outputs": [
    {
     "name": "stdout",
     "output_type": "stream",
     "text": [
      "Age mean is:  26.16199426568971\n",
      "Age median is:  22.0\n",
      "Age mode is:  0    17.0\n",
      "dtype: float64\n"
     ]
    }
   ],
   "source": [
    "num_age = pd.to_numeric(attacks_df['Age'], errors = 'coerce')\n",
    "print('Age mean is: ', num_age.mean())\n",
    "print('Age median is: ', num_age.median())\n",
    "print('Age mode is: ', num_age.mode())"
   ]
  },
  {
   "cell_type": "markdown",
   "id": "dominant-gasoline",
   "metadata": {},
   "source": [
    "## Sex"
   ]
  },
  {
   "cell_type": "code",
   "execution_count": 402,
   "id": "handed-friend",
   "metadata": {},
   "outputs": [
    {
     "data": {
      "text/plain": [
       "count     5737\n",
       "unique       6\n",
       "top          M\n",
       "freq      5094\n",
       "Name: Sex, dtype: object"
      ]
     },
     "execution_count": 402,
     "metadata": {},
     "output_type": "execute_result"
    }
   ],
   "source": [
    "attacks_df.Sex.describe()"
   ]
  },
  {
   "cell_type": "code",
   "execution_count": 403,
   "id": "corresponding-columbia",
   "metadata": {},
   "outputs": [
    {
     "data": {
      "text/plain": [
       "M      5094\n",
       "F       637\n",
       "NaN     565\n",
       "N         2\n",
       "M         2\n",
       ".         1\n",
       "lli       1\n",
       "Name: Sex, dtype: int64"
      ]
     },
     "execution_count": 403,
     "metadata": {},
     "output_type": "execute_result"
    }
   ],
   "source": [
    "attacks_df.Sex.value_counts(dropna=False)"
   ]
  },
  {
   "cell_type": "code",
   "execution_count": 404,
   "id": "timely-graphics",
   "metadata": {},
   "outputs": [
    {
     "data": {
      "text/plain": [
       "array(['F', 'M', nan, 'M ', 'lli', 'N', '.'], dtype=object)"
      ]
     },
     "execution_count": 404,
     "metadata": {},
     "output_type": "execute_result"
    }
   ],
   "source": [
    "attacks_df.Sex.unique()"
   ]
  },
  {
   "cell_type": "code",
   "execution_count": 405,
   "id": "hearing-cocktail",
   "metadata": {},
   "outputs": [
    {
     "name": "stderr",
     "output_type": "stream",
     "text": [
      "<ipython-input-405-c8966c2c3475>:4: FutureWarning: The default value of regex will change from True to False in a future version.\n",
      "  attacks_df['Sex'] = attacks_df.Sex.str.replace(r'^(M)\\s$', r'\\1')\n"
     ]
    },
    {
     "data": {
      "text/plain": [
       "attacks_ID\n",
       "1       F\n",
       "2       F\n",
       "3       M\n",
       "4       M\n",
       "5       M\n",
       "       ..\n",
       "6298    M\n",
       "6299    M\n",
       "6300    M\n",
       "6301    M\n",
       "6302    M\n",
       "Name: Sex, Length: 6302, dtype: object"
      ]
     },
     "execution_count": 405,
     "metadata": {},
     "output_type": "execute_result"
    }
   ],
   "source": [
    "attacks_df['Sex'].replace(('lli', 'NaN'), inplace = True)\n",
    "attacks_df['Sex'].replace(('N', 'NaN'), inplace = True)\n",
    "attacks_df['Sex'].replace(('.', 'NaN'), inplace = True)\n",
    "attacks_df['Sex'] = attacks_df.Sex.str.replace(r'^(M)\\s$', r'\\1')\n",
    "attacks_df['Sex'].fillna('NaN') "
   ]
  },
  {
   "cell_type": "code",
   "execution_count": 406,
   "id": "worth-enforcement",
   "metadata": {},
   "outputs": [
    {
     "data": {
      "text/plain": [
       "array(['F', 'M', nan], dtype=object)"
      ]
     },
     "execution_count": 406,
     "metadata": {},
     "output_type": "execute_result"
    }
   ],
   "source": [
    "attacks_df.Sex.unique()"
   ]
  },
  {
   "cell_type": "code",
   "execution_count": 407,
   "id": "saving-lodging",
   "metadata": {},
   "outputs": [
    {
     "data": {
      "text/plain": [
       "M    0.888773\n",
       "F    0.111227\n",
       "Name: Sex, dtype: float64"
      ]
     },
     "execution_count": 407,
     "metadata": {},
     "output_type": "execute_result"
    }
   ],
   "source": [
    "attacks_df.Sex.value_counts(normalize=True)"
   ]
  },
  {
   "cell_type": "code",
   "execution_count": 408,
   "id": "superb-astronomy",
   "metadata": {},
   "outputs": [
    {
     "data": {
      "image/png": "[encoded data removed]",
      "text/plain": [
       "<Figure size 404.625x360 with 1 Axes>"
      ]
     },
     "metadata": {
      "needs_background": "light"
     },
     "output_type": "display_data"
    }
   ],
   "source": [
    "ages = num_age.sort_values()\n",
    "sns.displot(x = ages, \n",
    "            hue = attacks_df.Sex,\n",
    "           bins = 30);"
   ]
  },
  {
   "cell_type": "markdown",
   "id": "rotary-poison",
   "metadata": {},
   "source": [
    "> Top model 1: __Demographics__\n",
    "\n",
    ">_Procedure_\n",
    ">- General dataframe cleaning (empty rows, rename columns, setting an autoincremental ID)\n",
    ">    - Finally we have 6302 informative cases to work with\n",
    ">- Cleaning Age series (from 3471 filled rows distribution in 157 unique values, to non-empty cells, normalizing the values to 80 unique values)\n",
    ">- Cleaning Sex series (from 5737 filled rows distributed in 6 unique values, to non-empty cells in two unique values)\n",
    " \n",
    ">_Conclusions_\n",
    ">- Most victicms of shark attacks were men (88%), predominantly teenagers or youngs, around to 22 y.o. in both sexs.\n"
   ]
  },
  {
   "cell_type": "markdown",
   "id": "common-tissue",
   "metadata": {},
   "source": [
    "# Space-time Statistics"
   ]
  },
  {
   "cell_type": "code",
   "execution_count": 372,
   "id": "golden-blake",
   "metadata": {},
   "outputs": [
    {
     "data": {
      "text/html": [
       "<div>\n",
       "<style scoped>\n",
       "    .dataframe tbody tr th:only-of-type {\n",
       "        vertical-align: middle;\n",
       "    }\n",
       "\n",
       "    .dataframe tbody tr th {\n",
       "        vertical-align: top;\n",
       "    }\n",
       "\n",
       "    .dataframe thead th {\n",
       "        text-align: right;\n",
       "    }\n",
       "</style>\n",
       "<table border=\"1\" class=\"dataframe\">\n",
       "  <thead>\n",
       "    <tr style=\"text-align: right;\">\n",
       "      <th></th>\n",
       "      <th>Date</th>\n",
       "      <th>Location</th>\n",
       "      <th>Country</th>\n",
       "      <th>Area</th>\n",
       "    </tr>\n",
       "    <tr>\n",
       "      <th>attacks_ID</th>\n",
       "      <th></th>\n",
       "      <th></th>\n",
       "      <th></th>\n",
       "      <th></th>\n",
       "    </tr>\n",
       "  </thead>\n",
       "  <tbody>\n",
       "    <tr>\n",
       "      <th>1</th>\n",
       "      <td>25-Jun-2018</td>\n",
       "      <td>Oceanside, San Diego County</td>\n",
       "      <td>USA</td>\n",
       "      <td>California</td>\n",
       "    </tr>\n",
       "    <tr>\n",
       "      <th>2</th>\n",
       "      <td>18-Jun-2018</td>\n",
       "      <td>St. Simon Island, Glynn County</td>\n",
       "      <td>USA</td>\n",
       "      <td>Georgia</td>\n",
       "    </tr>\n",
       "    <tr>\n",
       "      <th>3</th>\n",
       "      <td>09-Jun-2018</td>\n",
       "      <td>Habush, Oahu</td>\n",
       "      <td>USA</td>\n",
       "      <td>Hawaii</td>\n",
       "    </tr>\n",
       "    <tr>\n",
       "      <th>4</th>\n",
       "      <td>08-Jun-2018</td>\n",
       "      <td>Arrawarra Headland</td>\n",
       "      <td>AUSTRALIA</td>\n",
       "      <td>New South Wales</td>\n",
       "    </tr>\n",
       "    <tr>\n",
       "      <th>5</th>\n",
       "      <td>04-Jun-2018</td>\n",
       "      <td>La Ticla</td>\n",
       "      <td>MEXICO</td>\n",
       "      <td>Colima</td>\n",
       "    </tr>\n",
       "    <tr>\n",
       "      <th>...</th>\n",
       "      <td>...</td>\n",
       "      <td>...</td>\n",
       "      <td>...</td>\n",
       "      <td>...</td>\n",
       "    </tr>\n",
       "    <tr>\n",
       "      <th>6298</th>\n",
       "      <td>Before 1903</td>\n",
       "      <td>Roebuck Bay</td>\n",
       "      <td>AUSTRALIA</td>\n",
       "      <td>Western Australia</td>\n",
       "    </tr>\n",
       "    <tr>\n",
       "      <th>6299</th>\n",
       "      <td>Before 1903</td>\n",
       "      <td>NaN</td>\n",
       "      <td>AUSTRALIA</td>\n",
       "      <td>Western Australia</td>\n",
       "    </tr>\n",
       "    <tr>\n",
       "      <th>6300</th>\n",
       "      <td>1900-1905</td>\n",
       "      <td>Ocracoke Inlet</td>\n",
       "      <td>USA</td>\n",
       "      <td>North Carolina</td>\n",
       "    </tr>\n",
       "    <tr>\n",
       "      <th>6301</th>\n",
       "      <td>1883-1889</td>\n",
       "      <td>Panama Bay 8ºN, 79ºW</td>\n",
       "      <td>PANAMA</td>\n",
       "      <td>NaN</td>\n",
       "    </tr>\n",
       "    <tr>\n",
       "      <th>6302</th>\n",
       "      <td>1845-1853</td>\n",
       "      <td>Below the English fort, Trincomalee</td>\n",
       "      <td>CEYLON (SRI LANKA)</td>\n",
       "      <td>Eastern Province</td>\n",
       "    </tr>\n",
       "  </tbody>\n",
       "</table>\n",
       "<p>6302 rows × 4 columns</p>\n",
       "</div>"
      ],
      "text/plain": [
       "                   Date                             Location  \\\n",
       "attacks_ID                                                     \n",
       "1           25-Jun-2018          Oceanside, San Diego County   \n",
       "2           18-Jun-2018       St. Simon Island, Glynn County   \n",
       "3           09-Jun-2018                         Habush, Oahu   \n",
       "4           08-Jun-2018                   Arrawarra Headland   \n",
       "5           04-Jun-2018                             La Ticla   \n",
       "...                 ...                                  ...   \n",
       "6298        Before 1903                          Roebuck Bay   \n",
       "6299        Before 1903                                  NaN   \n",
       "6300          1900-1905                       Ocracoke Inlet   \n",
       "6301          1883-1889                 Panama Bay 8ºN, 79ºW   \n",
       "6302          1845-1853  Below the English fort, Trincomalee   \n",
       "\n",
       "                       Country               Area  \n",
       "attacks_ID                                         \n",
       "1                          USA         California  \n",
       "2                          USA            Georgia  \n",
       "3                          USA             Hawaii  \n",
       "4                    AUSTRALIA    New South Wales  \n",
       "5                       MEXICO             Colima  \n",
       "...                        ...                ...  \n",
       "6298                 AUSTRALIA  Western Australia  \n",
       "6299                 AUSTRALIA  Western Australia  \n",
       "6300                       USA     North Carolina  \n",
       "6301                    PANAMA                NaN  \n",
       "6302        CEYLON (SRI LANKA)   Eastern Province  \n",
       "\n",
       "[6302 rows x 4 columns]"
      ]
     },
     "execution_count": 372,
     "metadata": {},
     "output_type": "execute_result"
    }
   ],
   "source": [
    "attacks_df[['Date','Location', 'Country', 'Area']]"
   ]
  },
  {
   "cell_type": "markdown",
   "id": "removable-desert",
   "metadata": {},
   "source": [
    "## Date"
   ]
  },
  {
   "cell_type": "code",
   "execution_count": 373,
   "id": "serious-resistance",
   "metadata": {},
   "outputs": [
    {
     "data": {
      "text/plain": [
       "count     6302\n",
       "unique    5433\n",
       "top       1957\n",
       "freq        11\n",
       "Name: Date, dtype: object"
      ]
     },
     "execution_count": 373,
     "metadata": {},
     "output_type": "execute_result"
    }
   ],
   "source": [
    "attacks_df.Date.describe()"
   ]
  },
  {
   "cell_type": "code",
   "execution_count": 374,
   "id": "coordinate-train",
   "metadata": {},
   "outputs": [
    {
     "data": {
      "text/plain": [
       "1957           11\n",
       "1942            9\n",
       "1956            8\n",
       "1950            7\n",
       "1958            7\n",
       "               ..\n",
       "12-Nov-1977     1\n",
       "18-Jun-2006     1\n",
       "04-Jun-2017     1\n",
       "04-Dec-1963     1\n",
       "29-Jan-1966     1\n",
       "Name: Date, Length: 5433, dtype: int64"
      ]
     },
     "execution_count": 374,
     "metadata": {},
     "output_type": "execute_result"
    }
   ],
   "source": [
    "attacks_df.Date.value_counts(dropna=False)"
   ]
  },
  {
   "cell_type": "code",
   "execution_count": 375,
   "id": "individual-father",
   "metadata": {},
   "outputs": [
    {
     "data": {
      "text/plain": [
       "attacks_ID\n",
       "6272       World War II\n",
       "6273       World War II\n",
       "4803      Woirld War II\n",
       "3445        Winter 1969\n",
       "4722        Winter 1942\n",
       "             ...       \n",
       "652         22-Jul-2013\n",
       "3405        16-Jan-1970\n",
       "4850        15-Jun-1937\n",
       "1175        10-Jan-2009\n",
       "4426     \\n1951.12.15.R\n",
       "Name: Date, Length: 6302, dtype: object"
      ]
     },
     "execution_count": 375,
     "metadata": {},
     "output_type": "execute_result"
    }
   ],
   "source": [
    "attacks_df.Date.sort_values(ascending=False)"
   ]
  },
  {
   "cell_type": "code",
   "execution_count": 376,
   "id": "lesbian-cookie",
   "metadata": {},
   "outputs": [
    {
     "name": "stderr",
     "output_type": "stream",
     "text": [
      "<ipython-input-376-7bb4f6f3b23d>:3: FutureWarning: The default value of regex will change from True to False in a future version.\n",
      "  attacks_df['Date'] = attacks_df.Date.str.replace(r'^.*(\\d\\d\\d\\d).*', r'\\1')\n",
      "<ipython-input-376-7bb4f6f3b23d>:4: FutureWarning: The default value of regex will change from True to False in a future version.\n",
      "  attacks_df['Date'] = attacks_df.Date.str.replace(r'^.*\\D(\\d\\d\\d)\\D.*', r'\\1')\n",
      "<ipython-input-376-7bb4f6f3b23d>:5: FutureWarning: The default value of regex will change from True to False in a future version.\n",
      "  attacks_df['Date'] = attacks_df.Date.str.replace(r'^.*ar.*', '1939')\n",
      "<ipython-input-376-7bb4f6f3b23d>:7: FutureWarning: The default value of regex will change from True to False in a future version.\n",
      "  attacks_df['Date'] = attacks_df.Date.str.replace(r'^.*B.C.*', '0')\n",
      "<ipython-input-376-7bb4f6f3b23d>:8: FutureWarning: The default value of regex will change from True to False in a future version.\n",
      "  attacks_df['Date'] = attacks_df.Date.str.replace(r'^.*A.D.*', '0')\n"
     ]
    },
    {
     "data": {
      "text/plain": [
       "attacks_ID\n",
       "1       2018\n",
       "2       2018\n",
       "3       2018\n",
       "4       2018\n",
       "5       2018\n",
       "        ... \n",
       "6298    1903\n",
       "6299    1903\n",
       "6300    1905\n",
       "6301    1889\n",
       "6302    1853\n",
       "Name: Date, Length: 6302, dtype: object"
      ]
     },
     "execution_count": 376,
     "metadata": {},
     "output_type": "execute_result"
    }
   ],
   "source": [
    "# In order to know the general tendence of the attacks, we decide to get the year\n",
    "attacks_df['Date'] = attacks_df['Date'].astype(str)\n",
    "attacks_df['Date'] = attacks_df.Date.str.replace(r'^.*(\\d\\d\\d\\d).*', r'\\1')\n",
    "attacks_df['Date'] = attacks_df.Date.str.replace(r'^.*\\D(\\d\\d\\d)\\D.*', r'\\1')\n",
    "attacks_df['Date'] = attacks_df.Date.str.replace(r'^.*ar.*', '1939')\n",
    "attacks_df['Date'].replace(('No date', 'NaN'), inplace = True)\n",
    "attacks_df['Date'] = attacks_df.Date.str.replace(r'^.*B.C.*', '0')\n",
    "attacks_df['Date'] = attacks_df.Date.str.replace(r'^.*A.D.*', '0')\n",
    "attacks_df['Date'].replace(('\\n1951.12.15.R', '1951'), inplace = True)\n",
    "attacks_df['Date'].replace(('22-Jul-144', 'NaN'), inplace = True)\n",
    "attacks_df['Date'].replace(('Reported 26-Sep-t937', 'NaN'), inplace = True)\n",
    "attacks_df['Date'].fillna('NaN') "
   ]
  },
  {
   "cell_type": "code",
   "execution_count": 377,
   "id": "swiss-buffer",
   "metadata": {},
   "outputs": [
    {
     "data": {
      "text/plain": [
       "array(['2018', '2017', '2016', '2015', '2014', '2013', '2012', '2011',\n",
       "       '2008', '2010', '2009', '2006', '2007', '2005', '2004', '2003',\n",
       "       '2002', '2001', '2000', '1999', '1998', '1997', '1996', '1995',\n",
       "       '1984', '1994', '1993', '1992', '1991', '1990', '1989', '1988',\n",
       "       '1987', '1986', '1985', '1983', '1982', '1981', '1980', '1979',\n",
       "       '1978', '1977', '1976', '1975', '1974', '1973', '1972', '1971',\n",
       "       '1970', '1969', '1968', '1967', '1966', '1965', '1964', '1954',\n",
       "       '1963', '1962', '1961', '1960', '1959', '1764', '1958', '1957',\n",
       "       '1956', '1955', '9955', '1953', '1952', '1950', '1949', '1948',\n",
       "       '1848', '1947', '1946', '1945', '1944', '1943', '1942', '1941',\n",
       "       '1940', '1939', '1938', '1937', '1936', '1935', '1934', '1933',\n",
       "       '1932', '1931', '1930', '1929', '1928', '1927', '1926', '1925',\n",
       "       '1924', '1923', '1922', '1921', '1920', '1919', '1918', '1917',\n",
       "       '1916', '1915', '1914', '1913', '1912', '1911', '1910', '1909',\n",
       "       '1908', '1907', '1906', '1905', '1904', '1903', '1902', '1901',\n",
       "       '1900', '1899', '1898', '1897', '1896', '1895', '1894', '1893',\n",
       "       '1892', '1891', '1890', '1889', '1888', '1887', '1886', '1885',\n",
       "       '1884', '1883', '1844', '1882', '1881', '1880', '1879', '1878',\n",
       "       '1877', '1876', '1875', '1874', '1870', '1873', '1872', '1871',\n",
       "       '1869', '1868', '1867', '1866', '1865', '1864', '1863', '1862',\n",
       "       '1861', '1860', '1859', '1858', '1857', '1856', '1855', '1853',\n",
       "       '1854', '1852', '1851', '1850', '1849', '1847', '1846', '1845',\n",
       "       '1842', '1841', '1840', '1839', '1837', '1836', '1835', '1834',\n",
       "       '1832', '1831', '1830', '1829', '1828', '1827', '1826', '1820',\n",
       "       '1825', '1823', '1822', '1819', '1818', '1817', '1816', '1815',\n",
       "       '1812', '1811', '1810', '1808', '1807', '1806', '1805', '1804',\n",
       "       '1803', '1802', '1801', '1800', '1797', '1792', '1791', '1788',\n",
       "       '1787', '1786', '1785', '1784', '1783', '1780', '1779', '1776',\n",
       "       '1771', '1767', '1758', '1753', '1751', '1749', '1755', '1748',\n",
       "       '1742', '1738', '1733', '1723', '1721', '1703', '1700', '1728',\n",
       "       '1638', '1637', '1617', '1642', '1595', '1580', '1555', '1554',\n",
       "       '1543', '500', '0', '214', '336', '725'], dtype=object)"
      ]
     },
     "execution_count": 377,
     "metadata": {},
     "output_type": "execute_result"
    }
   ],
   "source": [
    "attacks_df.Date.unique()"
   ]
  },
  {
   "cell_type": "code",
   "execution_count": 378,
   "id": "intensive-reduction",
   "metadata": {},
   "outputs": [
    {
     "data": {
      "text/plain": [
       "2015    0.022691\n",
       "2017    0.021739\n",
       "2016    0.020787\n",
       "2011    0.020470\n",
       "2014    0.020311\n",
       "          ...   \n",
       "1751    0.000159\n",
       "1738    0.000159\n",
       "1815    0.000159\n",
       "500     0.000159\n",
       "1822    0.000159\n",
       "Name: Date, Length: 254, dtype: float64"
      ]
     },
     "execution_count": 378,
     "metadata": {},
     "output_type": "execute_result"
    }
   ],
   "source": [
    "attacks_df.Date.value_counts(normalize=True)"
   ]
  },
  {
   "cell_type": "code",
   "execution_count": 379,
   "id": "consolidated-greensboro",
   "metadata": {},
   "outputs": [
    {
     "data": {
      "text/plain": [
       "count     6302\n",
       "unique     254\n",
       "top       2015\n",
       "freq       143\n",
       "Name: Date, dtype: object"
      ]
     },
     "execution_count": 379,
     "metadata": {},
     "output_type": "execute_result"
    }
   ],
   "source": [
    "attacks_df.Date.describe()"
   ]
  },
  {
   "cell_type": "code",
   "execution_count": 335,
   "id": "wicked-nashville",
   "metadata": {},
   "outputs": [
    {
     "data": {
      "image/png": "[encoded data removed]",
      "text/plain": [
       "<Figure size 432x288 with 1 Axes>"
      ]
     },
     "metadata": {
      "needs_background": "light"
     },
     "output_type": "display_data"
    }
   ],
   "source": [
    "years_ = pd.to_numeric(attacks_df['Date'], errors = 'coerce')\n",
    "years = years_.sort_values()\n",
    "\n",
    "sns.countplot(x = years);"
   ]
  },
  {
   "cell_type": "markdown",
   "id": "indoor-broad",
   "metadata": {},
   "source": [
    "## Location"
   ]
  },
  {
   "cell_type": "code",
   "execution_count": 380,
   "id": "voluntary-withdrawal",
   "metadata": {},
   "outputs": [
    {
     "data": {
      "text/plain": [
       "count                                 5762\n",
       "unique                                4108\n",
       "top       New Smyrna Beach, Volusia County\n",
       "freq                                   163\n",
       "Name: Location, dtype: object"
      ]
     },
     "execution_count": 380,
     "metadata": {},
     "output_type": "execute_result"
    }
   ],
   "source": [
    "attacks_df.Location.describe()"
   ]
  },
  {
   "cell_type": "code",
   "execution_count": 381,
   "id": "duplicate-pitch",
   "metadata": {},
   "outputs": [
    {
     "data": {
      "text/plain": [
       "NaN                                                        540\n",
       "New Smyrna Beach, Volusia County                           163\n",
       "Daytona Beach, Volusia County                               30\n",
       "Ponce Inlet, Volusia County                                 20\n",
       "Melbourne Beach, Brevard County                             18\n",
       "                                                          ... \n",
       "Winterhaven Park,           Ponce Inlet, Volusia County      1\n",
       "Georgetown County                                            1\n",
       "Van Ness Municipal Pier, San Francisco                       1\n",
       "Tenth Island (King Island)                                   1\n",
       "Sandy Bay/Whananaki                                          1\n",
       "Name: Location, Length: 4109, dtype: int64"
      ]
     },
     "execution_count": 381,
     "metadata": {},
     "output_type": "execute_result"
    }
   ],
   "source": [
    "attacks_df.Location.value_counts(dropna=False)"
   ]
  },
  {
   "cell_type": "code",
   "execution_count": 382,
   "id": "elect-ceramic",
   "metadata": {},
   "outputs": [],
   "source": [
    "# There are so many unique values, it's necessary to group them, or use the Area/Country instead the Location\n",
    "new_Location = attacks_df.Location.str.extract(r'(?P<Beach>.+),(?P<County>.+)')[['County', 'Beach']]"
   ]
  },
  {
   "cell_type": "code",
   "execution_count": 339,
   "id": "characteristic-donor",
   "metadata": {},
   "outputs": [
    {
     "data": {
      "text/plain": [
       "count                2795\n",
       "unique                838\n",
       "top        Volusia County\n",
       "freq                  295\n",
       "Name: County, dtype: object"
      ]
     },
     "execution_count": 339,
     "metadata": {},
     "output_type": "execute_result"
    }
   ],
   "source": [
    "new_Location.County.describe()"
   ]
  },
  {
   "cell_type": "code",
   "execution_count": 340,
   "id": "greek-traffic",
   "metadata": {},
   "outputs": [
    {
     "data": {
      "text/plain": [
       "count        5847\n",
       "unique        825\n",
       "top       Florida\n",
       "freq         1037\n",
       "Name: Area, dtype: object"
      ]
     },
     "execution_count": 340,
     "metadata": {},
     "output_type": "execute_result"
    }
   ],
   "source": [
    "attacks_df.Area.describe()"
   ]
  },
  {
   "cell_type": "code",
   "execution_count": 341,
   "id": "gross-breast",
   "metadata": {},
   "outputs": [
    {
     "data": {
      "text/plain": [
       "count     6252\n",
       "unique     212\n",
       "top        USA\n",
       "freq      2229\n",
       "Name: Country, dtype: object"
      ]
     },
     "execution_count": 341,
     "metadata": {},
     "output_type": "execute_result"
    }
   ],
   "source": [
    "attacks_df.Country.describe()"
   ]
  },
  {
   "cell_type": "code",
   "execution_count": 342,
   "id": "latest-audit",
   "metadata": {},
   "outputs": [
    {
     "data": {
      "text/plain": [
       "array(['USA', 'AUSTRALIA', 'MEXICO', 'BRAZIL', 'ENGLAND', 'SOUTH AFRICA',\n",
       "       'THAILAND', 'COSTA RICA', 'MALDIVES', 'BAHAMAS', 'NEW CALEDONIA',\n",
       "       'ECUADOR', 'MALAYSIA', 'LIBYA', nan, 'CUBA', 'MAURITIUS',\n",
       "       'NEW ZEALAND', 'SPAIN', 'SAMOA', 'SOLOMON ISLANDS', 'JAPAN',\n",
       "       'EGYPT', 'ST HELENA, British overseas territory', 'COMOROS',\n",
       "       'REUNION', 'FRENCH POLYNESIA', 'UNITED KINGDOM',\n",
       "       'UNITED ARAB EMIRATES', 'PHILIPPINES', 'INDONESIA', 'CHINA',\n",
       "       'COLUMBIA', 'CAPE VERDE', 'Fiji', 'DOMINICAN REPUBLIC',\n",
       "       'CAYMAN ISLANDS', 'ARUBA', 'MOZAMBIQUE', 'FIJI', 'PUERTO RICO',\n",
       "       'ITALY', 'ATLANTIC OCEAN', 'GREECE', 'ST. MARTIN', 'FRANCE',\n",
       "       'PAPUA NEW GUINEA', 'TRINIDAD & TOBAGO', 'KIRIBATI', 'ISRAEL',\n",
       "       'DIEGO GARCIA', 'TAIWAN', 'JAMAICA', 'PALESTINIAN TERRITORIES',\n",
       "       'GUAM', 'SEYCHELLES', 'BELIZE', 'NIGERIA', 'TONGA', 'SCOTLAND',\n",
       "       'CANADA', 'CROATIA', 'SAUDI ARABIA', 'CHILE', 'ANTIGUA', 'KENYA',\n",
       "       'RUSSIA', 'TURKS & CAICOS', 'UNITED ARAB EMIRATES (UAE)', 'AZORES',\n",
       "       'SOUTH KOREA', 'MALTA', 'VIETNAM', 'MADAGASCAR', 'PANAMA',\n",
       "       'SOMALIA', 'NEVIS', 'BRITISH VIRGIN ISLANDS', 'NORWAY', 'SENEGAL',\n",
       "       'YEMEN', 'GULF OF ADEN', 'Sierra Leone', 'ST. MAARTIN',\n",
       "       'GRAND CAYMAN', 'Seychelles', 'LIBERIA', 'VANUATU', 'MEXICO ',\n",
       "       'HONDURAS', 'VENEZUELA', 'SRI LANKA', ' TONGA', 'URUGUAY', 'INDIA',\n",
       "       'MICRONESIA', 'CARIBBEAN SEA', 'OKINAWA', 'TANZANIA',\n",
       "       'MARSHALL ISLANDS', 'EGYPT / ISRAEL', 'NORTHERN ARABIAN SEA',\n",
       "       'HONG KONG', 'EL SALVADOR', 'ANGOLA', 'BERMUDA', 'MONTENEGRO',\n",
       "       'IRAN', 'TUNISIA', 'NAMIBIA', 'NORTH ATLANTIC OCEAN', 'PORTUGAL',\n",
       "       'SOUTH CHINA SEA', 'BANGLADESH', 'PALAU', 'WESTERN SAMOA',\n",
       "       'PACIFIC OCEAN ', 'BRITISH ISLES', 'GRENADA', 'IRAQ', 'TURKEY',\n",
       "       'SINGAPORE', 'NEW BRITAIN', 'SUDAN', 'JOHNSTON ISLAND',\n",
       "       'SOUTH PACIFIC OCEAN', 'NEW GUINEA', 'RED SEA',\n",
       "       'NORTH PACIFIC OCEAN', 'FEDERATED STATES OF MICRONESIA',\n",
       "       'MID ATLANTIC OCEAN', 'ADMIRALTY ISLANDS', 'BRITISH WEST INDIES',\n",
       "       'SOUTH ATLANTIC OCEAN', 'PERSIAN GULF', 'RED SEA / INDIAN OCEAN',\n",
       "       'PACIFIC OCEAN', 'NORTH SEA', 'NICARAGUA ', 'MALDIVE ISLANDS',\n",
       "       'AMERICAN SAMOA', 'ANDAMAN / NICOBAR ISLANDAS', 'GABON', 'MAYOTTE',\n",
       "       'NORTH ATLANTIC OCEAN ', 'THE BALKANS', 'SUDAN?', 'ARGENTINA',\n",
       "       'MARTINIQUE', 'INDIAN OCEAN', 'GUATEMALA', 'NETHERLANDS ANTILLES',\n",
       "       'NORTHERN MARIANA ISLANDS', 'IRAN / IRAQ', 'JAVA', 'SIERRA LEONE',\n",
       "       ' PHILIPPINES', 'NICARAGUA', 'CENTRAL PACIFIC',\n",
       "       'SOLOMON ISLANDS / VANUATU', 'SOUTHWEST PACIFIC OCEAN',\n",
       "       'BAY OF BENGAL', 'MID-PACIFC OCEAN', 'SLOVENIA', 'CURACAO',\n",
       "       'ICELAND', 'ITALY / CROATIA', 'BARBADOS', 'MONACO', 'GUYANA',\n",
       "       'HAITI', 'SAN DOMINGO', 'IRELAND', 'KUWAIT', 'YEMEN ',\n",
       "       'REUNION ISLAND', 'FALKLAND ISLANDS', 'CRETE', 'CYPRUS', 'EGYPT ',\n",
       "       'WEST INDIES', 'BURMA', 'LEBANON', 'PARAGUAY',\n",
       "       'BRITISH NEW GUINEA', 'CEYLON', 'OCEAN', 'GEORGIA', 'SYRIA',\n",
       "       'TUVALU', 'INDIAN OCEAN?', 'GUINEA', 'ANDAMAN ISLANDS',\n",
       "       'EQUATORIAL GUINEA / CAMEROON', 'COOK ISLANDS', 'TOBAGO', 'PERU',\n",
       "       'AFRICA', 'ALGERIA', 'Coast of AFRICA', 'TASMAN SEA', 'GHANA',\n",
       "       'GREENLAND', 'MEDITERRANEAN SEA', 'SWEDEN', 'ROATAN',\n",
       "       'Between PORTUGAL & INDIA', 'DJIBOUTI', 'BAHREIN', 'KOREA',\n",
       "       'RED SEA?', 'ASIA?', 'CEYLON (SRI LANKA)'], dtype=object)"
      ]
     },
     "execution_count": 342,
     "metadata": {},
     "output_type": "execute_result"
    }
   ],
   "source": [
    "attacks_df.Country.unique()"
   ]
  },
  {
   "cell_type": "code",
   "execution_count": 343,
   "id": "extended-attention",
   "metadata": {},
   "outputs": [
    {
     "name": "stderr",
     "output_type": "stream",
     "text": [
      "<ipython-input-343-3ada7e76a166>:3: FutureWarning: The default value of regex will change from True to False in a future version.\n",
      "  attacks_df['Country'] = attacks_df.Country.str.replace(r'^(.*)\\s/.*', r'\\1')\n",
      "<ipython-input-343-3ada7e76a166>:4: FutureWarning: The default value of regex will change from True to False in a future version.\n",
      "  attacks_df['Country'] = attacks_df.Country.str.replace(r'^(.*)?', r'\\1')\n",
      "<ipython-input-343-3ada7e76a166>:5: FutureWarning: The default value of regex will change from True to False in a future version.\n",
      "  attacks_df['Country'] = attacks_df.Country.str.replace(r'^Between\\s(.*)\\s.*', r'\\1')\n",
      "<ipython-input-343-3ada7e76a166>:6: FutureWarning: The default value of regex will change from True to False in a future version.\n",
      "  attacks_df['Country'] = attacks_df.Country.str.replace(r'.*British*.', 'UNITED KINGDOM')\n",
      "<ipython-input-343-3ada7e76a166>:7: FutureWarning: The default value of regex will change from True to False in a future version.\n",
      "  attacks_df['Country'] = attacks_df.Country.str.replace(r'.*BRITISH*.', 'UNITED KINGDOM')\n",
      "<ipython-input-343-3ada7e76a166>:9: FutureWarning: The default value of regex will change from True to False in a future version.\n",
      "  attacks_df['Country'] = attacks_df.Country.str.replace(r'.*TURKS*.', 'TURKEY')\n"
     ]
    }
   ],
   "source": [
    "attacks_df['Country'].replace(('nan', 'NaN'), inplace = True)\n",
    "attacks_df['Country'].fillna('NaN')\n",
    "attacks_df['Country'] = attacks_df.Country.str.replace(r'^(.*)\\s/.*', r'\\1')\n",
    "attacks_df['Country'] = attacks_df.Country.str.replace(r'^(.*)?', r'\\1')\n",
    "attacks_df['Country'] = attacks_df.Country.str.replace(r'^Between\\s(.*)\\s.*', r'\\1')\n",
    "attacks_df['Country'] = attacks_df.Country.str.replace(r'.*British*.', 'UNITED KINGDOM')\n",
    "attacks_df['Country'] = attacks_df.Country.str.replace(r'.*BRITISH*.', 'UNITED KINGDOM')\n",
    "attacks_df['Country'].replace(('PALESTINIAN TERRITORIES', 'PALESTINA'), inplace = True)\n",
    "attacks_df['Country'] = attacks_df.Country.str.replace(r'.*TURKS*.', 'TURKEY')\n",
    "attacks_df['Country'].replace(('UNITED ARAB EMIRATES (UAE)', 'UNITED ARAB EMIRATES'), inplace = True)\n",
    "attacks_df['Country'].replace(('GULF OF ADEN', 'SOMALIA'), inplace = True)\n",
    "attacks_df['Country'].replace(('ST. MAARTIN', 'NETHERLANDS'), inplace = True)\n",
    "attacks_df['Country'].replace(('CEYLON (SRI LANKA)', 'SRI LANKA'), inplace = True)\n"
   ]
  },
  {
   "cell_type": "code",
   "execution_count": 344,
   "id": "flush-horror",
   "metadata": {},
   "outputs": [
    {
     "data": {
      "text/plain": [
       "count     6252\n",
       "unique     199\n",
       "top        USA\n",
       "freq      2235\n",
       "Name: Country, dtype: object"
      ]
     },
     "execution_count": 344,
     "metadata": {},
     "output_type": "execute_result"
    }
   ],
   "source": [
    "attacks_df.Country.describe()"
   ]
  },
  {
   "cell_type": "code",
   "execution_count": 383,
   "id": "boolean-platinum",
   "metadata": {},
   "outputs": [
    {
     "data": {
      "text/html": [
       "<div>\n",
       "<style scoped>\n",
       "    .dataframe tbody tr th:only-of-type {\n",
       "        vertical-align: middle;\n",
       "    }\n",
       "\n",
       "    .dataframe tbody tr th {\n",
       "        vertical-align: top;\n",
       "    }\n",
       "\n",
       "    .dataframe thead th {\n",
       "        text-align: right;\n",
       "    }\n",
       "</style>\n",
       "<table border=\"1\" class=\"dataframe\">\n",
       "  <thead>\n",
       "    <tr style=\"text-align: right;\">\n",
       "      <th></th>\n",
       "      <th>Year</th>\n",
       "      <th>original order</th>\n",
       "    </tr>\n",
       "  </thead>\n",
       "  <tbody>\n",
       "    <tr>\n",
       "      <th>Year</th>\n",
       "      <td>1.000000</td>\n",
       "      <td>0.388638</td>\n",
       "    </tr>\n",
       "    <tr>\n",
       "      <th>original order</th>\n",
       "      <td>0.388638</td>\n",
       "      <td>1.000000</td>\n",
       "    </tr>\n",
       "  </tbody>\n",
       "</table>\n",
       "</div>"
      ],
      "text/plain": [
       "                    Year  original order\n",
       "Year            1.000000        0.388638\n",
       "original order  0.388638        1.000000"
      ]
     },
     "execution_count": 383,
     "metadata": {},
     "output_type": "execute_result"
    }
   ],
   "source": [
    "attacks_df.corr()"
   ]
  },
  {
   "cell_type": "markdown",
   "id": "adopted-thread",
   "metadata": {},
   "source": [
    "> Top model 2: __Space-time statistics__\n",
    "\n",
    ">_Procedure_\n",
    ">- Cleaning Date series (we start with 5433 different values, and decide to reduce it to the years in order to have a view of the general tendence, getting 254 unique values)\n",
    ">- Cleaning Location series \n",
    " \n",
    ">_Conclusions_\n"
   ]
  },
  {
   "cell_type": "code",
   "execution_count": 99,
   "id": "assumed-production",
   "metadata": {},
   "outputs": [
    {
     "data": {
      "text/plain": [
       "'\\n2. Toy model 2: space-time statistics\\n   1. Focus on date and location columns\\n   2. Choose a cleaning strategy\\n   3. Extract statistics and draw at least two graphs that are insightful\\n   4. Report your procedure and conclusions with a paragraph\\n'"
      ]
     },
     "execution_count": 99,
     "metadata": {},
     "output_type": "execute_result"
    }
   ],
   "source": [
    "'''\n",
    "2. Toy model 2: space-time statistics\n",
    "   1. Focus on date and location columns\n",
    "   2. Choose a cleaning strategy\n",
    "   3. Extract statistics and draw at least two graphs that are insightful\n",
    "   4. Report your procedure and conclusions with a paragraph\n",
    "'''"
   ]
  }
 ],
 "metadata": {
  "kernelspec": {
   "display_name": "Python 3",
   "language": "python",
   "name": "python3"
  },
  "language_info": {
   "codemirror_mode": {
    "name": "ipython",
    "version": 3
   },
   "file_extension": ".py",
   "mimetype": "text/x-python",
   "name": "python",
   "nbconvert_exporter": "python",
   "pygments_lexer": "ipython3",
   "version": "3.8.2"
  }
 },
 "nbformat": 4,
 "nbformat_minor": 5
}
